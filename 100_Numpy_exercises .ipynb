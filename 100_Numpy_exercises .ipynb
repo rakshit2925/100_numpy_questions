{
 "cells": [
  {
   "cell_type": "markdown",
   "id": "d46e26d4",
   "metadata": {},
   "source": [
    "# 100 numpy exercises\n",
    "\n",
    "This is a collection of exercises that have been collected in the numpy mailing list. \n",
    "\n"
   ]
  },
  {
   "cell_type": "markdown",
   "id": "1ce7c53f",
   "metadata": {},
   "source": [
    "Run the `initialize.py` module, then for each question you can query the\n",
    "answer or an hint with `hint(n)` or `answer(n)` for `n` question number."
   ]
  },
  {
   "cell_type": "markdown",
   "id": "dcc6b1ac",
   "metadata": {},
   "source": [
    "#### 1. Import the numpy package under the name `np` (★☆☆)"
   ]
  },
  {
   "cell_type": "code",
   "execution_count": 5,
   "id": "6c52078e",
   "metadata": {},
   "outputs": [],
   "source": [
    "import numpy as np"
   ]
  },
  {
   "cell_type": "markdown",
   "id": "118ded29",
   "metadata": {},
   "source": [
    "#### 2. Print the numpy version and the configuration (★☆☆)"
   ]
  },
  {
   "cell_type": "code",
   "execution_count": 31,
   "id": "23daa16e-6395-40af-83cf-c342edc791f1",
   "metadata": {},
   "outputs": [
    {
     "name": "stdout",
     "output_type": "stream",
     "text": [
      "['ALLOW_THREADS', 'BUFSIZE', 'CLIP', 'DataSource', 'ERR_CALL', 'ERR_DEFAULT', 'ERR_IGNORE', 'ERR_LOG', 'ERR_PRINT', 'ERR_RAISE', 'ERR_WARN', 'FLOATING_POINT_SUPPORT', 'FPE_DIVIDEBYZERO', 'FPE_INVALID', 'FPE_OVERFLOW', 'FPE_UNDERFLOW', 'False_', 'Inf', 'Infinity', 'MAXDIMS', 'MAY_SHARE_BOUNDS', 'MAY_SHARE_EXACT', 'NAN', 'NINF', 'NZERO', 'NaN', 'PINF', 'PZERO', 'RAISE', 'RankWarning', 'SHIFT_DIVIDEBYZERO', 'SHIFT_INVALID', 'SHIFT_OVERFLOW', 'SHIFT_UNDERFLOW', 'ScalarType', 'True_', 'UFUNC_BUFSIZE_DEFAULT', 'UFUNC_PYVALS_NAME', 'WRAP', '_CopyMode', '_NoValue', '_UFUNC_API', '__NUMPY_SETUP__', '__all__', '__builtins__', '__cached__', '__config__', '__deprecated_attrs__', '__dir__', '__doc__', '__expired_functions__', '__file__', '__former_attrs__', '__future_scalars__', '__getattr__', '__loader__', '__name__', '__package__', '__path__', '__spec__', '__version__', '_add_newdoc_ufunc', '_builtins', '_core', '_distributor_init', '_financial_names', '_get_promotion_state', '_globals', '_int_extended_msg', '_mat', '_no_nep50_warning', '_pyinstaller_hooks_dir', '_pytesttester', '_set_promotion_state', '_specific_msg', '_typing', '_using_numpy2_behavior', '_utils', 'abs', 'absolute', 'add', 'add_docstring', 'add_newdoc', 'add_newdoc_ufunc', 'all', 'allclose', 'alltrue', 'amax', 'amin', 'angle', 'any', 'append', 'apply_along_axis', 'apply_over_axes', 'arange', 'arccos', 'arccosh', 'arcsin', 'arcsinh', 'arctan', 'arctan2', 'arctanh', 'argmax', 'argmin', 'argpartition', 'argsort', 'argwhere', 'around', 'array', 'array2string', 'array_equal', 'array_equiv', 'array_repr', 'array_split', 'array_str', 'asanyarray', 'asarray', 'asarray_chkfinite', 'ascontiguousarray', 'asfarray', 'asfortranarray', 'asmatrix', 'atleast_1d', 'atleast_2d', 'atleast_3d', 'average', 'bartlett', 'base_repr', 'binary_repr', 'bincount', 'bitwise_and', 'bitwise_not', 'bitwise_or', 'bitwise_xor', 'blackman', 'block', 'bmat', 'bool_', 'broadcast', 'broadcast_arrays', 'broadcast_shapes', 'broadcast_to', 'busday_count', 'busday_offset', 'busdaycalendar', 'byte', 'byte_bounds', 'bytes_', 'c_', 'can_cast', 'cast', 'cbrt', 'cdouble', 'ceil', 'cfloat', 'char', 'character', 'chararray', 'choose', 'clip', 'clongdouble', 'clongfloat', 'column_stack', 'common_type', 'compare_chararrays', 'compat', 'complex128', 'complex64', 'complex_', 'complexfloating', 'compress', 'concatenate', 'conj', 'conjugate', 'convolve', 'copy', 'copysign', 'copyto', 'corrcoef', 'correlate', 'cos', 'cosh', 'count_nonzero', 'cov', 'cross', 'csingle', 'ctypeslib', 'cumprod', 'cumproduct', 'cumsum', 'datetime64', 'datetime_as_string', 'datetime_data', 'deg2rad', 'degrees', 'delete', 'deprecate', 'deprecate_with_doc', 'diag', 'diag_indices', 'diag_indices_from', 'diagflat', 'diagonal', 'diff', 'digitize', 'disp', 'divide', 'divmod', 'dot', 'double', 'dsplit', 'dstack', 'dtype', 'dtypes', 'e', 'ediff1d', 'einsum', 'einsum_path', 'emath', 'empty', 'empty_like', 'equal', 'errstate', 'euler_gamma', 'exceptions', 'exp', 'exp2', 'expand_dims', 'expm1', 'expm1x', 'extract', 'eye', 'fabs', 'fastCopyAndTranspose', 'fft', 'fill_diagonal', 'find_common_type', 'finfo', 'fix', 'flatiter', 'flatnonzero', 'flexible', 'flip', 'fliplr', 'flipud', 'float16', 'float32', 'float64', 'float_', 'float_power', 'floating', 'floor', 'floor_divide', 'fmax', 'fmin', 'fmod', 'format_float_positional', 'format_float_scientific', 'format_parser', 'frexp', 'from_dlpack', 'frombuffer', 'fromfile', 'fromfunction', 'fromiter', 'frompyfunc', 'fromregex', 'fromstring', 'full', 'full_like', 'gcd', 'generic', 'genfromtxt', 'geomspace', 'get_array_wrap', 'get_include', 'get_printoptions', 'getbufsize', 'geterr', 'geterrcall', 'geterrobj', 'gradient', 'greater', 'greater_equal', 'half', 'hamming', 'hanning', 'heaviside', 'histogram', 'histogram2d', 'histogram_bin_edges', 'histogramdd', 'hsplit', 'hstack', 'hypot', 'i0', 'identity', 'iinfo', 'imag', 'in1d', 'index_exp', 'indices', 'inexact', 'inf', 'info', 'infty', 'inner', 'insert', 'int16', 'int32', 'int64', 'int8', 'int_', 'intc', 'integer', 'interp', 'intersect1d', 'intp', 'invert', 'is_busday', 'isclose', 'iscomplex', 'iscomplexobj', 'isfinite', 'isfortran', 'isin', 'isinf', 'isnan', 'isnat', 'isneginf', 'isposinf', 'isreal', 'isrealobj', 'isscalar', 'issctype', 'issubclass_', 'issubdtype', 'issubsctype', 'iterable', 'ix_', 'kaiser', 'kron', 'lcm', 'ldexp', 'left_shift', 'less', 'less_equal', 'lexsort', 'lib', 'linalg', 'linspace', 'little_endian', 'load', 'loadtxt', 'log', 'log10', 'log1p', 'log2', 'logaddexp', 'logaddexp2', 'logical_and', 'logical_not', 'logical_or', 'logical_xor', 'logspace', 'longcomplex', 'longdouble', 'longfloat', 'longlong', 'lookfor', 'ma', 'mask_indices', 'mat', 'matmul', 'matrix', 'max', 'maximum', 'maximum_sctype', 'may_share_memory', 'mean', 'median', 'memmap', 'meshgrid', 'mgrid', 'min', 'min_scalar_type', 'minimum', 'mintypecode', 'mod', 'modf', 'moveaxis', 'msort', 'multiply', 'nan', 'nan_to_num', 'nanargmax', 'nanargmin', 'nancumprod', 'nancumsum', 'nanmax', 'nanmean', 'nanmedian', 'nanmin', 'nanpercentile', 'nanprod', 'nanquantile', 'nanstd', 'nansum', 'nanvar', 'nbytes', 'ndarray', 'ndenumerate', 'ndim', 'ndindex', 'nditer', 'negative', 'nested_iters', 'newaxis', 'nextafter', 'nonzero', 'not_equal', 'numarray', 'number', 'obj2sctype', 'object_', 'ogrid', 'oldnumeric', 'ones', 'ones_like', 'outer', 'packbits', 'pad', 'partition', 'percentile', 'pi', 'piecewise', 'place', 'poly', 'poly1d', 'polyadd', 'polyder', 'polydiv', 'polyfit', 'polyint', 'polymul', 'polynomial', 'polysub', 'polyval', 'positive', 'power', 'printoptions', 'prod', 'product', 'promote_types', 'ptp', 'put', 'put_along_axis', 'putmask', 'quantile', 'r_', 'rad2deg', 'radians', 'random', 'ravel', 'ravel_multi_index', 'real', 'real_if_close', 'rec', 'recarray', 'recfromcsv', 'recfromtxt', 'reciprocal', 'record', 'remainder', 'repeat', 'require', 'reshape', 'resize', 'result_type', 'right_shift', 'rint', 'roll', 'rollaxis', 'roots', 'rot90', 'round', 'round_', 'row_stack', 's_', 'safe_eval', 'save', 'savetxt', 'savez', 'savez_compressed', 'sctype2char', 'sctypeDict', 'sctypes', 'searchsorted', 'select', 'set_numeric_ops', 'set_printoptions', 'set_string_function', 'setbufsize', 'setdiff1d', 'seterr', 'seterrcall', 'seterrobj', 'setxor1d', 'shape', 'shares_memory', 'short', 'show_config', 'show_runtime', 'sign', 'signbit', 'signedinteger', 'sin', 'sinc', 'single', 'singlecomplex', 'sinh', 'size', 'sometrue', 'sort', 'sort_complex', 'source', 'spacing', 'split', 'sqrt', 'square', 'squeeze', 'stack', 'std', 'str_', 'string_', 'subtract', 'sum', 'swapaxes', 'take', 'take_along_axis', 'tan', 'tanh', 'tensordot', 'test', 'testing', 'tile', 'timedelta64', 'trace', 'tracemalloc_domain', 'transpose', 'trapz', 'tri', 'tril', 'tril_indices', 'tril_indices_from', 'trim_zeros', 'triu', 'triu_indices', 'triu_indices_from', 'true_divide', 'trunc', 'typecodes', 'typename', 'ubyte', 'ufunc', 'uint', 'uint16', 'uint32', 'uint64', 'uint8', 'uintc', 'uintp', 'ulonglong', 'unicode_', 'union1d', 'unique', 'unpackbits', 'unravel_index', 'unsignedinteger', 'unwrap', 'ushort', 'vander', 'var', 'vdot', 'vectorize', 'version', 'void', 'vsplit', 'vstack', 'where', 'who', 'zeros', 'zeros_like']\n"
     ]
    }
   ],
   "source": [
    "print(dir(np))"
   ]
  },
  {
   "cell_type": "code",
   "execution_count": 33,
   "id": "023a2c52",
   "metadata": {},
   "outputs": [
    {
     "name": "stdout",
     "output_type": "stream",
     "text": [
      "1.26.4\n",
      "Build Dependencies:\n",
      "  blas:\n",
      "    detection method: pkgconfig\n",
      "    found: true\n",
      "    include directory: /c/opt/64/include\n",
      "    lib directory: /c/opt/64/lib\n",
      "    name: openblas64\n",
      "    openblas configuration: USE_64BITINT=1 DYNAMIC_ARCH=1 DYNAMIC_OLDER= NO_CBLAS=\n",
      "      NO_LAPACK= NO_LAPACKE= NO_AFFINITY=1 USE_OPENMP= SKYLAKEX MAX_THREADS=2\n",
      "    pc file directory: C:/opt/64/lib/pkgconfig\n",
      "    version: 0.3.23.dev\n",
      "  lapack:\n",
      "    detection method: internal\n",
      "    found: true\n",
      "    include directory: unknown\n",
      "    lib directory: unknown\n",
      "    name: dep3179274605568\n",
      "    openblas configuration: unknown\n",
      "    pc file directory: unknown\n",
      "    version: 1.26.4\n",
      "Compilers:\n",
      "  c:\n",
      "    commands: cl\n",
      "    linker: link\n",
      "    name: msvc\n",
      "    version: 19.29.30153\n",
      "  c++:\n",
      "    commands: cl\n",
      "    linker: link\n",
      "    name: msvc\n",
      "    version: 19.29.30153\n",
      "  cython:\n",
      "    commands: cython\n",
      "    linker: cython\n",
      "    name: cython\n",
      "    version: 3.0.8\n",
      "Machine Information:\n",
      "  build:\n",
      "    cpu: x86_64\n",
      "    endian: little\n",
      "    family: x86_64\n",
      "    system: windows\n",
      "  host:\n",
      "    cpu: x86_64\n",
      "    endian: little\n",
      "    family: x86_64\n",
      "    system: windows\n",
      "Python Information:\n",
      "  path: C:\\Users\\runneradmin\\AppData\\Local\\Temp\\cibw-run-g7slqwov\\cp312-win_amd64\\build\\venv\\Scripts\\python.exe\n",
      "  version: '3.12'\n",
      "SIMD Extensions:\n",
      "  baseline:\n",
      "  - SSE\n",
      "  - SSE2\n",
      "  - SSE3\n",
      "  found:\n",
      "  - SSSE3\n",
      "  - SSE41\n",
      "  - POPCNT\n",
      "  - SSE42\n",
      "  - AVX\n",
      "  - F16C\n",
      "  - FMA3\n",
      "  - AVX2\n",
      "  not found:\n",
      "  - AVX512F\n",
      "  - AVX512CD\n",
      "  - AVX512_SKX\n",
      "  - AVX512_CLX\n",
      "  - AVX512_CNL\n",
      "  - AVX512_ICL\n",
      "\n",
      "None\n"
     ]
    }
   ],
   "source": [
    "print(np.__version__)\n",
    "print(np.show_config())"
   ]
  },
  {
   "cell_type": "markdown",
   "id": "172b913a",
   "metadata": {},
   "source": [
    "#### 3. Create a null vector of size 10 (★☆☆)"
   ]
  },
  {
   "cell_type": "code",
   "execution_count": 7,
   "id": "df54025a",
   "metadata": {},
   "outputs": [
    {
     "name": "stdout",
     "output_type": "stream",
     "text": [
      "[0 0 0 0 0 0 0 0 0 0]\n"
     ]
    }
   ],
   "source": [
    "arr = [0] * 10\n",
    "np_array = np.array(arr)\n",
    "\n",
    "print(np_array)"
   ]
  },
  {
   "cell_type": "markdown",
   "id": "95ee9e07",
   "metadata": {},
   "source": [
    "#### 4. How to find the memory size of any array (★☆☆)"
   ]
  },
  {
   "cell_type": "code",
   "execution_count": 37,
   "id": "5c5b0950",
   "metadata": {},
   "outputs": [
    {
     "name": "stdout",
     "output_type": "stream",
     "text": [
      "Memory: 40\n",
      "Memory: 40\n"
     ]
    }
   ],
   "source": [
    "print(\"Memory:\",np_array.nbytes)\n",
    "\n",
    "### alternative\n",
    "print(\"Memory:\",np_array.size * (np_array[0].nbytes))"
   ]
  },
  {
   "cell_type": "markdown",
   "id": "45fca154",
   "metadata": {},
   "source": [
    "#### 5. How to get the documentation of the numpy add function from the command line? (★☆☆)"
   ]
  },
  {
   "cell_type": "code",
   "execution_count": 221,
   "id": "fcb1248a",
   "metadata": {},
   "outputs": [
    {
     "name": "stdout",
     "output_type": "stream",
     "text": [
      "Help on ufunc:\n",
      "\n",
      "add = <ufunc 'add'>\n",
      "    add(x1, x2, /, out=None, *, where=True, casting='same_kind', order='K', dtype=None, subok=True[, signature, extobj])\n",
      "\n",
      "    Add arguments element-wise.\n",
      "\n",
      "    Parameters\n",
      "    ----------\n",
      "    x1, x2 : array_like\n",
      "        The arrays to be added.\n",
      "        If ``x1.shape != x2.shape``, they must be broadcastable to a common\n",
      "        shape (which becomes the shape of the output).\n",
      "    out : ndarray, None, or tuple of ndarray and None, optional\n",
      "        A location into which the result is stored. If provided, it must have\n",
      "        a shape that the inputs broadcast to. If not provided or None,\n",
      "        a freshly-allocated array is returned. A tuple (possible only as a\n",
      "        keyword argument) must have length equal to the number of outputs.\n",
      "    where : array_like, optional\n",
      "        This condition is broadcast over the input. At locations where the\n",
      "        condition is True, the `out` array will be set to the ufunc result.\n",
      "        Elsewhere, the `out` array will retain its original value.\n",
      "        Note that if an uninitialized `out` array is created via the default\n",
      "        ``out=None``, locations within it where the condition is False will\n",
      "        remain uninitialized.\n",
      "    **kwargs\n",
      "        For other keyword-only arguments, see the\n",
      "        :ref:`ufunc docs <ufuncs.kwargs>`.\n",
      "\n",
      "    Returns\n",
      "    -------\n",
      "    add : ndarray or scalar\n",
      "        The sum of `x1` and `x2`, element-wise.\n",
      "        This is a scalar if both `x1` and `x2` are scalars.\n",
      "\n",
      "    Notes\n",
      "    -----\n",
      "    Equivalent to `x1` + `x2` in terms of array broadcasting.\n",
      "\n",
      "    Examples\n",
      "    --------\n",
      "    >>> np.add(1.0, 4.0)\n",
      "    5.0\n",
      "    >>> x1 = np.arange(9.0).reshape((3, 3))\n",
      "    >>> x2 = np.arange(3.0)\n",
      "    >>> np.add(x1, x2)\n",
      "    array([[  0.,   2.,   4.],\n",
      "           [  3.,   5.,   7.],\n",
      "           [  6.,   8.,  10.]])\n",
      "\n",
      "    The ``+`` operator can be used as a shorthand for ``np.add`` on ndarrays.\n",
      "\n",
      "    >>> x1 = np.arange(9.0).reshape((3, 3))\n",
      "    >>> x2 = np.arange(3.0)\n",
      "    >>> x1 + x2\n",
      "    array([[ 0.,  2.,  4.],\n",
      "           [ 3.,  5.,  7.],\n",
      "           [ 6.,  8., 10.]])\n",
      "\n"
     ]
    }
   ],
   "source": [
    "help(np.add)"
   ]
  },
  {
   "cell_type": "markdown",
   "id": "674e8019",
   "metadata": {},
   "source": [
    "#### 6. Create a null vector of size 10 but the fifth value which is 1 (★☆☆)"
   ]
  },
  {
   "cell_type": "code",
   "execution_count": 3,
   "id": "452df2a7",
   "metadata": {},
   "outputs": [
    {
     "name": "stdout",
     "output_type": "stream",
     "text": [
      "[0. 0. 0. 0. 1. 0. 0. 0. 0. 0.]\n"
     ]
    }
   ],
   "source": [
    "Z = np.zeros(10)\n",
    "Z[4] = 1\n",
    "print(Z)"
   ]
  },
  {
   "cell_type": "markdown",
   "id": "7685e337",
   "metadata": {},
   "source": [
    "#### 7. Create a vector with values ranging from 10 to 49 (★☆☆)"
   ]
  },
  {
   "cell_type": "code",
   "execution_count": 23,
   "id": "10847d11",
   "metadata": {},
   "outputs": [
    {
     "name": "stdout",
     "output_type": "stream",
     "text": [
      "[10 11 12 13 14 15 16 17 18 19 20 21 22 23 24 25 26 27 28 29 30 31 32 33\n",
      " 34 35 36 37 38 39 40 41 42 43 44 45 46 47 48 49]\n"
     ]
    }
   ],
   "source": [
    "### Using arange function \n",
    "arr = np.arange(10,50)\n",
    "print(arr)"
   ]
  },
  {
   "cell_type": "markdown",
   "id": "54c913ba",
   "metadata": {},
   "source": [
    "#### 8. Reverse a vector (first element becomes last) (★☆☆)"
   ]
  },
  {
   "cell_type": "code",
   "execution_count": 39,
   "id": "34722e83",
   "metadata": {},
   "outputs": [
    {
     "name": "stdout",
     "output_type": "stream",
     "text": [
      "[49 48 47 46 45 44 43 42 41 40 39 38 37 36 35 34 33 32 31 30 29 28 27 26\n",
      " 25 24 23 22 21 20 19 18 17 16 15 14 13 12 11 10]\n"
     ]
    }
   ],
   "source": [
    "reverse_arr = arr[::-1]\n",
    "print(reverse_arr)"
   ]
  },
  {
   "cell_type": "markdown",
   "id": "8e72fd08",
   "metadata": {},
   "source": [
    "#### 9. Create a 3x3 matrix with values ranging from 0 to 8 (★☆☆)"
   ]
  },
  {
   "cell_type": "code",
   "execution_count": 29,
   "id": "e18eef56",
   "metadata": {},
   "outputs": [
    {
     "name": "stdout",
     "output_type": "stream",
     "text": [
      "[49 48 47 46 45 44 43 42 41 40 39 38 37 36 35 34 33 32 31 30 29 28 27 26\n",
      " 25 24 23 22 21 20 19 18 17 16 15 14 13 12 11 10]\n"
     ]
    }
   ],
   "source": [
    "arr_3_3 = "
   ]
  },
  {
   "cell_type": "markdown",
   "id": "088424fc",
   "metadata": {},
   "source": [
    "#### 10. Find indices of non-zero elements from [1,2,0,0,4,0] (★☆☆)"
   ]
  },
  {
   "cell_type": "code",
   "execution_count": 46,
   "id": "9a402d06",
   "metadata": {},
   "outputs": [
    {
     "name": "stdout",
     "output_type": "stream",
     "text": [
      "[[0 1 2]\n",
      " [3 4 5]\n",
      " [6 7 8]]\n"
     ]
    }
   ],
   "source": [
    "arr_3by3 = np.arange(0,9).reshape(3,3)\n",
    "print(arr_3by3)"
   ]
  },
  {
   "cell_type": "markdown",
   "id": "3f347de9",
   "metadata": {},
   "source": [
    "#### 11. Create a 3x3 identity matrix (★☆☆)"
   ]
  },
  {
   "cell_type": "code",
   "execution_count": 80,
   "id": "e38459c2",
   "metadata": {},
   "outputs": [
    {
     "name": "stdout",
     "output_type": "stream",
     "text": [
      "[[1. 0. 0.]\n",
      " [0. 1. 0.]\n",
      " [0. 0. 1.]]\n"
     ]
    }
   ],
   "source": [
    "identity_3_3 = np.eye(3,3)\n",
    "print(identity_3_3)"
   ]
  },
  {
   "cell_type": "markdown",
   "id": "24e98f25",
   "metadata": {},
   "source": [
    "#### 12. Create a 3x3x3 array with random values (★☆☆)"
   ]
  },
  {
   "cell_type": "code",
   "execution_count": 64,
   "id": "94752bb3",
   "metadata": {},
   "outputs": [
    {
     "name": "stdout",
     "output_type": "stream",
     "text": [
      "[[[0.57902148 0.91337927 0.32228348]\n",
      "  [0.81233526 0.99617849 0.68112654]\n",
      "  [0.73628873 0.72412367 0.67177623]]\n",
      "\n",
      " [[0.99558139 0.74092598 0.01457798]\n",
      "  [0.10728593 0.70360559 0.73435555]\n",
      "  [0.9823521  0.44430548 0.769517  ]]\n",
      "\n",
      " [[0.59796984 0.27860354 0.46785745]\n",
      "  [0.04041739 0.03821366 0.9459953 ]\n",
      "  [0.78713759 0.75638442 0.83774423]]]\n"
     ]
    }
   ],
   "source": [
    "random_values_matrix = np.random.rand(3,3,3)\n",
    "\n",
    "print(random_values_matrix)"
   ]
  },
  {
   "cell_type": "markdown",
   "id": "7cbca2cc",
   "metadata": {},
   "source": [
    "#### 13. Create a 10x10 array with random values and find the minimum and maximum values (★☆☆)"
   ]
  },
  {
   "cell_type": "code",
   "execution_count": 98,
   "id": "c0643b1f",
   "metadata": {},
   "outputs": [
    {
     "name": "stdout",
     "output_type": "stream",
     "text": [
      "0.9964028511860966\n",
      "0.011004542760197245\n"
     ]
    }
   ],
   "source": [
    "arr = np.random.rand(10,10)\n",
    "max_val = np.max(arr.reshape(-1))\n",
    "min_val = np.min(arr.reshape(-1))\n",
    "print(max_val)\n",
    "print(min_val)"
   ]
  },
  {
   "cell_type": "markdown",
   "id": "6cab4cbb",
   "metadata": {},
   "source": [
    "#### 14. Create a random vector of size 30 and find the mean value (★☆☆)"
   ]
  },
  {
   "cell_type": "code",
   "execution_count": 100,
   "id": "e922a524",
   "metadata": {},
   "outputs": [
    {
     "name": "stdout",
     "output_type": "stream",
     "text": [
      "Average value: 0.4854462586922433\n"
     ]
    }
   ],
   "source": [
    "arr = np.random.rand(30)\n",
    "avg = np.mean(arr)\n",
    "print(\"Average value:\",avg)"
   ]
  },
  {
   "cell_type": "markdown",
   "id": "72053be8",
   "metadata": {},
   "source": [
    "#### 15. Create a 2d array with 1 on the border and 0 inside (★☆☆)"
   ]
  },
  {
   "cell_type": "code",
   "execution_count": 126,
   "id": "6bc84dfe",
   "metadata": {},
   "outputs": [
    {
     "name": "stdout",
     "output_type": "stream",
     "text": [
      "[[1. 1. 1. 1. 1. 1. 1. 1. 1. 1.]\n",
      " [1. 0. 0. 0. 0. 0. 0. 0. 0. 1.]\n",
      " [1. 0. 0. 0. 0. 0. 0. 0. 0. 1.]\n",
      " [1. 0. 0. 0. 0. 0. 0. 0. 0. 1.]\n",
      " [1. 0. 0. 0. 0. 0. 0. 0. 0. 1.]\n",
      " [1. 0. 0. 0. 0. 0. 0. 0. 0. 1.]\n",
      " [1. 0. 0. 0. 0. 0. 0. 0. 0. 1.]\n",
      " [1. 0. 0. 0. 0. 0. 0. 0. 0. 1.]\n",
      " [1. 0. 0. 0. 0. 0. 0. 0. 0. 1.]\n",
      " [1. 1. 1. 1. 1. 1. 1. 1. 1. 1.]]\n"
     ]
    }
   ],
   "source": [
    "row = 10\n",
    "col = 10\n",
    "\n",
    "arr = np.ones((row,col))\n",
    "arr[1:row - 1,1:col - 1] = 0\n",
    "print(arr)"
   ]
  },
  {
   "cell_type": "markdown",
   "id": "86b0206b",
   "metadata": {},
   "source": [
    "#### 16. How to add a border (filled with 0's) around an existing array? (★☆☆)"
   ]
  },
  {
   "cell_type": "code",
   "execution_count": 146,
   "id": "41e66e3e",
   "metadata": {},
   "outputs": [
    {
     "name": "stdout",
     "output_type": "stream",
     "text": [
      "[[0. 0. 0. 0. 0. 0. 0. 0. 0. 0. 0. 0.]\n",
      " [0. 1. 1. 1. 1. 1. 1. 1. 1. 1. 1. 0.]\n",
      " [0. 1. 1. 1. 1. 1. 1. 1. 1. 1. 1. 0.]\n",
      " [0. 1. 1. 1. 1. 1. 1. 1. 1. 1. 1. 0.]\n",
      " [0. 1. 1. 1. 1. 1. 1. 1. 1. 1. 1. 0.]\n",
      " [0. 1. 1. 1. 1. 1. 1. 1. 1. 1. 1. 0.]\n",
      " [0. 1. 1. 1. 1. 1. 1. 1. 1. 1. 1. 0.]\n",
      " [0. 1. 1. 1. 1. 1. 1. 1. 1. 1. 1. 0.]\n",
      " [0. 1. 1. 1. 1. 1. 1. 1. 1. 1. 1. 0.]\n",
      " [0. 1. 1. 1. 1. 1. 1. 1. 1. 1. 1. 0.]\n",
      " [0. 1. 1. 1. 1. 1. 1. 1. 1. 1. 1. 0.]\n",
      " [0. 0. 0. 0. 0. 0. 0. 0. 0. 0. 0. 0.]]\n"
     ]
    }
   ],
   "source": [
    "arr = np.ones((row,col))\n",
    "padded_arr = np.zeros((row + 2,col + 2))\n",
    "\n",
    "padded_arr[1 : -1,1 : - 1] = arr\n",
    "\n",
    "print(padded_arr)"
   ]
  },
  {
   "cell_type": "markdown",
   "id": "98a45574",
   "metadata": {},
   "source": [
    "#### 17. What is the result of the following expression? (★☆☆)\n",
    "```python\n",
    "0 * np.nan\n",
    "np.nan == np.nan\n",
    "np.inf > np.nan\n",
    "np.nan - np.nan\n",
    "np.nan in set([np.nan])\n",
    "0.3 == 3 * 0.1\n",
    "```"
   ]
  },
  {
   "cell_type": "code",
   "execution_count": 170,
   "id": "7eb533d5",
   "metadata": {},
   "outputs": [
    {
     "name": "stdout",
     "output_type": "stream",
     "text": [
      "0 * np.nan: nan\n",
      "np.nan == np.nan :  False\n",
      "np.inf > np.nan :  False\n",
      "np.nan - np.nan: nan\n",
      "True\n",
      "False\n"
     ]
    }
   ],
   "source": [
    "print(\"0 * np.nan:\",0 * np.nan)\n",
    "print(\"np.nan == np.nan : \",np.nan == np.nan)\n",
    "print(\"np.inf > np.nan : \",np.inf > np.nan)\n",
    "print(\"np.nan - np.nan:\",np.nan - np.nan)\n",
    "print(np.nan in set([np.nan]))\n",
    "print(0.3 == 3 * 0.1)"
   ]
  },
  {
   "cell_type": "markdown",
   "id": "1486619a",
   "metadata": {},
   "source": [
    "#### 18. Create a 5x5 matrix with values 1,2,3,4 just below the diagonal (★☆☆)"
   ]
  },
  {
   "cell_type": "code",
   "execution_count": 219,
   "id": "2b9fb59c",
   "metadata": {},
   "outputs": [
    {
     "name": "stdout",
     "output_type": "stream",
     "text": [
      "[[0 0 0 0 0]\n",
      " [1 0 0 0 0]\n",
      " [0 2 0 0 0]\n",
      " [0 0 3 0 0]\n",
      " [0 0 0 4 0]]\n"
     ]
    }
   ],
   "source": [
    "matrix = np.zeros((5, 5), dtype=int)\n",
    "np.fill_diagonal(matrix[1:], [1, 2, 3, 4])\n",
    "\n",
    "print(matrix)"
   ]
  },
  {
   "cell_type": "markdown",
   "id": "319287fd",
   "metadata": {},
   "source": [
    "#### 19. Create a 8x8 matrix and fill it with a checkerboard pattern (★☆☆)"
   ]
  },
  {
   "cell_type": "code",
   "execution_count": 211,
   "id": "299f5e60",
   "metadata": {},
   "outputs": [
    {
     "name": "stdout",
     "output_type": "stream",
     "text": [
      "[[0 1 0 1 0 1 0 1]\n",
      " [1 0 1 0 1 0 1 0]\n",
      " [0 1 0 1 0 1 0 1]\n",
      " [1 0 1 0 1 0 1 0]\n",
      " [0 1 0 1 0 1 0 1]\n",
      " [1 0 1 0 1 0 1 0]\n",
      " [0 1 0 1 0 1 0 1]\n",
      " [1 0 1 0 1 0 1 0]]\n"
     ]
    }
   ],
   "source": [
    "chess_board = np.zeros((8,8),dtype=int)\n",
    "chess_board[1::2,::2] = 1\n",
    "chess_board[::2,1::2] = 1\n",
    "print(chess_board)"
   ]
  },
  {
   "cell_type": "markdown",
   "id": "fb1686ed",
   "metadata": {},
   "source": [
    "#### 20. Consider a (6,7,8) shape array, what is the index (x,y,z) of the 100th element? (★☆☆)"
   ]
  },
  {
   "cell_type": "code",
   "execution_count": 217,
   "id": "22888cc4",
   "metadata": {},
   "outputs": [
    {
     "name": "stdout",
     "output_type": "stream",
     "text": [
      "(1, 5, 3)\n"
     ]
    }
   ],
   "source": [
    "index = np.unravel_index(99, (6,7,8))\n",
    "print(index)"
   ]
  },
  {
   "cell_type": "markdown",
   "id": "137ea278",
   "metadata": {},
   "source": [
    "#### 21. Create a checkerboard 8x8 matrix using the tile function (★☆☆)"
   ]
  },
  {
   "cell_type": "code",
   "execution_count": 205,
   "id": "9cb81fe1",
   "metadata": {},
   "outputs": [
    {
     "name": "stdout",
     "output_type": "stream",
     "text": [
      "[[1. 0. 1. 0. 1. 0. 1. 0.]\n",
      " [0. 1. 0. 1. 0. 1. 0. 1.]\n",
      " [1. 0. 1. 0. 1. 0. 1. 0.]\n",
      " [0. 1. 0. 1. 0. 1. 0. 1.]\n",
      " [1. 0. 1. 0. 1. 0. 1. 0.]\n",
      " [0. 1. 0. 1. 0. 1. 0. 1.]\n",
      " [1. 0. 1. 0. 1. 0. 1. 0.]\n",
      " [0. 1. 0. 1. 0. 1. 0. 1.]]\n"
     ]
    }
   ],
   "source": [
    "pattern1 = np.tile([1,0],4)\n",
    "pattern2 = np.tile([0,1],4)\n",
    "\n",
    "chess_board = np.zeros((8,8))\n",
    "chess_board[::2] = pattern1\n",
    "chess_board[1::2] = pattern2\n",
    "\n",
    "print(chess_board)"
   ]
  },
  {
   "cell_type": "markdown",
   "id": "9319f5a1",
   "metadata": {},
   "source": [
    "#### 22. Normalize a 5x5 random matrix (★☆☆)"
   ]
  },
  {
   "cell_type": "code",
   "execution_count": 213,
   "id": "fcdc0459",
   "metadata": {},
   "outputs": [
    {
     "name": "stdout",
     "output_type": "stream",
     "text": [
      "Original Matrix:\n",
      " [[0.97266534 0.87525412 0.97701218 0.27554794 0.94085896]\n",
      " [0.69465902 0.48352144 0.12083052 0.42105924 0.75110686]\n",
      " [0.32503034 0.23894337 0.03548767 0.49023768 0.46605852]\n",
      " [0.95108523 0.4603851  0.26847989 0.92719373 0.29405124]\n",
      " [0.94573573 0.92250613 0.16267048 0.02301433 0.1778514 ]]\n",
      "\n",
      "Normalized Matrix:\n",
      " [[0.99544356 0.89333513 1.         0.26471088 0.96210346]\n",
      " [0.70403166 0.48271295 0.10253292 0.4172388  0.76320144]\n",
      " [0.31657934 0.22634123 0.01307481 0.48975304 0.46440796]\n",
      " [0.97282284 0.45846096 0.25730201 0.94777929 0.28410641]\n",
      " [0.96721539 0.94286565 0.14639043 0.         0.16230337]]\n"
     ]
    }
   ],
   "source": [
    "matrix = np.random.rand(5, 5)\n",
    "\n",
    "normalized_matrix = (matrix - np.min(matrix)) / (np.max(matrix) - np.min(matrix))\n",
    "\n",
    "print(\"\\nNormalized Matrix:\\n\", normalized_matrix)"
   ]
  },
  {
   "cell_type": "markdown",
   "id": "f1902fef",
   "metadata": {},
   "source": [
    "#### 23. Create a custom dtype that describes a color as four unsigned bytes (RGBA) (★☆☆)"
   ]
  },
  {
   "cell_type": "code",
   "execution_count": 299,
   "id": "7445cb2d",
   "metadata": {},
   "outputs": [
    {
     "name": "stdout",
     "output_type": "stream",
     "text": [
      "[(255,   0, 0, 255) (  0, 255, 0, 255)]\n"
     ]
    }
   ],
   "source": [
    "import matplotlib.pyplot as plt\n",
    "color_dtype = np.dtype([\n",
    "    ('R', np.uint8),  # Red channel\n",
    "    ('G', np.uint8),  # Green channel\n",
    "    ('B', np.uint8),  # Blue channel\n",
    "    ('A', np.uint8)   # Alpha channel\n",
    "])\n",
    "\n",
    "color_array = np.array([(255, 0, 0, 255), (0, 255, 0, 255)], dtype=color_dtype)\n",
    "print(color_array)"
   ]
  },
  {
   "cell_type": "markdown",
   "id": "3f34bd2a",
   "metadata": {},
   "source": [
    "#### 24. Multiply a 5x3 matrix by a 3x2 matrix (real matrix product) (★☆☆)"
   ]
  },
  {
   "cell_type": "code",
   "execution_count": 233,
   "id": "ec8bd6da",
   "metadata": {},
   "outputs": [
    {
     "name": "stdout",
     "output_type": "stream",
     "text": [
      "[[95 69]\n",
      " [49 23]\n",
      " [51 23]\n",
      " [74 90]\n",
      " [82 56]]\n"
     ]
    }
   ],
   "source": [
    "matrix1 = np.random.randint(1,10,(5,3))\n",
    "matrix2 = np.random.randint(1,10,(3,2))\n",
    "\n",
    "print(matrix1 @ matrix2)"
   ]
  },
  {
   "cell_type": "markdown",
   "id": "b1919ba3",
   "metadata": {},
   "source": [
    "#### 25. Given a 1D array, negate all elements which are between 3 and 8, in place. (★☆☆)"
   ]
  },
  {
   "cell_type": "code",
   "execution_count": 7,
   "id": "5b63b63b",
   "metadata": {},
   "outputs": [
    {
     "name": "stdout",
     "output_type": "stream",
     "text": [
      "[2 3]\n"
     ]
    }
   ],
   "source": [
    "arr = np.random.randint(1,50,size = 10)\n",
    "mask = (arr < 3) | (arr < 8)\n",
    "new_arr = arr[mask]\n",
    "\n",
    "print(new_arr)"
   ]
  },
  {
   "cell_type": "markdown",
   "id": "fb1daa27",
   "metadata": {},
   "source": [
    "#### 26. What is the output of the following script? (★☆☆)\n",
    "```python\n",
    "# Author: Jake VanderPlas\n",
    "\n",
    "print(sum(range(5),-1))\n",
    "from numpy import *\n",
    "print(sum(range(5),-1))\n",
    "```"
   ]
  },
  {
   "cell_type": "code",
   "execution_count": 11,
   "id": "52a34d3d",
   "metadata": {},
   "outputs": [
    {
     "name": "stdout",
     "output_type": "stream",
     "text": [
      "9\n",
      "10\n"
     ]
    }
   ],
   "source": [
    "print(sum(range(5),-1))\n",
    "from numpy import *\n",
    "print(sum(range(5),-1))"
   ]
  },
  {
   "cell_type": "markdown",
   "id": "89b7e7a7",
   "metadata": {},
   "source": [
    "#### 27. Consider an integer vector Z, which of these expressions are legal? (★☆☆)\n",
    "```python\n",
    "Z**Z\n",
    "2 << Z >> 2\n",
    "Z <- Z\n",
    "1j*Z\n",
    "Z/1/1\n",
    "Z<Z>Z\n",
    "```"
   ]
  },
  {
   "cell_type": "code",
   "execution_count": 15,
   "id": "451181cf",
   "metadata": {},
   "outputs": [
    {
     "ename": "ValueError",
     "evalue": "The truth value of an array with more than one element is ambiguous. Use a.any() or a.all()",
     "output_type": "error",
     "traceback": [
      "\u001b[1;31m---------------------------------------------------------------------------\u001b[0m",
      "\u001b[1;31mValueError\u001b[0m                                Traceback (most recent call last)",
      "Cell \u001b[1;32mIn[15], line 8\u001b[0m\n\u001b[0;32m      6\u001b[0m \u001b[38;5;241m1\u001b[39mj\u001b[38;5;241m*\u001b[39mZ \u001b[38;5;66;03m## legal\u001b[39;00m\n\u001b[0;32m      7\u001b[0m Z\u001b[38;5;241m/\u001b[39m\u001b[38;5;241m1\u001b[39m\u001b[38;5;241m/\u001b[39m\u001b[38;5;241m1\u001b[39m  \u001b[38;5;66;03m# legal\u001b[39;00m\n\u001b[1;32m----> 8\u001b[0m Z\u001b[38;5;241m<\u001b[39mZ\u001b[38;5;241m>\u001b[39mZ \u001b[38;5;66;03m## error \u001b[39;00m\n",
      "\u001b[1;31mValueError\u001b[0m: The truth value of an array with more than one element is ambiguous. Use a.any() or a.all()"
     ]
    }
   ],
   "source": [
    "Z = np.array([1, 2, 3])\n",
    "\n",
    "Z**Z  # lega \n",
    "2 << Z >> 2  # legal\n",
    "Z <- Z # legal\n",
    "1j*Z ## legal\n",
    "Z/1/1  # legal\n",
    "Z<Z>Z ## error "
   ]
  },
  {
   "cell_type": "markdown",
   "id": "8c7601c6",
   "metadata": {},
   "source": [
    "#### 28. What are the result of the following expressions? (★☆☆)\n",
    "```python\n",
    "np.array(0) / np.array(0)\n",
    "np.array(0) // np.array(0)\n",
    "np.array([np.nan]).astype(int).astype(float)\n",
    "```"
   ]
  },
  {
   "cell_type": "code",
   "execution_count": 9,
   "id": "52983a0b",
   "metadata": {},
   "outputs": [
    {
     "name": "stderr",
     "output_type": "stream",
     "text": [
      "C:\\Users\\resha\\AppData\\Local\\Temp\\ipykernel_11012\\548293649.py:1: RuntimeWarning: invalid value encountered in divide\n",
      "  np.array(0) / np.array(0)\n",
      "C:\\Users\\resha\\AppData\\Local\\Temp\\ipykernel_11012\\548293649.py:2: RuntimeWarning: divide by zero encountered in floor_divide\n",
      "  np.array(0) // np.array(0)\n",
      "C:\\Users\\resha\\AppData\\Local\\Temp\\ipykernel_11012\\548293649.py:3: RuntimeWarning: invalid value encountered in cast\n",
      "  np.array([np.nan]).astype(int).astype(float)\n"
     ]
    },
    {
     "data": {
      "text/plain": [
       "array([-2.14748365e+09])"
      ]
     },
     "execution_count": 9,
     "metadata": {},
     "output_type": "execute_result"
    }
   ],
   "source": [
    "np.array(0) / np.array(0)\n",
    "np.array(0) // np.array(0)\n",
    "np.array([np.nan]).astype(int).astype(float)"
   ]
  },
  {
   "cell_type": "markdown",
   "id": "06c9164d",
   "metadata": {},
   "source": [
    "#### 29. How to round away from zero a float array ? (★☆☆)"
   ]
  },
  {
   "cell_type": "code",
   "execution_count": 17,
   "id": "4cce0af8",
   "metadata": {},
   "outputs": [
    {
     "name": "stdout",
     "output_type": "stream",
     "text": [
      "[-2. -3. -4.  2.  3.  4.]\n"
     ]
    }
   ],
   "source": [
    "arr = np.array([-1.2, -2.5, -3.7, 1.2, 2.5, 3.7])\n",
    "rounded = np.where(arr > 0, np.ceil(arr), np.floor(arr))\n",
    "print(rounded)"
   ]
  },
  {
   "cell_type": "markdown",
   "id": "52235994",
   "metadata": {},
   "source": [
    "#### 30. How to find common values between two arrays? (★☆☆)"
   ]
  },
  {
   "cell_type": "code",
   "execution_count": 19,
   "id": "27eff6b1",
   "metadata": {},
   "outputs": [
    {
     "name": "stdout",
     "output_type": "stream",
     "text": [
      "[3 4]\n"
     ]
    }
   ],
   "source": [
    "a = np.array([1, 2, 3, 4])\n",
    "b = np.array([3, 4, 5, 6])\n",
    "\n",
    "common = np.intersect1d(a, b)\n",
    "print(common)"
   ]
  },
  {
   "cell_type": "markdown",
   "id": "7e6f7d78",
   "metadata": {},
   "source": [
    "#### 31. How to ignore all numpy warnings (not recommended)? (★☆☆)"
   ]
  },
  {
   "cell_type": "code",
   "execution_count": 21,
   "id": "1bdde6e1",
   "metadata": {},
   "outputs": [
    {
     "data": {
      "text/plain": [
       "{'divide': 'warn', 'over': 'warn', 'under': 'ignore', 'invalid': 'warn'}"
      ]
     },
     "execution_count": 21,
     "metadata": {},
     "output_type": "execute_result"
    }
   ],
   "source": [
    "import warnings\n",
    "\n",
    "warnings.filterwarnings(\"ignore\")\n",
    "np.seterr(all=\"ignore\")"
   ]
  },
  {
   "cell_type": "markdown",
   "id": "b001277e",
   "metadata": {},
   "source": [
    "#### 32. Is the following expressions true? (★☆☆)\n",
    "```python\n",
    "np.sqrt(-1) == np.emath.sqrt(-1)\n",
    "```"
   ]
  },
  {
   "cell_type": "code",
   "execution_count": 23,
   "id": "d8673bdf",
   "metadata": {},
   "outputs": [
    {
     "data": {
      "text/plain": [
       "False"
      ]
     },
     "execution_count": 23,
     "metadata": {},
     "output_type": "execute_result"
    }
   ],
   "source": [
    "np.sqrt(-1) == np.emath.sqrt(-1)"
   ]
  },
  {
   "cell_type": "markdown",
   "id": "b9a5ff84",
   "metadata": {},
   "source": [
    "#### 33. How to get the dates of yesterday, today and tomorrow? (★☆☆)"
   ]
  },
  {
   "cell_type": "code",
   "execution_count": 25,
   "id": "f33f9cc2",
   "metadata": {},
   "outputs": [
    {
     "name": "stdout",
     "output_type": "stream",
     "text": [
      "Yesterday: 2025-04-21\n",
      "Today: 2025-04-22\n",
      "Tomorrow: 2025-04-23\n"
     ]
    }
   ],
   "source": [
    "today = np.datetime64('today', 'D')\n",
    "yesterday = today - np.timedelta64(1, 'D')\n",
    "tomorrow = today + np.timedelta64(1, 'D')\n",
    "\n",
    "print(\"Yesterday:\", yesterday)\n",
    "print(\"Today:\", today)\n",
    "print(\"Tomorrow:\", tomorrow)"
   ]
  },
  {
   "cell_type": "markdown",
   "id": "f8e96e58",
   "metadata": {},
   "source": [
    "#### 34. How to get all the dates corresponding to the month of July 2016? (★★☆)"
   ]
  },
  {
   "cell_type": "code",
   "execution_count": 50,
   "id": "60d0ec5b-cfa7-4c30-992a-08d15976115b",
   "metadata": {},
   "outputs": [],
   "source": [
    "import pandas as pd"
   ]
  },
  {
   "cell_type": "code",
   "execution_count": 52,
   "id": "3927a8e8",
   "metadata": {},
   "outputs": [
    {
     "name": "stdout",
     "output_type": "stream",
     "text": [
      "DatetimeIndex(['2016-07-01', '2016-07-02', '2016-07-03', '2016-07-04',\n",
      "               '2016-07-05', '2016-07-06', '2016-07-07', '2016-07-08',\n",
      "               '2016-07-09', '2016-07-10', '2016-07-11', '2016-07-12',\n",
      "               '2016-07-13', '2016-07-14', '2016-07-15', '2016-07-16',\n",
      "               '2016-07-17', '2016-07-18', '2016-07-19', '2016-07-20',\n",
      "               '2016-07-21', '2016-07-22', '2016-07-23', '2016-07-24',\n",
      "               '2016-07-25', '2016-07-26', '2016-07-27', '2016-07-28',\n",
      "               '2016-07-29', '2016-07-30', '2016-07-31'],\n",
      "              dtype='datetime64[ns]', freq='D')\n"
     ]
    }
   ],
   "source": [
    "dates = pd.date_range('2016-07-01', '2016-07-31', freq='D')\n",
    "print(dates)"
   ]
  },
  {
   "cell_type": "markdown",
   "id": "557c163e",
   "metadata": {},
   "source": [
    "#### 35. How to compute ((A+B)*(-A/2)) in place (without copy)? (★★☆)"
   ]
  },
  {
   "cell_type": "code",
   "execution_count": 46,
   "id": "3c2f59ac",
   "metadata": {},
   "outputs": [
    {
     "name": "stdout",
     "output_type": "stream",
     "text": [
      "[-1.45957589 -0.81395498 -0.41426228 -1.85927949 -0.02959702]\n"
     ]
    }
   ],
   "source": [
    "A = np.random.rand(5)\n",
    "B = np.random.rand(5)\n",
    "\n",
    "A += B  # A = A + B\n",
    "A *= (-1 * A / 2)  # A = A * (-A / 2)\n",
    "print(A)"
   ]
  },
  {
   "cell_type": "markdown",
   "id": "14c05852",
   "metadata": {},
   "source": [
    "#### 36. Extract the integer part of a random array of positive numbers using 4 different methods (★★☆)"
   ]
  },
  {
   "cell_type": "code",
   "execution_count": 44,
   "id": "8b7d2937",
   "metadata": {},
   "outputs": [
    {
     "name": "stdout",
     "output_type": "stream",
     "text": [
      "[6. 8. 3. 6. 4.] [6. 8. 3. 6. 4.] [6 8 3 6 4] [6 8 3 6 4]\n"
     ]
    }
   ],
   "source": [
    "arr = np.random.rand(5) * 10\n",
    "\n",
    "# Method 1: Using np.floor\n",
    "int_part1 = np.floor(arr)\n",
    "\n",
    "# Method 2: Using np.trunc\n",
    "int_part2 = np.trunc(arr)\n",
    "\n",
    "# Method 3: Using casting to int\n",
    "int_part3 = arr.astype(int)\n",
    "\n",
    "# Method 4: Using np.floor and type casting\n",
    "int_part4 = np.floor(arr).astype(int)\n",
    "\n",
    "print(int_part1, int_part2, int_part3, int_part4)"
   ]
  },
  {
   "cell_type": "markdown",
   "id": "003b8721",
   "metadata": {},
   "source": [
    "#### 37. Create a 5x5 matrix with row values ranging from 0 to 4 (★★☆)"
   ]
  },
  {
   "cell_type": "code",
   "execution_count": 28,
   "id": "63c75db0",
   "metadata": {},
   "outputs": [
    {
     "name": "stdout",
     "output_type": "stream",
     "text": [
      "[[0 1 2 3 4]\n",
      " [0 1 2 3 4]\n",
      " [0 1 2 3 4]\n",
      " [0 1 2 3 4]\n",
      " [0 1 2 3 4]]\n"
     ]
    }
   ],
   "source": [
    "matrix = np.tile(np.arange(5), (5, 1))\n",
    "print(matrix)"
   ]
  },
  {
   "cell_type": "markdown",
   "id": "8e71dc21",
   "metadata": {},
   "source": [
    "#### 38. Consider a generator function that generates 10 integers and use it to build an array (★☆☆)"
   ]
  },
  {
   "cell_type": "code",
   "execution_count": 30,
   "id": "f6aefd94",
   "metadata": {},
   "outputs": [
    {
     "name": "stdout",
     "output_type": "stream",
     "text": [
      "[0 1 2 3 4 5 6 7 8 9]\n"
     ]
    }
   ],
   "source": [
    "def int_generator():\n",
    "    for i in range(10):\n",
    "        yield i\n",
    "\n",
    "arr = np.array(list(int_generator()))\n",
    "print(arr)"
   ]
  },
  {
   "cell_type": "markdown",
   "id": "b7f03449",
   "metadata": {},
   "source": [
    "#### 39. Create a vector of size 10 with values ranging from 0 to 1, both excluded (★★☆)"
   ]
  },
  {
   "cell_type": "code",
   "execution_count": 32,
   "id": "a27cd904",
   "metadata": {},
   "outputs": [
    {
     "name": "stdout",
     "output_type": "stream",
     "text": [
      "[0.09090909 0.18181818 0.27272727 0.36363636 0.45454545 0.54545455\n",
      " 0.63636364 0.72727273 0.81818182 0.90909091]\n"
     ]
    }
   ],
   "source": [
    "vector = np.linspace(0, 1, 12)[1:-1]\n",
    "print(vector)"
   ]
  },
  {
   "cell_type": "markdown",
   "id": "043156c5",
   "metadata": {},
   "source": [
    "#### 40. Create a random vector of size 10 and sort it (★★☆)"
   ]
  },
  {
   "cell_type": "code",
   "execution_count": 34,
   "id": "6ae5eb58",
   "metadata": {},
   "outputs": [
    {
     "name": "stdout",
     "output_type": "stream",
     "text": [
      "[0.01604737 0.06571884 0.20227663 0.23773658 0.25597072 0.27846634\n",
      " 0.28339097 0.43324351 0.72273242 0.77994055]\n"
     ]
    }
   ],
   "source": [
    "vector = np.random.rand(10)\n",
    "sorted_vector = np.sort(vector)\n",
    "print(sorted_vector)"
   ]
  },
  {
   "cell_type": "markdown",
   "id": "4f7e8f3f",
   "metadata": {},
   "source": [
    "#### 41. How to sum a small array faster than np.sum? (★★☆)"
   ]
  },
  {
   "cell_type": "code",
   "execution_count": 36,
   "id": "88790af3",
   "metadata": {},
   "outputs": [
    {
     "name": "stdout",
     "output_type": "stream",
     "text": [
      "517.6042894895685\n"
     ]
    }
   ],
   "source": [
    "arr = np.random.rand(1000)\n",
    "\n",
    "# Using built-in Python sum for small arrays\n",
    "sum_arr = sum(arr)\n",
    "print(sum_arr)"
   ]
  },
  {
   "cell_type": "markdown",
   "id": "13d1ca52",
   "metadata": {},
   "source": [
    "#### 42. Consider two random array A and B, check if they are equal (★★☆)"
   ]
  },
  {
   "cell_type": "code",
   "execution_count": 38,
   "id": "ca6dd579",
   "metadata": {},
   "outputs": [
    {
     "name": "stdout",
     "output_type": "stream",
     "text": [
      "False\n"
     ]
    }
   ],
   "source": [
    "A = np.random.rand(5)\n",
    "B = np.random.rand(5)\n",
    "\n",
    "are_equal = np.array_equal(A, B)\n",
    "print(are_equal)"
   ]
  },
  {
   "cell_type": "markdown",
   "id": "cf7cca6d",
   "metadata": {},
   "source": [
    "#### 43. Make an array immutable (read-only) (★★☆)"
   ]
  },
  {
   "cell_type": "code",
   "execution_count": 40,
   "id": "cbbb8917",
   "metadata": {},
   "outputs": [
    {
     "name": "stdout",
     "output_type": "stream",
     "text": [
      "[1 2 3 4]\n"
     ]
    }
   ],
   "source": [
    "arr = np.array([1, 2, 3, 4])\n",
    "arr.flags.writeable = False\n",
    "print(arr)"
   ]
  },
  {
   "cell_type": "markdown",
   "id": "37b0828f",
   "metadata": {},
   "source": [
    "#### 44. Consider a random 10x2 matrix representing cartesian coordinates, convert them to polar coordinates (★★☆)"
   ]
  },
  {
   "cell_type": "code",
   "execution_count": 42,
   "id": "a89969af",
   "metadata": {},
   "outputs": [
    {
     "name": "stdout",
     "output_type": "stream",
     "text": [
      "[[0.90794352 1.02594078]\n",
      " [0.73751757 0.47625317]\n",
      " [0.63278324 0.99900197]\n",
      " [1.16428248 1.00895956]\n",
      " [0.95540227 0.4692116 ]\n",
      " [0.62966114 0.83265635]\n",
      " [0.66826193 0.38053302]\n",
      " [0.82116892 0.49762641]\n",
      " [1.06113437 0.74387936]\n",
      " [0.64597166 1.38221793]]\n"
     ]
    }
   ],
   "source": [
    "import math\n",
    "\n",
    "cartesian = np.random.rand(10, 2)\n",
    "\n",
    "r = np.linalg.norm(cartesian, axis=1)\n",
    "theta = np.arctan2(cartesian[:, 1], cartesian[:, 0])\n",
    "\n",
    "polar = np.column_stack((r, theta))\n",
    "print(polar)"
   ]
  },
  {
   "cell_type": "markdown",
   "id": "b7d7dd80",
   "metadata": {},
   "source": [
    "#### 45. Create random vector of size 10 and replace the maximum value by 0 (★★☆)"
   ]
  },
  {
   "cell_type": "code",
   "execution_count": 55,
   "id": "8403a440",
   "metadata": {},
   "outputs": [
    {
     "name": "stdout",
     "output_type": "stream",
     "text": [
      "[0.03687057 0.36394899 0.44511698 0.         0.5802849  0.22913254\n",
      " 0.7641734  0.67022458 0.29835021 0.11660214]\n"
     ]
    }
   ],
   "source": [
    "arr = np.random.rand(10)\n",
    "arr[arr.argmax()] = 0\n",
    "print(arr)"
   ]
  },
  {
   "cell_type": "markdown",
   "id": "b47e5837",
   "metadata": {},
   "source": [
    "#### 46. Create a structured array with `x` and `y` coordinates covering the [0,1]x[0,1] area (★★☆)"
   ]
  },
  {
   "cell_type": "code",
   "execution_count": 57,
   "id": "42c72e94",
   "metadata": {},
   "outputs": [
    {
     "name": "stdout",
     "output_type": "stream",
     "text": [
      "[(0.  , 0.  ) (0.25, 0.  ) (0.5 , 0.  ) (0.75, 0.  ) (1.  , 0.  )\n",
      " (0.  , 0.25) (0.25, 0.25) (0.5 , 0.25) (0.75, 0.25) (1.  , 0.25)\n",
      " (0.  , 0.5 ) (0.25, 0.5 ) (0.5 , 0.5 ) (0.75, 0.5 ) (1.  , 0.5 )\n",
      " (0.  , 0.75) (0.25, 0.75) (0.5 , 0.75) (0.75, 0.75) (1.  , 0.75)\n",
      " (0.  , 1.  ) (0.25, 1.  ) (0.5 , 1.  ) (0.75, 1.  ) (1.  , 1.  )]\n"
     ]
    }
   ],
   "source": [
    "x = np.linspace(0, 1, 5)\n",
    "y = np.linspace(0, 1, 5)\n",
    "x, y = np.meshgrid(x, y)\n",
    "\n",
    "structured_array = np.core.records.fromarrays([x.ravel(), y.ravel()], names='x, y')\n",
    "print(structured_array)"
   ]
  },
  {
   "cell_type": "markdown",
   "id": "8c7946ee",
   "metadata": {},
   "source": [
    "#### 47. Given two arrays, X and Y, construct the Cauchy matrix C (Cij =1/(xi - yj)) (★★☆)"
   ]
  },
  {
   "cell_type": "code",
   "execution_count": 59,
   "id": "26b93f06",
   "metadata": {},
   "outputs": [
    {
     "name": "stdout",
     "output_type": "stream",
     "text": [
      "[[-0.33333333 -0.25       -0.2       ]\n",
      " [-0.5        -0.33333333 -0.25      ]\n",
      " [-1.         -0.5        -0.33333333]]\n"
     ]
    }
   ],
   "source": [
    "X = np.array([1, 2, 3])\n",
    "Y = np.array([4, 5, 6])\n",
    "\n",
    "C = 1 / (X[:, None] - Y)\n",
    "print(C)"
   ]
  },
  {
   "cell_type": "markdown",
   "id": "3e898e5f",
   "metadata": {},
   "source": [
    "#### 48. Print the minimum and maximum representable value for each numpy scalar type (★★☆)"
   ]
  },
  {
   "cell_type": "code",
   "execution_count": 61,
   "id": "afd1ae18",
   "metadata": {},
   "outputs": [
    {
     "name": "stdout",
     "output_type": "stream",
     "text": [
      "<class 'numpy.int8'>: min = -128, max = 127\n",
      "<class 'numpy.int16'>: min = -32768, max = 32767\n",
      "<class 'numpy.int32'>: min = -2147483648, max = 2147483647\n",
      "<class 'numpy.int64'>: min = -9223372036854775808, max = 9223372036854775807\n",
      "<class 'numpy.float32'>: min = -3.4028234663852886e+38, max = 3.4028234663852886e+38\n",
      "<class 'numpy.float64'>: min = -1.7976931348623157e+308, max = 1.7976931348623157e+308\n"
     ]
    }
   ],
   "source": [
    "for dtype in [np.int8, np.int16, np.int32, np.int64, np.float32, np.float64]:\n",
    "    print(f\"{dtype}: min = {np.iinfo(dtype).min if np.issubdtype(dtype, np.integer) else np.finfo(dtype).min}, max = {np.iinfo(dtype).max if np.issubdtype(dtype, np.integer) else np.finfo(dtype).max}\")"
   ]
  },
  {
   "cell_type": "markdown",
   "id": "6fe6133b",
   "metadata": {},
   "source": [
    "#### 49. How to print all the values of an array? (★★☆)"
   ]
  },
  {
   "cell_type": "code",
   "execution_count": 63,
   "id": "5764ec92",
   "metadata": {},
   "outputs": [
    {
     "name": "stdout",
     "output_type": "stream",
     "text": [
      "[0.92705294 0.97248918 0.73703741 0.6408368  0.5878136 ]\n"
     ]
    }
   ],
   "source": [
    "arr = np.random.rand(5)\n",
    "np.set_printoptions(threshold=np.inf)\n",
    "print(arr)"
   ]
  },
  {
   "cell_type": "markdown",
   "id": "7ee2dacc",
   "metadata": {},
   "source": [
    "#### 50. How to find the closest value (to a given scalar) in a vector? (★★☆)"
   ]
  },
  {
   "cell_type": "code",
   "execution_count": 65,
   "id": "742518ef",
   "metadata": {},
   "outputs": [
    {
     "name": "stdout",
     "output_type": "stream",
     "text": [
      "0.4988500165589089\n"
     ]
    }
   ],
   "source": [
    "arr = np.random.rand(10)\n",
    "scalar = 0.5\n",
    "closest_value = arr[np.abs(arr - scalar).argmin()]\n",
    "print(closest_value)"
   ]
  },
  {
   "cell_type": "markdown",
   "id": "cfeda6ba",
   "metadata": {},
   "source": [
    "#### 51. Create a structured array representing a position (x,y) and a color (r,g,b) (★★☆)"
   ]
  },
  {
   "cell_type": "code",
   "execution_count": 67,
   "id": "9fcbd031",
   "metadata": {},
   "outputs": [
    {
     "name": "stdout",
     "output_type": "stream",
     "text": [
      "[([1., 2.], [0.5, 0.5, 0.5]) ([3., 4.], [0.3, 0.6, 0.9])]\n"
     ]
    }
   ],
   "source": [
    "dtype = np.dtype([('position', '2f8'), ('color', '3f8')])\n",
    "data = np.array([((1, 2), (0.5, 0.5, 0.5)), ((3, 4), (0.3, 0.6, 0.9))], dtype=dtype)\n",
    "print(data)"
   ]
  },
  {
   "cell_type": "markdown",
   "id": "b97e75b5",
   "metadata": {},
   "source": [
    "#### 52. Consider a random vector with shape (100,2) representing coordinates, find point by point distances (★★☆)"
   ]
  },
  {
   "cell_type": "code",
   "execution_count": 69,
   "id": "c58a45b6",
   "metadata": {},
   "outputs": [
    {
     "name": "stdout",
     "output_type": "stream",
     "text": [
      "[0.10365458 0.29881357 0.57565901 0.47262868 0.80142795 0.55163399\n",
      " 0.49695439 0.66340745 0.84018698 0.12072066 0.34816248 0.67215546\n",
      " 0.39651049 0.3076441  0.44394188 0.42009783 0.27060108 0.60763961\n",
      " 0.47109668 0.69527627 0.70706615 0.17710324 0.35932943 0.58030302\n",
      " 0.8994472  0.72672379 0.54922933 0.54868963 0.52521269 0.42638725\n",
      " 0.20778371 0.43960377 0.81382801 0.15243881 0.7681151  0.16524113\n",
      " 0.3180932  0.52946697 0.5423807  0.85243449 0.38375272 0.57655866\n",
      " 0.45872177 0.63581391 0.15319628 0.12458695 0.57427729 0.80468167\n",
      " 0.76790519 0.61822259 0.2481117  0.30633344 0.29798617 0.34665597\n",
      " 0.31798367 0.4168317  0.38676677 0.45672042 0.47524001 0.46783778\n",
      " 0.31888988 0.18466599 0.21553186 0.14615768 0.35880678 0.23075687\n",
      " 0.95149342 1.03406744 0.76733748 0.69077553 0.75893416 0.63666052\n",
      " 0.66916281 0.20858847 0.48957142 0.08014354 0.59805636 0.52060039\n",
      " 0.08317854 0.67820639 0.70525973 0.30193682 0.452552   0.02848646\n",
      " 0.10214862 0.22544981 0.42388781 0.80761954 0.72250713 0.68343177\n",
      " 0.54558423 0.9382148  0.12546686 0.19944699 0.63224234 0.52903316\n",
      " 0.23977082 0.58100873 0.32429617]\n"
     ]
    }
   ],
   "source": [
    "coordinates = np.random.rand(100, 2)\n",
    "distances = np.linalg.norm(coordinates[1:] - coordinates[:-1], axis=1)\n",
    "print(distances)"
   ]
  },
  {
   "cell_type": "markdown",
   "id": "291e0bb9",
   "metadata": {},
   "source": [
    "#### 53. How to convert a float (32 bits) array into an integer (32 bits) in place?"
   ]
  },
  {
   "cell_type": "code",
   "execution_count": 71,
   "id": "2f3e6c00",
   "metadata": {},
   "outputs": [
    {
     "name": "stdout",
     "output_type": "stream",
     "text": [
      "[0 0 0 0 0 0 0 0 0 0]\n"
     ]
    }
   ],
   "source": [
    "arr = np.random.rand(10).astype(np.float32)\n",
    "arr = arr.astype(np.int32)\n",
    "print(arr)"
   ]
  },
  {
   "cell_type": "markdown",
   "id": "1e305e92",
   "metadata": {},
   "source": [
    "#### 54. How to read the following file? (★★☆)\n",
    "```\n",
    "1, 2, 3, 4, 5\n",
    "6,  ,  , 7, 8\n",
    " ,  , 9,10,11\n",
    "```"
   ]
  },
  {
   "cell_type": "code",
   "execution_count": 75,
   "id": "753024cb",
   "metadata": {},
   "outputs": [],
   "source": [
    "data = np.genfromtxt('file.csv', delimiter=',', filling_values=np.nan)\n",
    "print(data)"
   ]
  },
  {
   "cell_type": "markdown",
   "id": "94a8ad69",
   "metadata": {},
   "source": [
    "#### 55. What is the equivalent of enumerate for numpy arrays? (★★☆)"
   ]
  },
  {
   "cell_type": "code",
   "execution_count": 77,
   "id": "ae45249f",
   "metadata": {},
   "outputs": [
    {
     "name": "stdout",
     "output_type": "stream",
     "text": [
      "(0,) 1\n",
      "(1,) 2\n",
      "(2,) 3\n",
      "(3,) 4\n"
     ]
    }
   ],
   "source": [
    "arr = np.array([1, 2, 3, 4])\n",
    "for idx, value in np.ndenumerate(arr):\n",
    "    print(idx, value)"
   ]
  },
  {
   "cell_type": "markdown",
   "id": "72b340c9",
   "metadata": {},
   "source": [
    "#### 56. Generate a generic 2D Gaussian-like array (★★☆)"
   ]
  },
  {
   "cell_type": "code",
   "execution_count": 79,
   "id": "a80e5c9b",
   "metadata": {},
   "outputs": [
    {
     "name": "stdout",
     "output_type": "stream",
     "text": [
      "[[1.38879439e-11 2.28961804e-11 3.73643128e-11 6.03559147e-11\n",
      "  9.65053852e-11 1.52739772e-10 2.39288376e-10 3.71073501e-10\n",
      "  5.69596298e-10 8.65452525e-10 1.30163200e-09 1.93776925e-09\n",
      "  2.85551720e-09 4.16520494e-09 6.01390891e-09 8.59500616e-09\n",
      "  1.21591836e-08 1.70267403e-08 2.36008414e-08 3.23811551e-08\n",
      "  4.39770469e-08 5.91192158e-08 7.86683682e-08 1.03619262e-07\n",
      "  1.35098250e-07 1.74352359e-07 2.22727996e-07 2.81637620e-07\n",
      "  3.52513211e-07 4.36746070e-07 5.35613469e-07 6.50193838e-07\n",
      "  7.81273483e-07 9.29249200e-07 1.09403240e-06 1.27496143e-06\n",
      "  1.47072943e-06 1.67933523e-06 1.89806416e-06 2.12350484e-06\n",
      "  2.35160566e-06 2.57777267e-06 2.79700735e-06 3.00407989e-06\n",
      "  3.19373018e-06 3.36088648e-06 3.50088900e-06 3.60970502e-06\n",
      "  3.68412164e-06 3.72190330e-06 3.72190330e-06 3.68412164e-06\n",
      "  3.60970502e-06 3.50088900e-06 3.36088648e-06 3.19373018e-06\n",
      "  3.00407989e-06 2.79700735e-06 2.57777267e-06 2.35160566e-06\n",
      "  2.12350484e-06 1.89806416e-06 1.67933523e-06 1.47072943e-06\n",
      "  1.27496143e-06 1.09403240e-06 9.29249200e-07 7.81273483e-07\n",
      "  6.50193838e-07 5.35613469e-07 4.36746070e-07 3.52513211e-07\n",
      "  2.81637620e-07 2.22727996e-07 1.74352359e-07 1.35098250e-07\n",
      "  1.03619262e-07 7.86683682e-08 5.91192158e-08 4.39770469e-08\n",
      "  3.23811551e-08 2.36008414e-08 1.70267403e-08 1.21591836e-08\n",
      "  8.59500616e-09 6.01390891e-09 4.16520494e-09 2.85551720e-09\n",
      "  1.93776925e-09 1.30163200e-09 8.65452525e-10 5.69596298e-10\n",
      "  3.71073501e-10 2.39288376e-10 1.52739772e-10 9.65053852e-11\n",
      "  6.03559147e-11 3.73643128e-11 2.28961804e-11 1.38879439e-11]\n",
      " [2.28961804e-11 3.77474939e-11 6.16001946e-11 9.95050039e-11\n",
      "  1.59102364e-10 2.51812464e-10 3.94499709e-10 6.11765564e-10\n",
      "  9.39057624e-10 1.42681720e-09 2.14591889e-09 3.19467840e-09\n",
      "  4.70771177e-09 6.86691166e-09 9.91475372e-09 1.41700466e-08\n",
      "  2.00460819e-08 2.80709169e-08 3.89092243e-08 5.33847757e-08\n",
      "  7.25021939e-08 9.74661362e-08 1.29695595e-07 1.70830566e-07\n",
      "  2.22727996e-07 2.87443779e-07 3.67197651e-07 4.64318247e-07\n",
      "  5.81166380e-07 7.20035802e-07 8.83032270e-07 1.07193372e-06\n",
      "  1.28803650e-06 1.53199476e-06 1.80366247e-06 2.10194879e-06\n",
      "  2.42469920e-06 2.76861447e-06 3.12921911e-06 3.50088900e-06\n",
      "  3.87694449e-06 4.24981182e-06 4.61125027e-06 4.95263774e-06\n",
      "  5.26530227e-06 5.54088235e-06 5.77169570e-06 5.95109384e-06\n",
      "  6.07377986e-06 6.13606810e-06 6.13606810e-06 6.07377986e-06\n",
      "  5.95109384e-06 5.77169570e-06 5.54088235e-06 5.26530227e-06\n",
      "  4.95263774e-06 4.61125027e-06 4.24981182e-06 3.87694449e-06\n",
      "  3.50088900e-06 3.12921911e-06 2.76861447e-06 2.42469920e-06\n",
      "  2.10194879e-06 1.80366247e-06 1.53199476e-06 1.28803650e-06\n",
      "  1.07193372e-06 8.83032270e-07 7.20035802e-07 5.81166380e-07\n",
      "  4.64318247e-07 3.67197651e-07 2.87443779e-07 2.22727996e-07\n",
      "  1.70830566e-07 1.29695595e-07 9.74661362e-08 7.25021939e-08\n",
      "  5.33847757e-08 3.89092243e-08 2.80709169e-08 2.00460819e-08\n",
      "  1.41700466e-08 9.91475372e-09 6.86691166e-09 4.70771177e-09\n",
      "  3.19467840e-09 2.14591889e-09 1.42681720e-09 9.39057624e-10\n",
      "  6.11765564e-10 3.94499709e-10 2.51812464e-10 1.59102364e-10\n",
      "  9.95050039e-11 6.16001946e-11 3.77474939e-11 2.28961804e-11]\n",
      " [3.73643128e-11 6.16001946e-11 1.00525455e-10 1.62382372e-10\n",
      "  2.59639399e-10 4.10933156e-10 6.43784695e-10 9.98341186e-10\n",
      "  1.53244961e-09 2.32842523e-09 3.50192841e-09 5.21340071e-09\n",
      "  7.68252224e-09 1.12061239e-08 1.61799022e-08 2.31241213e-08\n",
      "  3.27132326e-08 4.58089734e-08 6.34960243e-08 8.71186995e-08\n",
      "  1.18316444e-07 1.59055141e-07 2.11650446e-07 2.78778670e-07\n",
      "  3.63470167e-07 4.69079955e-07 5.99230425e-07 7.57721677e-07\n",
      "  9.48406330e-07 1.17502756e-06 1.44102175e-06 1.74929033e-06\n",
      "  2.10194879e-06 2.50006467e-06 2.94339962e-06 3.43017354e-06\n",
      "  3.95687044e-06 4.51810631e-06 5.10657760e-06 5.71310626e-06\n",
      "  6.32679181e-06 6.93527460e-06 7.52510657e-06 8.08221733e-06\n",
      "  8.59245506e-06 9.04217463e-06 9.41883930e-06 9.71159940e-06\n",
      "  9.91181090e-06 1.00134592e-05 1.00134592e-05 9.91181090e-06\n",
      "  9.71159940e-06 9.41883930e-06 9.04217463e-06 8.59245506e-06\n",
      "  8.08221733e-06 7.52510657e-06 6.93527460e-06 6.32679181e-06\n",
      "  5.71310626e-06 5.10657760e-06 4.51810631e-06 3.95687044e-06\n",
      "  3.43017354e-06 2.94339962e-06 2.50006467e-06 2.10194879e-06\n",
      "  1.74929033e-06 1.44102175e-06 1.17502756e-06 9.48406330e-07\n",
      "  7.57721677e-07 5.99230425e-07 4.69079955e-07 3.63470167e-07\n",
      "  2.78778670e-07 2.11650446e-07 1.59055141e-07 1.18316444e-07\n",
      "  8.71186995e-08 6.34960243e-08 4.58089734e-08 3.27132326e-08\n",
      "  2.31241213e-08 1.61799022e-08 1.12061239e-08 7.68252224e-09\n",
      "  5.21340071e-09 3.50192841e-09 2.32842523e-09 1.53244961e-09\n",
      "  9.98341186e-10 6.43784695e-10 4.10933156e-10 2.59639399e-10\n",
      "  1.62382372e-10 1.00525455e-10 6.16001946e-11 3.73643128e-11]\n",
      " [6.03559147e-11 9.95050039e-11 1.62382372e-10 2.62302071e-10\n",
      "  4.19404834e-10 6.63795067e-10 1.03992851e-09 1.61265633e-09\n",
      "  2.47542083e-09 3.76118879e-09 5.65679057e-09 8.42139317e-09\n",
      "  1.24098537e-08 1.81016540e-08 2.61359764e-08 3.73532226e-08\n",
      "  5.28428580e-08 7.39968780e-08 1.02567406e-07 1.40725960e-07\n",
      "  1.91120796e-07 2.56927474e-07 3.41886557e-07 4.50321185e-07\n",
      "  5.87126398e-07 7.57721677e-07 9.67958399e-07 1.22397500e-06\n",
      "  1.53199476e-06 1.89806416e-06 2.32773412e-06 2.82569142e-06\n",
      "  3.39535328e-06 4.03844413e-06 4.75457898e-06 5.54088235e-06\n",
      "  6.39167476e-06 7.29825918e-06 8.24883796e-06 9.22858547e-06\n",
      "  1.02198937e-05 1.12027978e-05 1.21555746e-05 1.30554956e-05\n",
      "  1.38797009e-05 1.46061490e-05 1.52145890e-05 1.56874949e-05\n",
      "  1.60109037e-05 1.61750998e-05 1.61750998e-05 1.60109037e-05\n",
      "  1.56874949e-05 1.52145890e-05 1.46061490e-05 1.38797009e-05\n",
      "  1.30554956e-05 1.21555746e-05 1.12027978e-05 1.02198937e-05\n",
      "  9.22858547e-06 8.24883796e-06 7.29825918e-06 6.39167476e-06\n",
      "  5.54088235e-06 4.75457898e-06 4.03844413e-06 3.39535328e-06\n",
      "  2.82569142e-06 2.32773412e-06 1.89806416e-06 1.53199476e-06\n",
      "  1.22397500e-06 9.67958399e-07 7.57721677e-07 5.87126398e-07\n",
      "  4.50321185e-07 3.41886557e-07 2.56927474e-07 1.91120796e-07\n",
      "  1.40725960e-07 1.02567406e-07 7.39968780e-08 5.28428580e-08\n",
      "  3.73532226e-08 2.61359764e-08 1.81016540e-08 1.24098537e-08\n",
      "  8.42139317e-09 5.65679057e-09 3.76118879e-09 2.47542083e-09\n",
      "  1.61265633e-09 1.03992851e-09 6.63795067e-10 4.19404834e-10\n",
      "  2.62302071e-10 1.62382372e-10 9.95050039e-11 6.03559147e-11]\n",
      " [9.65053852e-11 1.59102364e-10 2.59639399e-10 4.19404834e-10\n",
      "  6.70602464e-10 1.06136737e-09 1.66278155e-09 2.57853801e-09\n",
      "  3.95804524e-09 6.01390891e-09 9.04485926e-09 1.34652883e-08\n",
      "  1.98425908e-08 2.89434283e-08 4.17898144e-08 5.97254992e-08\n",
      "  8.44924709e-08 1.18316444e-07 1.63998956e-07 2.25012131e-07\n",
      "  3.05590366e-07 4.10811186e-07 5.46655520e-07 7.20035802e-07\n",
      "  9.38778900e-07 1.21155023e-06 1.54770578e-06 1.95706055e-06\n",
      "  2.44956515e-06 3.03488753e-06 3.72190330e-06 4.51810631e-06\n",
      "  5.42896049e-06 6.45722310e-06 7.60227856e-06 8.85952916e-06\n",
      "  1.02198937e-05 1.16694663e-05 1.31893832e-05 1.47559390e-05\n",
      "  1.63409798e-05 1.79125828e-05 1.94360141e-05 2.08749322e-05\n",
      "  2.21927857e-05 2.33543315e-05 2.43271894e-05 2.50833368e-05\n",
      "  2.56004475e-05 2.58629870e-05 2.58629870e-05 2.56004475e-05\n",
      "  2.50833368e-05 2.43271894e-05 2.33543315e-05 2.21927857e-05\n",
      "  2.08749322e-05 1.94360141e-05 1.79125828e-05 1.63409798e-05\n",
      "  1.47559390e-05 1.31893832e-05 1.16694663e-05 1.02198937e-05\n",
      "  8.85952916e-06 7.60227856e-06 6.45722310e-06 5.42896049e-06\n",
      "  4.51810631e-06 3.72190330e-06 3.03488753e-06 2.44956515e-06\n",
      "  1.95706055e-06 1.54770578e-06 1.21155023e-06 9.38778900e-07\n",
      "  7.20035802e-07 5.46655520e-07 4.10811186e-07 3.05590366e-07\n",
      "  2.25012131e-07 1.63998956e-07 1.18316444e-07 8.44924709e-08\n",
      "  5.97254992e-08 4.17898144e-08 2.89434283e-08 1.98425908e-08\n",
      "  1.34652883e-08 9.04485926e-09 6.01390891e-09 3.95804524e-09\n",
      "  2.57853801e-09 1.66278155e-09 1.06136737e-09 6.70602464e-10\n",
      "  4.19404834e-10 2.59639399e-10 1.59102364e-10 9.65053852e-11]\n",
      " [1.52739772e-10 2.51812464e-10 4.10933156e-10 6.63795067e-10\n",
      "  1.06136737e-09 1.67983382e-09 2.63169640e-09 4.08107077e-09\n",
      "  6.26442685e-09 9.51825716e-09 1.43153642e-08 2.13116093e-08\n",
      "  3.14050121e-08 4.58089734e-08 6.61410417e-08 9.45279799e-08\n",
      "  1.33726845e-07 1.87260293e-07 2.59562335e-07 3.56128329e-07\n",
      "  4.83660085e-07 6.50193838e-07 8.65195648e-07 1.13960588e-06\n",
      "  1.48581216e-06 1.91752932e-06 2.44956515e-06 3.09745389e-06\n",
      "  3.87694449e-06 4.80333847e-06 5.89068330e-06 7.15083956e-06\n",
      "  8.59245506e-06 1.02198937e-05 1.20321813e-05 1.40220409e-05\n",
      "  1.61750998e-05 1.84693488e-05 2.08749322e-05 2.33543315e-05\n",
      "  2.58629870e-05 2.83503745e-05 3.07615201e-05 3.30389063e-05\n",
      "  3.51246825e-05 3.69630695e-05 3.85028188e-05 3.96995787e-05\n",
      "  4.05180136e-05 4.09335368e-05 4.09335368e-05 4.05180136e-05\n",
      "  3.96995787e-05 3.85028188e-05 3.69630695e-05 3.51246825e-05\n",
      "  3.30389063e-05 3.07615201e-05 2.83503745e-05 2.58629870e-05\n",
      "  2.33543315e-05 2.08749322e-05 1.84693488e-05 1.61750998e-05\n",
      "  1.40220409e-05 1.20321813e-05 1.02198937e-05 8.59245506e-06\n",
      "  7.15083956e-06 5.89068330e-06 4.80333847e-06 3.87694449e-06\n",
      "  3.09745389e-06 2.44956515e-06 1.91752932e-06 1.48581216e-06\n",
      "  1.13960588e-06 8.65195648e-07 6.50193838e-07 4.83660085e-07\n",
      "  3.56128329e-07 2.59562335e-07 1.87260293e-07 1.33726845e-07\n",
      "  9.45279799e-08 6.61410417e-08 4.58089734e-08 3.14050121e-08\n",
      "  2.13116093e-08 1.43153642e-08 9.51825716e-09 6.26442685e-09\n",
      "  4.08107077e-09 2.63169640e-09 1.67983382e-09 1.06136737e-09\n",
      "  6.63795067e-10 4.10933156e-10 2.51812464e-10 1.52739772e-10]\n",
      " [2.39288376e-10 3.94499709e-10 6.43784695e-10 1.03992851e-09\n",
      "  1.66278155e-09 2.63169640e-09 4.12292325e-09 6.39357245e-09\n",
      "  9.81410741e-09 1.49116911e-08 2.24270353e-08 3.33876390e-08\n",
      "  4.92003768e-08 7.17662121e-08 1.03619262e-07 1.48091401e-07\n",
      "  2.09501947e-07 2.93369636e-07 4.06640973e-07 5.57925211e-07\n",
      "  7.57721677e-07 1.01862027e-06 1.35545090e-06 1.78535319e-06\n",
      "  2.32773412e-06 3.00407989e-06 3.83758898e-06 4.85259800e-06\n",
      "  6.07377986e-06 7.52510657e-06 9.22858547e-06 1.12027978e-05\n",
      "  1.34612916e-05 1.60109037e-05 1.88501075e-05 2.19675030e-05\n",
      "  2.53405732e-05 2.89348375e-05 3.27035229e-05 3.65878512e-05\n",
      "  4.05180136e-05 4.44148566e-05 4.81922560e-05 5.17601024e-05\n",
      "  5.50277648e-05 5.79078570e-05 6.03200912e-05 6.21949843e-05\n",
      "  6.34771779e-05 6.41281535e-05 6.41281535e-05 6.34771779e-05\n",
      "  6.21949843e-05 6.03200912e-05 5.79078570e-05 5.50277648e-05\n",
      "  5.17601024e-05 4.81922560e-05 4.44148566e-05 4.05180136e-05\n",
      "  3.65878512e-05 3.27035229e-05 2.89348375e-05 2.53405732e-05\n",
      "  2.19675030e-05 1.88501075e-05 1.60109037e-05 1.34612916e-05\n",
      "  1.12027978e-05 9.22858547e-06 7.52510657e-06 6.07377986e-06\n",
      "  4.85259800e-06 3.83758898e-06 3.00407989e-06 2.32773412e-06\n",
      "  1.78535319e-06 1.35545090e-06 1.01862027e-06 7.57721677e-07\n",
      "  5.57925211e-07 4.06640973e-07 2.93369636e-07 2.09501947e-07\n",
      "  1.48091401e-07 1.03619262e-07 7.17662121e-08 4.92003768e-08\n",
      "  3.33876390e-08 2.24270353e-08 1.49116911e-08 9.81410741e-09\n",
      "  6.39357245e-09 4.12292325e-09 2.63169640e-09 1.66278155e-09\n",
      "  1.03992851e-09 6.43784695e-10 3.94499709e-10 2.39288376e-10]\n",
      " [3.71073501e-10 6.11765564e-10 9.98341186e-10 1.61265633e-09\n",
      "  2.57853801e-09 4.08107077e-09 6.39357245e-09 9.91475372e-09\n",
      "  1.52191062e-08 2.31241213e-08 3.47784487e-08 5.17754700e-08\n",
      "  7.62968783e-08 1.11290569e-07 1.60686294e-07 2.29650916e-07\n",
      "  3.24882564e-07 4.54939350e-07 6.30593481e-07 8.65195648e-07\n",
      "  1.17502756e-06 1.57961283e-06 2.10194879e-06 2.76861447e-06\n",
      "  3.60970502e-06 4.65853988e-06 5.95109384e-06 7.52510657e-06\n",
      "  9.41883930e-06 1.16694663e-05 1.43111152e-05 1.73726007e-05\n",
      "  2.08749322e-05 2.48287117e-05 2.92315721e-05 3.40658347e-05\n",
      "  3.92965817e-05 4.48703429e-05 5.07145853e-05 5.67381596e-05\n",
      "  6.28328106e-05 6.88757917e-05 7.47335474e-05 8.02663412e-05\n",
      "  8.53336284e-05 8.97998959e-05 9.35406385e-05 9.64481057e-05\n",
      "  9.84364518e-05 9.94459441e-05 9.94459441e-05 9.84364518e-05\n",
      "  9.64481057e-05 9.35406385e-05 8.97998959e-05 8.53336284e-05\n",
      "  8.02663412e-05 7.47335474e-05 6.88757917e-05 6.28328106e-05\n",
      "  5.67381596e-05 5.07145853e-05 4.48703429e-05 3.92965817e-05\n",
      "  3.40658347e-05 2.92315721e-05 2.48287117e-05 2.08749322e-05\n",
      "  1.73726007e-05 1.43111152e-05 1.16694663e-05 9.41883930e-06\n",
      "  7.52510657e-06 5.95109384e-06 4.65853988e-06 3.60970502e-06\n",
      "  2.76861447e-06 2.10194879e-06 1.57961283e-06 1.17502756e-06\n",
      "  8.65195648e-07 6.30593481e-07 4.54939350e-07 3.24882564e-07\n",
      "  2.29650916e-07 1.60686294e-07 1.11290569e-07 7.62968783e-08\n",
      "  5.17754700e-08 3.47784487e-08 2.31241213e-08 1.52191062e-08\n",
      "  9.91475372e-09 6.39357245e-09 4.08107077e-09 2.57853801e-09\n",
      "  1.61265633e-09 9.98341186e-10 6.11765564e-10 3.71073501e-10]\n",
      " [5.69596298e-10 9.39057624e-10 1.53244961e-09 2.47542083e-09\n",
      "  3.95804524e-09 6.26442685e-09 9.81410741e-09 1.52191062e-08\n",
      "  2.33612654e-08 3.54954311e-08 5.33847757e-08 7.94751335e-08\n",
      "  1.17115394e-07 1.70830566e-07 2.46652801e-07 3.52513211e-07\n",
      "  4.98693400e-07 6.98330030e-07 9.67958399e-07 1.32807176e-06\n",
      "  1.80366247e-06 2.42469920e-06 3.22648275e-06 4.24981182e-06\n",
      "  5.54088235e-06 7.15083956e-06 9.13490456e-06 1.15510076e-05\n",
      "  1.44578796e-05 1.79125828e-05 2.19675030e-05 2.66668707e-05\n",
      "  3.20429351e-05 3.81119703e-05 4.48703429e-05 5.22909162e-05\n",
      "  6.03200912e-05 6.88757917e-05 7.78466798e-05 8.70928416e-05\n",
      "  9.64481057e-05 1.05724057e-04 1.14715688e-04 1.23208504e-04\n",
      "  1.30986769e-04 1.37842471e-04 1.43584495e-04 1.48047446e-04\n",
      "  1.51099549e-04 1.52649115e-04 1.52649115e-04 1.51099549e-04\n",
      "  1.48047446e-04 1.43584495e-04 1.37842471e-04 1.30986769e-04\n",
      "  1.23208504e-04 1.14715688e-04 1.05724057e-04 9.64481057e-05\n",
      "  8.70928416e-05 7.78466798e-05 6.88757917e-05 6.03200912e-05\n",
      "  5.22909162e-05 4.48703429e-05 3.81119703e-05 3.20429351e-05\n",
      "  2.66668707e-05 2.19675030e-05 1.79125828e-05 1.44578796e-05\n",
      "  1.15510076e-05 9.13490456e-06 7.15083956e-06 5.54088235e-06\n",
      "  4.24981182e-06 3.22648275e-06 2.42469920e-06 1.80366247e-06\n",
      "  1.32807176e-06 9.67958399e-07 6.98330030e-07 4.98693400e-07\n",
      "  3.52513211e-07 2.46652801e-07 1.70830566e-07 1.17115394e-07\n",
      "  7.94751335e-08 5.33847757e-08 3.54954311e-08 2.33612654e-08\n",
      "  1.52191062e-08 9.81410741e-09 6.26442685e-09 3.95804524e-09\n",
      "  2.47542083e-09 1.53244961e-09 9.39057624e-10 5.69596298e-10]\n",
      " [8.65452525e-10 1.42681720e-09 2.32842523e-09 3.76118879e-09\n",
      "  6.01390891e-09 9.51825716e-09 1.49116911e-08 2.31241213e-08\n",
      "  3.54954311e-08 5.39322510e-08 8.11135697e-08 1.20755622e-07\n",
      "  1.77946757e-07 2.59562335e-07 3.74767691e-07 5.35613469e-07\n",
      "  7.57721677e-07 1.06105235e-06 1.47072943e-06 2.01789068e-06\n",
      "  2.74050980e-06 3.68412164e-06 4.90236270e-06 6.45722310e-06\n",
      "  8.41889360e-06 1.08650849e-05 1.38797009e-05 1.75507614e-05\n",
      "  2.19675030e-05 2.72166271e-05 3.33777292e-05 4.05180136e-05\n",
      "  4.86864806e-05 5.79078570e-05 6.81766221e-05 7.94515443e-05\n",
      "  9.16511844e-05 1.04650835e-04 1.18281326e-04 1.32330073e-04\n",
      "  1.46544591e-04 1.60638601e-04 1.74300609e-04 1.87204712e-04\n",
      "  1.99023115e-04 2.09439765e-04 2.18164276e-04 2.24945345e-04\n",
      "  2.29582753e-04 2.31937186e-04 2.31937186e-04 2.29582753e-04\n",
      "  2.24945345e-04 2.18164276e-04 2.09439765e-04 1.99023115e-04\n",
      "  1.87204712e-04 1.74300609e-04 1.60638601e-04 1.46544591e-04\n",
      "  1.32330073e-04 1.18281326e-04 1.04650835e-04 9.16511844e-05\n",
      "  7.94515443e-05 6.81766221e-05 5.79078570e-05 4.86864806e-05\n",
      "  4.05180136e-05 3.33777292e-05 2.72166271e-05 2.19675030e-05\n",
      "  1.75507614e-05 1.38797009e-05 1.08650849e-05 8.41889360e-06\n",
      "  6.45722310e-06 4.90236270e-06 3.68412164e-06 2.74050980e-06\n",
      "  2.01789068e-06 1.47072943e-06 1.06105235e-06 7.57721677e-07\n",
      "  5.35613469e-07 3.74767691e-07 2.59562335e-07 1.77946757e-07\n",
      "  1.20755622e-07 8.11135697e-08 5.39322510e-08 3.54954311e-08\n",
      "  2.31241213e-08 1.49116911e-08 9.51825716e-09 6.01390891e-09\n",
      "  3.76118879e-09 2.32842523e-09 1.42681720e-09 8.65452525e-10]\n",
      " [1.30163200e-09 2.14591889e-09 3.50192841e-09 5.65679057e-09\n",
      "  9.04485926e-09 1.43153642e-08 2.24270353e-08 3.47784487e-08\n",
      "  5.33847757e-08 8.11135697e-08 1.21994003e-07 1.81615255e-07\n",
      "  2.67630154e-07 3.90379173e-07 5.63646884e-07 8.05557336e-07\n",
      "  1.13960588e-06 1.59581219e-06 2.21196246e-06 3.03488753e-06\n",
      "  4.12169952e-06 5.54088235e-06 7.37310479e-06 9.71159940e-06\n",
      "  1.26619323e-05 1.63409798e-05 2.08749322e-05 2.63961708e-05\n",
      "  3.30389063e-05 4.09335368e-05 5.01997731e-05 6.09386900e-05\n",
      "  7.32239831e-05 8.70928416e-05 1.02536962e-04 1.19494333e-04\n",
      "  1.37842471e-04 1.57393816e-04 1.77893940e-04 1.99023115e-04\n",
      "  2.20401610e-04 2.41598859e-04 2.62146385e-04 2.81554026e-04\n",
      "  2.99328788e-04 3.14995325e-04 3.28116904e-04 3.38315564e-04\n",
      "  3.45290179e-04 3.48831223e-04 3.48831223e-04 3.45290179e-04\n",
      "  3.38315564e-04 3.28116904e-04 3.14995325e-04 2.99328788e-04\n",
      "  2.81554026e-04 2.62146385e-04 2.41598859e-04 2.20401610e-04\n",
      "  1.99023115e-04 1.77893940e-04 1.57393816e-04 1.37842471e-04\n",
      "  1.19494333e-04 1.02536962e-04 8.70928416e-05 7.32239831e-05\n",
      "  6.09386900e-05 5.01997731e-05 4.09335368e-05 3.30389063e-05\n",
      "  2.63961708e-05 2.08749322e-05 1.63409798e-05 1.26619323e-05\n",
      "  9.71159940e-06 7.37310479e-06 5.54088235e-06 4.12169952e-06\n",
      "  3.03488753e-06 2.21196246e-06 1.59581219e-06 1.13960588e-06\n",
      "  8.05557336e-07 5.63646884e-07 3.90379173e-07 2.67630154e-07\n",
      "  1.81615255e-07 1.21994003e-07 8.11135697e-08 5.33847757e-08\n",
      "  3.47784487e-08 2.24270353e-08 1.43153642e-08 9.04485926e-09\n",
      "  5.65679057e-09 3.50192841e-09 2.14591889e-09 1.30163200e-09]\n",
      " [1.93776925e-09 3.19467840e-09 5.21340071e-09 8.42139317e-09\n",
      "  1.34652883e-08 2.13116093e-08 3.33876390e-08 5.17754700e-08\n",
      "  7.94751335e-08 1.20755622e-07 1.81615255e-07 2.70374774e-07\n",
      "  3.98427116e-07 5.81166380e-07 8.39113975e-07 1.19925158e-06\n",
      "  1.69655726e-06 2.37572201e-06 3.29299897e-06 4.51810631e-06\n",
      "  6.13606810e-06 8.24883796e-06 1.09765093e-05 1.44578796e-05\n",
      "  1.88501075e-05 2.43271894e-05 3.10769878e-05 3.92965817e-05\n",
      "  4.91857735e-05 6.09386900e-05 7.47335474e-05 9.07208180e-05\n",
      "  1.09010214e-04 1.29657100e-04 1.52649115e-04 1.77893940e-04\n",
      "  2.05209231e-04 2.34315764e-04 2.64834767e-04 2.96290252e-04\n",
      "  3.28116904e-04 3.59673733e-04 3.90263304e-04 4.19155902e-04\n",
      "  4.45617596e-04 4.68940727e-04 4.88475121e-04 5.03658098e-04\n",
      "  5.14041367e-04 5.19312999e-04 5.19312999e-04 5.14041367e-04\n",
      "  5.03658098e-04 4.88475121e-04 4.68940727e-04 4.45617596e-04\n",
      "  4.19155902e-04 3.90263304e-04 3.59673733e-04 3.28116904e-04\n",
      "  2.96290252e-04 2.64834767e-04 2.34315764e-04 2.05209231e-04\n",
      "  1.77893940e-04 1.52649115e-04 1.29657100e-04 1.09010214e-04\n",
      "  9.07208180e-05 7.47335474e-05 6.09386900e-05 4.91857735e-05\n",
      "  3.92965817e-05 3.10769878e-05 2.43271894e-05 1.88501075e-05\n",
      "  1.44578796e-05 1.09765093e-05 8.24883796e-06 6.13606810e-06\n",
      "  4.51810631e-06 3.29299897e-06 2.37572201e-06 1.69655726e-06\n",
      "  1.19925158e-06 8.39113975e-07 5.81166380e-07 3.98427116e-07\n",
      "  2.70374774e-07 1.81615255e-07 1.20755622e-07 7.94751335e-08\n",
      "  5.17754700e-08 3.33876390e-08 2.13116093e-08 1.34652883e-08\n",
      "  8.42139317e-09 5.21340071e-09 3.19467840e-09 1.93776925e-09]\n",
      " [2.85551720e-09 4.70771177e-09 7.68252224e-09 1.24098537e-08\n",
      "  1.98425908e-08 3.14050121e-08 4.92003768e-08 7.62968783e-08\n",
      "  1.17115394e-07 1.77946757e-07 2.67630154e-07 3.98427116e-07\n",
      "  5.87126398e-07 8.56412904e-07 1.23652720e-06 1.76722977e-06\n",
      "  2.50006467e-06 3.50088900e-06 4.85259800e-06 6.65792908e-06\n",
      "  9.04217463e-06 1.21555746e-05 1.61750998e-05 2.13052837e-05\n",
      "  2.77777171e-05 3.58488027e-05 4.57953768e-05 5.79078570e-05\n",
      "  7.24806743e-05 8.97998959e-05 1.10128143e-04 1.33687154e-04\n",
      "  1.60638601e-04 1.91064069e-04 2.24945345e-04 2.62146385e-04\n",
      "  3.02398485e-04 3.45290179e-04 3.90263304e-04 4.36616438e-04\n",
      "  4.83516528e-04 5.30019005e-04 5.75096118e-04 6.17672555e-04\n",
      "  6.56666786e-04 6.91035997e-04 7.19822086e-04 7.42195882e-04\n",
      "  7.57496776e-04 7.65265109e-04 7.65265109e-04 7.57496776e-04\n",
      "  7.42195882e-04 7.19822086e-04 6.91035997e-04 6.56666786e-04\n",
      "  6.17672555e-04 5.75096118e-04 5.30019005e-04 4.83516528e-04\n",
      "  4.36616438e-04 3.90263304e-04 3.45290179e-04 3.02398485e-04\n",
      "  2.62146385e-04 2.24945345e-04 1.91064069e-04 1.60638601e-04\n",
      "  1.33687154e-04 1.10128143e-04 8.97998959e-05 7.24806743e-05\n",
      "  5.79078570e-05 4.57953768e-05 3.58488027e-05 2.77777171e-05\n",
      "  2.13052837e-05 1.61750998e-05 1.21555746e-05 9.04217463e-06\n",
      "  6.65792908e-06 4.85259800e-06 3.50088900e-06 2.50006467e-06\n",
      "  1.76722977e-06 1.23652720e-06 8.56412904e-07 5.87126398e-07\n",
      "  3.98427116e-07 2.67630154e-07 1.77946757e-07 1.17115394e-07\n",
      "  7.62968783e-08 4.92003768e-08 3.14050121e-08 1.98425908e-08\n",
      "  1.24098537e-08 7.68252224e-09 4.70771177e-09 2.85551720e-09]\n",
      " [4.16520494e-09 6.86691166e-09 1.12061239e-08 1.81016540e-08\n",
      "  2.89434283e-08 4.58089734e-08 7.17662121e-08 1.11290569e-07\n",
      "  1.70830566e-07 2.59562335e-07 3.90379173e-07 5.81166380e-07\n",
      "  8.56412904e-07 1.24920812e-06 1.80366247e-06 2.57777267e-06\n",
      "  3.64672351e-06 5.10657760e-06 7.07825020e-06 9.71159940e-06\n",
      "  1.31893832e-05 1.77307492e-05 2.35938364e-05 3.10769878e-05\n",
      "  4.05180136e-05 5.22909162e-05 6.67995030e-05 8.44673925e-05\n",
      "  1.05724057e-04 1.30986769e-04 1.60638601e-04 1.95002990e-04\n",
      "  2.34315764e-04 2.78695925e-04 3.28116904e-04 3.82380263e-04\n",
      "  4.41094057e-04 5.03658098e-04 5.69258221e-04 6.36871299e-04\n",
      "  7.05282194e-04 7.73113109e-04 8.38864915e-04 9.00969108e-04\n",
      "  9.57848107e-04 1.00798082e-03 1.04996969e-03 1.08260527e-03\n",
      "  1.10492394e-03 1.11625523e-03 1.11625523e-03 1.10492394e-03\n",
      "  1.08260527e-03 1.04996969e-03 1.00798082e-03 9.57848107e-04\n",
      "  9.00969108e-04 8.38864915e-04 7.73113109e-04 7.05282194e-04\n",
      "  6.36871299e-04 5.69258221e-04 5.03658098e-04 4.41094057e-04\n",
      "  3.82380263e-04 3.28116904e-04 2.78695925e-04 2.34315764e-04\n",
      "  1.95002990e-04 1.60638601e-04 1.30986769e-04 1.05724057e-04\n",
      "  8.44673925e-05 6.67995030e-05 5.22909162e-05 4.05180136e-05\n",
      "  3.10769878e-05 2.35938364e-05 1.77307492e-05 1.31893832e-05\n",
      "  9.71159940e-06 7.07825020e-06 5.10657760e-06 3.64672351e-06\n",
      "  2.57777267e-06 1.80366247e-06 1.24920812e-06 8.56412904e-07\n",
      "  5.81166380e-07 3.90379173e-07 2.59562335e-07 1.70830566e-07\n",
      "  1.11290569e-07 7.17662121e-08 4.58089734e-08 2.89434283e-08\n",
      "  1.81016540e-08 1.12061239e-08 6.86691166e-09 4.16520494e-09]\n",
      " [6.01390891e-09 9.91475372e-09 1.61799022e-08 2.61359764e-08\n",
      "  4.17898144e-08 6.61410417e-08 1.03619262e-07 1.60686294e-07\n",
      "  2.46652801e-07 3.74767691e-07 5.63646884e-07 8.39113975e-07\n",
      "  1.23652720e-06 1.80366247e-06 2.60420842e-06 3.72190330e-06\n",
      "  5.26530227e-06 7.37310479e-06 1.02198937e-05 1.40220409e-05\n",
      "  1.90434205e-05 2.56004475e-05 3.40658347e-05 4.48703429e-05\n",
      "  5.85017176e-05 7.54999601e-05 9.64481057e-05 1.21957794e-04\n",
      "  1.52649115e-04 1.89124546e-04 2.31937186e-04 2.81554026e-04\n",
      "  3.38315564e-04 4.02393623e-04 4.73749840e-04 5.52097701e-04\n",
      "  6.36871299e-04 7.27204055e-04 8.21920443e-04 9.19543224e-04\n",
      "  1.01831793e-03 1.11625523e-03 1.21119063e-03 1.30085943e-03\n",
      "  1.38298387e-03 1.45536772e-03 1.51599313e-03 1.56311383e-03\n",
      "  1.59533853e-03 1.61169916e-03 1.61169916e-03 1.59533853e-03\n",
      "  1.56311383e-03 1.51599313e-03 1.45536772e-03 1.38298387e-03\n",
      "  1.30085943e-03 1.21119063e-03 1.11625523e-03 1.01831793e-03\n",
      "  9.19543224e-04 8.21920443e-04 7.27204055e-04 6.36871299e-04\n",
      "  5.52097701e-04 4.73749840e-04 4.02393623e-04 3.38315564e-04\n",
      "  2.81554026e-04 2.31937186e-04 1.89124546e-04 1.52649115e-04\n",
      "  1.21957794e-04 9.64481057e-05 7.54999601e-05 5.85017176e-05\n",
      "  4.48703429e-05 3.40658347e-05 2.56004475e-05 1.90434205e-05\n",
      "  1.40220409e-05 1.02198937e-05 7.37310479e-06 5.26530227e-06\n",
      "  3.72190330e-06 2.60420842e-06 1.80366247e-06 1.23652720e-06\n",
      "  8.39113975e-07 5.63646884e-07 3.74767691e-07 2.46652801e-07\n",
      "  1.60686294e-07 1.03619262e-07 6.61410417e-08 4.17898144e-08\n",
      "  2.61359764e-08 1.61799022e-08 9.91475372e-09 6.01390891e-09]\n",
      " [8.59500616e-09 1.41700466e-08 2.31241213e-08 3.73532226e-08\n",
      "  5.97254992e-08 9.45279799e-08 1.48091401e-07 2.29650916e-07\n",
      "  3.52513211e-07 5.35613469e-07 8.05557336e-07 1.19925158e-06\n",
      "  1.76722977e-06 2.57777267e-06 3.72190330e-06 5.31929936e-06\n",
      "  7.52510657e-06 1.05375525e-05 1.46061490e-05 2.00401320e-05\n",
      "  2.72166271e-05 3.65878512e-05 4.86864806e-05 6.41281535e-05\n",
      "  8.36099500e-05 1.07903633e-04 1.37842471e-04 1.74300609e-04\n",
      "  2.18164276e-04 2.70294523e-04 3.31481831e-04 4.02393623e-04\n",
      "  4.83516528e-04 5.75096118e-04 6.77077564e-04 7.89051384e-04\n",
      "  9.10208788e-04 1.03931128e-03 1.17467880e-03 1.31420010e-03\n",
      "  1.45536772e-03 1.59533853e-03 1.73101905e-03 1.85917263e-03\n",
      "  1.97654389e-03 2.07999401e-03 2.16663912e-03 2.23398346e-03\n",
      "  2.28003861e-03 2.30342102e-03 2.30342102e-03 2.28003861e-03\n",
      "  2.23398346e-03 2.16663912e-03 2.07999401e-03 1.97654389e-03\n",
      "  1.85917263e-03 1.73101905e-03 1.59533853e-03 1.45536772e-03\n",
      "  1.31420010e-03 1.17467880e-03 1.03931128e-03 9.10208788e-04\n",
      "  7.89051384e-04 6.77077564e-04 5.75096118e-04 4.83516528e-04\n",
      "  4.02393623e-04 3.31481831e-04 2.70294523e-04 2.18164276e-04\n",
      "  1.74300609e-04 1.37842471e-04 1.07903633e-04 8.36099500e-05\n",
      "  6.41281535e-05 4.86864806e-05 3.65878512e-05 2.72166271e-05\n",
      "  2.00401320e-05 1.46061490e-05 1.05375525e-05 7.52510657e-06\n",
      "  5.31929936e-06 3.72190330e-06 2.57777267e-06 1.76722977e-06\n",
      "  1.19925158e-06 8.05557336e-07 5.35613469e-07 3.52513211e-07\n",
      "  2.29650916e-07 1.48091401e-07 9.45279799e-08 5.97254992e-08\n",
      "  3.73532226e-08 2.31241213e-08 1.41700466e-08 8.59500616e-09]\n",
      " [1.21591836e-08 2.00460819e-08 3.27132326e-08 5.28428580e-08\n",
      "  8.44924709e-08 1.33726845e-07 2.09501947e-07 3.24882564e-07\n",
      "  4.98693400e-07 7.57721677e-07 1.13960588e-06 1.69655726e-06\n",
      "  2.50006467e-06 3.64672351e-06 5.26530227e-06 7.52510657e-06\n",
      "  1.06456180e-05 1.49072651e-05 2.06630273e-05 2.83503745e-05\n",
      "  3.85028188e-05 5.17601024e-05 6.88757917e-05 9.07208180e-05\n",
      "  1.18281326e-04 1.52649115e-04 1.95002990e-04 2.46579591e-04\n",
      "  3.08632645e-04 3.82380263e-04 4.68940727e-04 5.69258221e-04\n",
      "  6.84021176e-04 8.13576992e-04 9.57848107e-04 1.11625523e-03\n",
      "  1.28765419e-03 1.47029290e-03 1.66179463e-03 1.85917263e-03\n",
      "  2.05887964e-03 2.25689356e-03 2.44883808e-03 2.63013439e-03\n",
      "  2.79617717e-03 2.94252598e-03 3.06510109e-03 3.16037178e-03\n",
      "  3.22552509e-03 3.25860371e-03 3.25860371e-03 3.22552509e-03\n",
      "  3.16037178e-03 3.06510109e-03 2.94252598e-03 2.79617717e-03\n",
      "  2.63013439e-03 2.44883808e-03 2.25689356e-03 2.05887964e-03\n",
      "  1.85917263e-03 1.66179463e-03 1.47029290e-03 1.28765419e-03\n",
      "  1.11625523e-03 9.57848107e-04 8.13576992e-04 6.84021176e-04\n",
      "  5.69258221e-04 4.68940727e-04 3.82380263e-04 3.08632645e-04\n",
      "  2.46579591e-04 1.95002990e-04 1.52649115e-04 1.18281326e-04\n",
      "  9.07208180e-05 6.88757917e-05 5.17601024e-05 3.85028188e-05\n",
      "  2.83503745e-05 2.06630273e-05 1.49072651e-05 1.06456180e-05\n",
      "  7.52510657e-06 5.26530227e-06 3.64672351e-06 2.50006467e-06\n",
      "  1.69655726e-06 1.13960588e-06 7.57721677e-07 4.98693400e-07\n",
      "  3.24882564e-07 2.09501947e-07 1.33726845e-07 8.44924709e-08\n",
      "  5.28428580e-08 3.27132326e-08 2.00460819e-08 1.21591836e-08]\n",
      " [1.70267403e-08 2.80709169e-08 4.58089734e-08 7.39968780e-08\n",
      "  1.18316444e-07 1.87260293e-07 2.93369636e-07 4.54939350e-07\n",
      "  6.98330030e-07 1.06105235e-06 1.59581219e-06 2.37572201e-06\n",
      "  3.50088900e-06 5.10657760e-06 7.37310479e-06 1.05375525e-05\n",
      "  1.49072651e-05 2.08749322e-05 2.89348375e-05 3.96995787e-05\n",
      "  5.39162432e-05 7.24806743e-05 9.64481057e-05 1.27038119e-04\n",
      "  1.65631633e-04 2.13757514e-04 2.73066466e-04 3.45290179e-04\n",
      "  4.32184272e-04 5.35454492e-04 6.56666786e-04 7.97143318e-04\n",
      "  9.57848107e-04 1.13926763e-03 1.34129326e-03 1.56311383e-03\n",
      "  1.80312712e-03 2.05887964e-03 2.32704322e-03 2.60343546e-03\n",
      "  2.88308906e-03 3.16037178e-03 3.42915542e-03 3.68302815e-03\n",
      "  3.91554107e-03 4.12047615e-03 4.29212045e-03 4.42552984e-03\n",
      "  4.51676528e-03 4.56308592e-03 4.56308592e-03 4.51676528e-03\n",
      "  4.42552984e-03 4.29212045e-03 4.12047615e-03 3.91554107e-03\n",
      "  3.68302815e-03 3.42915542e-03 3.16037178e-03 2.88308906e-03\n",
      "  2.60343546e-03 2.32704322e-03 2.05887964e-03 1.80312712e-03\n",
      "  1.56311383e-03 1.34129326e-03 1.13926763e-03 9.57848107e-04\n",
      "  7.97143318e-04 6.56666786e-04 5.35454492e-04 4.32184272e-04\n",
      "  3.45290179e-04 2.73066466e-04 2.13757514e-04 1.65631633e-04\n",
      "  1.27038119e-04 9.64481057e-05 7.24806743e-05 5.39162432e-05\n",
      "  3.96995787e-05 2.89348375e-05 2.08749322e-05 1.49072651e-05\n",
      "  1.05375525e-05 7.37310479e-06 5.10657760e-06 3.50088900e-06\n",
      "  2.37572201e-06 1.59581219e-06 1.06105235e-06 6.98330030e-07\n",
      "  4.54939350e-07 2.93369636e-07 1.87260293e-07 1.18316444e-07\n",
      "  7.39968780e-08 4.58089734e-08 2.80709169e-08 1.70267403e-08]\n",
      " [2.36008414e-08 3.89092243e-08 6.34960243e-08 1.02567406e-07\n",
      "  1.63998956e-07 2.59562335e-07 4.06640973e-07 6.30593481e-07\n",
      "  9.67958399e-07 1.47072943e-06 2.21196246e-06 3.29299897e-06\n",
      "  4.85259800e-06 7.07825020e-06 1.02198937e-05 1.46061490e-05\n",
      "  2.06630273e-05 2.89348375e-05 4.01067085e-05 5.50277648e-05\n",
      "  7.47335474e-05 1.00465789e-04 1.33687154e-04 1.76088109e-04\n",
      "  2.29582753e-04 2.96290252e-04 3.78498658e-04 4.78608272e-04\n",
      "  5.99052566e-04 7.42195882e-04 9.10208788e-04 1.10492394e-03\n",
      "  1.32767757e-03 1.57914399e-03 1.85917263e-03 2.16663912e-03\n",
      "  2.49932262e-03 2.85382234e-03 3.22552509e-03 3.60863361e-03\n",
      "  3.99626272e-03 4.38060556e-03 4.75316777e-03 5.10506190e-03\n",
      "  5.42734910e-03 5.71141054e-03 5.94932748e-03 6.13424684e-03\n",
      "  6.26070869e-03 6.32491394e-03 6.32491394e-03 6.26070869e-03\n",
      "  6.13424684e-03 5.94932748e-03 5.71141054e-03 5.42734910e-03\n",
      "  5.10506190e-03 4.75316777e-03 4.38060556e-03 3.99626272e-03\n",
      "  3.60863361e-03 3.22552509e-03 2.85382234e-03 2.49932262e-03\n",
      "  2.16663912e-03 1.85917263e-03 1.57914399e-03 1.32767757e-03\n",
      "  1.10492394e-03 9.10208788e-04 7.42195882e-04 5.99052566e-04\n",
      "  4.78608272e-04 3.78498658e-04 2.96290252e-04 2.29582753e-04\n",
      "  1.76088109e-04 1.33687154e-04 1.00465789e-04 7.47335474e-05\n",
      "  5.50277648e-05 4.01067085e-05 2.89348375e-05 2.06630273e-05\n",
      "  1.46061490e-05 1.02198937e-05 7.07825020e-06 4.85259800e-06\n",
      "  3.29299897e-06 2.21196246e-06 1.47072943e-06 9.67958399e-07\n",
      "  6.30593481e-07 4.06640973e-07 2.59562335e-07 1.63998956e-07\n",
      "  1.02567406e-07 6.34960243e-08 3.89092243e-08 2.36008414e-08]\n",
      " [3.23811551e-08 5.33847757e-08 8.71186995e-08 1.40725960e-07\n",
      "  2.25012131e-07 3.56128329e-07 5.57925211e-07 8.65195648e-07\n",
      "  1.32807176e-06 2.01789068e-06 3.03488753e-06 4.51810631e-06\n",
      "  6.65792908e-06 9.71159940e-06 1.40220409e-05 2.00401320e-05\n",
      "  2.83503745e-05 3.96995787e-05 5.50277648e-05 7.54999601e-05\n",
      "  1.02536962e-04 1.37842471e-04 1.83423310e-04 2.41598859e-04\n",
      "  3.14995325e-04 4.06520277e-04 5.19312999e-04 6.56666786e-04\n",
      "  8.21920443e-04 1.01831793e-03 1.24883734e-03 1.51599313e-03\n",
      "  1.82161867e-03 2.16663912e-03 2.55084792e-03 2.97270238e-03\n",
      "  3.42915542e-03 3.91554107e-03 4.42552984e-03 4.95116774e-03\n",
      "  5.48300803e-03 6.01033943e-03 6.52150742e-03 7.00431812e-03\n",
      "  7.44650709e-03 7.83624902e-03 8.16267914e-03 8.41639477e-03\n",
      "  8.58990471e-03 8.67799650e-03 8.67799650e-03 8.58990471e-03\n",
      "  8.41639477e-03 8.16267914e-03 7.83624902e-03 7.44650709e-03\n",
      "  7.00431812e-03 6.52150742e-03 6.01033943e-03 5.48300803e-03\n",
      "  4.95116774e-03 4.42552984e-03 3.91554107e-03 3.42915542e-03\n",
      "  2.97270238e-03 2.55084792e-03 2.16663912e-03 1.82161867e-03\n",
      "  1.51599313e-03 1.24883734e-03 1.01831793e-03 8.21920443e-04\n",
      "  6.56666786e-04 5.19312999e-04 4.06520277e-04 3.14995325e-04\n",
      "  2.41598859e-04 1.83423310e-04 1.37842471e-04 1.02536962e-04\n",
      "  7.54999601e-05 5.50277648e-05 3.96995787e-05 2.83503745e-05\n",
      "  2.00401320e-05 1.40220409e-05 9.71159940e-06 6.65792908e-06\n",
      "  4.51810631e-06 3.03488753e-06 2.01789068e-06 1.32807176e-06\n",
      "  8.65195648e-07 5.57925211e-07 3.56128329e-07 2.25012131e-07\n",
      "  1.40725960e-07 8.71186995e-08 5.33847757e-08 3.23811551e-08]\n",
      " [4.39770469e-08 7.25021939e-08 1.18316444e-07 1.91120796e-07\n",
      "  3.05590366e-07 4.83660085e-07 7.57721677e-07 1.17502756e-06\n",
      "  1.80366247e-06 2.74050980e-06 4.12169952e-06 6.13606810e-06\n",
      "  9.04217463e-06 1.31893832e-05 1.90434205e-05 2.72166271e-05\n",
      "  3.85028188e-05 5.39162432e-05 7.47335474e-05 1.02536962e-04\n",
      "  1.39256082e-04 1.87204712e-04 2.49108331e-04 3.28116904e-04\n",
      "  4.27797098e-04 5.52097701e-04 7.05282194e-04 8.91823221e-04\n",
      "  1.11625523e-03 1.38298387e-03 1.69605371e-03 2.05887964e-03\n",
      "  2.47395158e-03 2.94252598e-03 3.46432233e-03 4.03724547e-03\n",
      "  4.65715717e-03 5.31772053e-03 6.01033943e-03 6.72421151e-03\n",
      "  7.44650709e-03 8.16267914e-03 8.85689954e-03 9.51260773e-03\n",
      "  1.01131473e-02 1.06424582e-02 1.10857850e-02 1.14303578e-02\n",
      "  1.16660027e-02 1.17856407e-02 1.17856407e-02 1.16660027e-02\n",
      "  1.14303578e-02 1.10857850e-02 1.06424582e-02 1.01131473e-02\n",
      "  9.51260773e-03 8.85689954e-03 8.16267914e-03 7.44650709e-03\n",
      "  6.72421151e-03 6.01033943e-03 5.31772053e-03 4.65715717e-03\n",
      "  4.03724547e-03 3.46432233e-03 2.94252598e-03 2.47395158e-03\n",
      "  2.05887964e-03 1.69605371e-03 1.38298387e-03 1.11625523e-03\n",
      "  8.91823221e-04 7.05282194e-04 5.52097701e-04 4.27797098e-04\n",
      "  3.28116904e-04 2.49108331e-04 1.87204712e-04 1.39256082e-04\n",
      "  1.02536962e-04 7.47335474e-05 5.39162432e-05 3.85028188e-05\n",
      "  2.72166271e-05 1.90434205e-05 1.31893832e-05 9.04217463e-06\n",
      "  6.13606810e-06 4.12169952e-06 2.74050980e-06 1.80366247e-06\n",
      "  1.17502756e-06 7.57721677e-07 4.83660085e-07 3.05590366e-07\n",
      "  1.91120796e-07 1.18316444e-07 7.25021939e-08 4.39770469e-08]\n",
      " [5.91192158e-08 9.74661362e-08 1.59055141e-07 2.56927474e-07\n",
      "  4.10811186e-07 6.50193838e-07 1.01862027e-06 1.57961283e-06\n",
      "  2.42469920e-06 3.68412164e-06 5.54088235e-06 8.24883796e-06\n",
      "  1.21555746e-05 1.77307492e-05 2.56004475e-05 3.65878512e-05\n",
      "  5.17601024e-05 7.24806743e-05 1.00465789e-04 1.37842471e-04\n",
      "  1.87204712e-04 2.51663004e-04 3.34881267e-04 4.41094057e-04\n",
      "  5.75096118e-04 7.42195882e-04 9.48124832e-04 1.19889563e-03\n",
      "  1.50060403e-03 1.85917263e-03 2.28003861e-03 2.76779271e-03\n",
      "  3.32578214e-03 3.95569600e-03 4.65715717e-03 5.42734910e-03\n",
      "  6.26070869e-03 7.14871710e-03 8.07981842e-03 9.03949080e-03\n",
      "  1.00104871e-02 1.09732513e-02 1.19065056e-02 1.27879871e-02\n",
      "  1.35953044e-02 1.43068675e-02 1.49028405e-02 1.53660565e-02\n",
      "  1.56828386e-02 1.58436703e-02 1.58436703e-02 1.56828386e-02\n",
      "  1.53660565e-02 1.49028405e-02 1.43068675e-02 1.35953044e-02\n",
      "  1.27879871e-02 1.19065056e-02 1.09732513e-02 1.00104871e-02\n",
      "  9.03949080e-03 8.07981842e-03 7.14871710e-03 6.26070869e-03\n",
      "  5.42734910e-03 4.65715717e-03 3.95569600e-03 3.32578214e-03\n",
      "  2.76779271e-03 2.28003861e-03 1.85917263e-03 1.50060403e-03\n",
      "  1.19889563e-03 9.48124832e-04 7.42195882e-04 5.75096118e-04\n",
      "  4.41094057e-04 3.34881267e-04 2.51663004e-04 1.87204712e-04\n",
      "  1.37842471e-04 1.00465789e-04 7.24806743e-05 5.17601024e-05\n",
      "  3.65878512e-05 2.56004475e-05 1.77307492e-05 1.21555746e-05\n",
      "  8.24883796e-06 5.54088235e-06 3.68412164e-06 2.42469920e-06\n",
      "  1.57961283e-06 1.01862027e-06 6.50193838e-07 4.10811186e-07\n",
      "  2.56927474e-07 1.59055141e-07 9.74661362e-08 5.91192158e-08]\n",
      " [7.86683682e-08 1.29695595e-07 2.11650446e-07 3.41886557e-07\n",
      "  5.46655520e-07 8.65195648e-07 1.35545090e-06 2.10194879e-06\n",
      "  3.22648275e-06 4.90236270e-06 7.37310479e-06 1.09765093e-05\n",
      "  1.61750998e-05 2.35938364e-05 3.40658347e-05 4.86864806e-05\n",
      "  6.88757917e-05 9.64481057e-05 1.33687154e-04 1.83423310e-04\n",
      "  2.49108331e-04 3.34881267e-04 4.45617596e-04 5.86952132e-04\n",
      "  7.65265109e-04 9.87620322e-04 1.26164450e-03 1.59533853e-03\n",
      "  1.99681388e-03 2.47395158e-03 3.03398674e-03 3.68302815e-03\n",
      "  4.42552984e-03 5.26373946e-03 6.19715519e-03 7.22202912e-03\n",
      "  8.33095855e-03 9.51260773e-03 1.07515995e-02 1.20286100e-02\n",
      "  1.33206889e-02 1.46018137e-02 1.58436703e-02 1.70166344e-02\n",
      "  1.80909100e-02 1.90377681e-02 1.98308135e-02 2.04472027e-02\n",
      "  2.08687363e-02 2.10827508e-02 2.10827508e-02 2.08687363e-02\n",
      "  2.04472027e-02 1.98308135e-02 1.90377681e-02 1.80909100e-02\n",
      "  1.70166344e-02 1.58436703e-02 1.46018137e-02 1.33206889e-02\n",
      "  1.20286100e-02 1.07515995e-02 9.51260773e-03 8.33095855e-03\n",
      "  7.22202912e-03 6.19715519e-03 5.26373946e-03 4.42552984e-03\n",
      "  3.68302815e-03 3.03398674e-03 2.47395158e-03 1.99681388e-03\n",
      "  1.59533853e-03 1.26164450e-03 9.87620322e-04 7.65265109e-04\n",
      "  5.86952132e-04 4.45617596e-04 3.34881267e-04 2.49108331e-04\n",
      "  1.83423310e-04 1.33687154e-04 9.64481057e-05 6.88757917e-05\n",
      "  4.86864806e-05 3.40658347e-05 2.35938364e-05 1.61750998e-05\n",
      "  1.09765093e-05 7.37310479e-06 4.90236270e-06 3.22648275e-06\n",
      "  2.10194879e-06 1.35545090e-06 8.65195648e-07 5.46655520e-07\n",
      "  3.41886557e-07 2.11650446e-07 1.29695595e-07 7.86683682e-08]\n",
      " [1.03619262e-07 1.70830566e-07 2.78778670e-07 4.50321185e-07\n",
      "  7.20035802e-07 1.13960588e-06 1.78535319e-06 2.76861447e-06\n",
      "  4.24981182e-06 6.45722310e-06 9.71159940e-06 1.44578796e-05\n",
      "  2.13052837e-05 3.10769878e-05 4.48703429e-05 6.41281535e-05\n",
      "  9.07208180e-05 1.27038119e-04 1.76088109e-04 2.41598859e-04\n",
      "  3.28116904e-04 4.41094057e-04 5.86952132e-04 7.73113109e-04\n",
      "  1.00798082e-03 1.30085943e-03 1.66179463e-03 2.10132491e-03\n",
      "  2.63013439e-03 3.25860371e-03 3.99626272e-03 4.85115769e-03\n",
      "  5.82915531e-03 6.93321612e-03 8.16267914e-03 9.51260773e-03\n",
      "  1.09732513e-02 1.25296789e-02 1.41616361e-02 1.58436703e-02\n",
      "  1.75455521e-02 1.92330056e-02 2.08687363e-02 2.24137240e-02\n",
      "  2.38287228e-02 2.50758917e-02 2.61204637e-02 2.69323504e-02\n",
      "  2.74875798e-02 2.77694724e-02 2.77694724e-02 2.74875798e-02\n",
      "  2.69323504e-02 2.61204637e-02 2.50758917e-02 2.38287228e-02\n",
      "  2.24137240e-02 2.08687363e-02 1.92330056e-02 1.75455521e-02\n",
      "  1.58436703e-02 1.41616361e-02 1.25296789e-02 1.09732513e-02\n",
      "  9.51260773e-03 8.16267914e-03 6.93321612e-03 5.82915531e-03\n",
      "  4.85115769e-03 3.99626272e-03 3.25860371e-03 2.63013439e-03\n",
      "  2.10132491e-03 1.66179463e-03 1.30085943e-03 1.00798082e-03\n",
      "  7.73113109e-04 5.86952132e-04 4.41094057e-04 3.28116904e-04\n",
      "  2.41598859e-04 1.76088109e-04 1.27038119e-04 9.07208180e-05\n",
      "  6.41281535e-05 4.48703429e-05 3.10769878e-05 2.13052837e-05\n",
      "  1.44578796e-05 9.71159940e-06 6.45722310e-06 4.24981182e-06\n",
      "  2.76861447e-06 1.78535319e-06 1.13960588e-06 7.20035802e-07\n",
      "  4.50321185e-07 2.78778670e-07 1.70830566e-07 1.03619262e-07]\n",
      " [1.35098250e-07 2.22727996e-07 3.63470167e-07 5.87126398e-07\n",
      "  9.38778900e-07 1.48581216e-06 2.32773412e-06 3.60970502e-06\n",
      "  5.54088235e-06 8.41889360e-06 1.26619323e-05 1.88501075e-05\n",
      "  2.77777171e-05 4.05180136e-05 5.85017176e-05 8.36099500e-05\n",
      "  1.18281326e-04 1.65631633e-04 2.29582753e-04 3.14995325e-04\n",
      "  4.27797098e-04 5.75096118e-04 7.65265109e-04 1.00798082e-03\n",
      "  1.31420010e-03 1.69605371e-03 2.16663912e-03 2.73969639e-03\n",
      "  3.42915542e-03 4.24855042e-03 5.21030637e-03 6.32491394e-03\n",
      "  7.60002211e-03 9.03949080e-03 1.06424582e-02 1.24024880e-02\n",
      "  1.43068675e-02 1.63361296e-02 1.84638669e-02 2.06568943e-02\n",
      "  2.28757988e-02 2.50758917e-02 2.72085489e-02 2.92228958e-02\n",
      "  3.10677638e-02 3.26938161e-02 3.40557236e-02 3.51142571e-02\n",
      "  3.58381624e-02 3.62056924e-02 3.62056924e-02 3.58381624e-02\n",
      "  3.51142571e-02 3.40557236e-02 3.26938161e-02 3.10677638e-02\n",
      "  2.92228958e-02 2.72085489e-02 2.50758917e-02 2.28757988e-02\n",
      "  2.06568943e-02 1.84638669e-02 1.63361296e-02 1.43068675e-02\n",
      "  1.24024880e-02 1.06424582e-02 9.03949080e-03 7.60002211e-03\n",
      "  6.32491394e-03 5.21030637e-03 4.24855042e-03 3.42915542e-03\n",
      "  2.73969639e-03 2.16663912e-03 1.69605371e-03 1.31420010e-03\n",
      "  1.00798082e-03 7.65265109e-04 5.75096118e-04 4.27797098e-04\n",
      "  3.14995325e-04 2.29582753e-04 1.65631633e-04 1.18281326e-04\n",
      "  8.36099500e-05 5.85017176e-05 4.05180136e-05 2.77777171e-05\n",
      "  1.88501075e-05 1.26619323e-05 8.41889360e-06 5.54088235e-06\n",
      "  3.60970502e-06 2.32773412e-06 1.48581216e-06 9.38778900e-07\n",
      "  5.87126398e-07 3.63470167e-07 2.22727996e-07 1.35098250e-07]\n",
      " [1.74352359e-07 2.87443779e-07 4.69079955e-07 7.57721677e-07\n",
      "  1.21155023e-06 1.91752932e-06 3.00407989e-06 4.65853988e-06\n",
      "  7.15083956e-06 1.08650849e-05 1.63409798e-05 2.43271894e-05\n",
      "  3.58488027e-05 5.22909162e-05 7.54999601e-05 1.07903633e-04\n",
      "  1.52649115e-04 2.13757514e-04 2.96290252e-04 4.06520277e-04\n",
      "  5.52097701e-04 7.42195882e-04 9.87620322e-04 1.30085943e-03\n",
      "  1.69605371e-03 2.18885859e-03 2.79617717e-03 3.53574179e-03\n",
      "  4.42552984e-03 5.48300803e-03 6.72421151e-03 8.16267914e-03\n",
      "  9.80828238e-03 1.16660027e-02 1.37347279e-02 1.60061514e-02\n",
      "  1.84638669e-02 2.10827508e-02 2.38287228e-02 2.66589556e-02\n",
      "  2.95225844e-02 3.23619357e-02 3.51142571e-02 3.77138921e-02\n",
      "  4.00948044e-02 4.21933220e-02 4.39509449e-02 4.53170457e-02\n",
      "  4.62512887e-02 4.67256081e-02 4.67256081e-02 4.62512887e-02\n",
      "  4.53170457e-02 4.39509449e-02 4.21933220e-02 4.00948044e-02\n",
      "  3.77138921e-02 3.51142571e-02 3.23619357e-02 2.95225844e-02\n",
      "  2.66589556e-02 2.38287228e-02 2.10827508e-02 1.84638669e-02\n",
      "  1.60061514e-02 1.37347279e-02 1.16660027e-02 9.80828238e-03\n",
      "  8.16267914e-03 6.72421151e-03 5.48300803e-03 4.42552984e-03\n",
      "  3.53574179e-03 2.79617717e-03 2.18885859e-03 1.69605371e-03\n",
      "  1.30085943e-03 9.87620322e-04 7.42195882e-04 5.52097701e-04\n",
      "  4.06520277e-04 2.96290252e-04 2.13757514e-04 1.52649115e-04\n",
      "  1.07903633e-04 7.54999601e-05 5.22909162e-05 3.58488027e-05\n",
      "  2.43271894e-05 1.63409798e-05 1.08650849e-05 7.15083956e-06\n",
      "  4.65853988e-06 3.00407989e-06 1.91752932e-06 1.21155023e-06\n",
      "  7.57721677e-07 4.69079955e-07 2.87443779e-07 1.74352359e-07]\n",
      " [2.22727996e-07 3.67197651e-07 5.99230425e-07 9.67958399e-07\n",
      "  1.54770578e-06 2.44956515e-06 3.83758898e-06 5.95109384e-06\n",
      "  9.13490456e-06 1.38797009e-05 2.08749322e-05 3.10769878e-05\n",
      "  4.57953768e-05 6.67995030e-05 9.64481057e-05 1.37842471e-04\n",
      "  1.95002990e-04 2.73066466e-04 3.78498658e-04 5.19312999e-04\n",
      "  7.05282194e-04 9.48124832e-04 1.26164450e-03 1.66179463e-03\n",
      "  2.16663912e-03 2.79617717e-03 3.57200177e-03 4.51676528e-03\n",
      "  5.65343306e-03 7.00431812e-03 8.58990471e-03 1.04274882e-02\n",
      "  1.25296789e-02 1.49028405e-02 1.75455521e-02 2.04472027e-02\n",
      "  2.35868335e-02 2.69323504e-02 3.04402171e-02 3.40557236e-02\n",
      "  3.77138921e-02 4.13410470e-02 4.48570248e-02 4.81779520e-02\n",
      "  5.12194699e-02 5.39002402e-02 5.61455315e-02 5.78906692e-02\n",
      "  5.90841264e-02 5.96900500e-02 5.96900500e-02 5.90841264e-02\n",
      "  5.78906692e-02 5.61455315e-02 5.39002402e-02 5.12194699e-02\n",
      "  4.81779520e-02 4.48570248e-02 4.13410470e-02 3.77138921e-02\n",
      "  3.40557236e-02 3.04402171e-02 2.69323504e-02 2.35868335e-02\n",
      "  2.04472027e-02 1.75455521e-02 1.49028405e-02 1.25296789e-02\n",
      "  1.04274882e-02 8.58990471e-03 7.00431812e-03 5.65343306e-03\n",
      "  4.51676528e-03 3.57200177e-03 2.79617717e-03 2.16663912e-03\n",
      "  1.66179463e-03 1.26164450e-03 9.48124832e-04 7.05282194e-04\n",
      "  5.19312999e-04 3.78498658e-04 2.73066466e-04 1.95002990e-04\n",
      "  1.37842471e-04 9.64481057e-05 6.67995030e-05 4.57953768e-05\n",
      "  3.10769878e-05 2.08749322e-05 1.38797009e-05 9.13490456e-06\n",
      "  5.95109384e-06 3.83758898e-06 2.44956515e-06 1.54770578e-06\n",
      "  9.67958399e-07 5.99230425e-07 3.67197651e-07 2.22727996e-07]\n",
      " [2.81637620e-07 4.64318247e-07 7.57721677e-07 1.22397500e-06\n",
      "  1.95706055e-06 3.09745389e-06 4.85259800e-06 7.52510657e-06\n",
      "  1.15510076e-05 1.75507614e-05 2.63961708e-05 3.92965817e-05\n",
      "  5.79078570e-05 8.44673925e-05 1.21957794e-04 1.74300609e-04\n",
      "  2.46579591e-04 3.45290179e-04 4.78608272e-04 6.56666786e-04\n",
      "  8.91823221e-04 1.19889563e-03 1.59533853e-03 2.10132491e-03\n",
      "  2.73969639e-03 3.53574179e-03 4.51676528e-03 5.71141054e-03\n",
      "  7.14871710e-03 8.85689954e-03 1.08618600e-02 1.31854684e-02\n",
      "  1.58436703e-02 1.88445126e-02 2.21861986e-02 2.58553106e-02\n",
      "  2.98253465e-02 3.40557236e-02 3.84913907e-02 4.30631672e-02\n",
      "  4.76888896e-02 5.22753956e-02 5.67213190e-02 6.09206026e-02\n",
      "  6.47665757e-02 6.81563865e-02 7.09955378e-02 7.32022493e-02\n",
      "  7.47113656e-02 7.54775507e-02 7.54775507e-02 7.47113656e-02\n",
      "  7.32022493e-02 7.09955378e-02 6.81563865e-02 6.47665757e-02\n",
      "  6.09206026e-02 5.67213190e-02 5.22753956e-02 4.76888896e-02\n",
      "  4.30631672e-02 3.84913907e-02 3.40557236e-02 2.98253465e-02\n",
      "  2.58553106e-02 2.21861986e-02 1.88445126e-02 1.58436703e-02\n",
      "  1.31854684e-02 1.08618600e-02 8.85689954e-03 7.14871710e-03\n",
      "  5.71141054e-03 4.51676528e-03 3.53574179e-03 2.73969639e-03\n",
      "  2.10132491e-03 1.59533853e-03 1.19889563e-03 8.91823221e-04\n",
      "  6.56666786e-04 4.78608272e-04 3.45290179e-04 2.46579591e-04\n",
      "  1.74300609e-04 1.21957794e-04 8.44673925e-05 5.79078570e-05\n",
      "  3.92965817e-05 2.63961708e-05 1.75507614e-05 1.15510076e-05\n",
      "  7.52510657e-06 4.85259800e-06 3.09745389e-06 1.95706055e-06\n",
      "  1.22397500e-06 7.57721677e-07 4.64318247e-07 2.81637620e-07]\n",
      " [3.52513211e-07 5.81166380e-07 9.48406330e-07 1.53199476e-06\n",
      "  2.44956515e-06 3.87694449e-06 6.07377986e-06 9.41883930e-06\n",
      "  1.44578796e-05 2.19675030e-05 3.30389063e-05 4.91857735e-05\n",
      "  7.24806743e-05 1.05724057e-04 1.52649115e-04 2.18164276e-04\n",
      "  3.08632645e-04 4.32184272e-04 5.99052566e-04 8.21920443e-04\n",
      "  1.11625523e-03 1.50060403e-03 1.99681388e-03 2.63013439e-03\n",
      "  3.42915542e-03 4.42552984e-03 5.65343306e-03 7.14871710e-03\n",
      "  8.94772943e-03 1.10857850e-02 1.35953044e-02 1.65036610e-02\n",
      "  1.98308135e-02 2.35868335e-02 2.77694724e-02 3.23619357e-02\n",
      "  3.73310521e-02 4.26260259e-02 4.81779520e-02 5.39002402e-02\n",
      "  5.96900500e-02 6.54307744e-02 7.09955378e-02 7.62515933e-02\n",
      "  8.10654258e-02 8.53083003e-02 8.88619391e-02 9.16239812e-02\n",
      "  9.35128744e-02 9.44718741e-02 9.44718741e-02 9.35128744e-02\n",
      "  9.16239812e-02 8.88619391e-02 8.53083003e-02 8.10654258e-02\n",
      "  7.62515933e-02 7.09955378e-02 6.54307744e-02 5.96900500e-02\n",
      "  5.39002402e-02 4.81779520e-02 4.26260259e-02 3.73310521e-02\n",
      "  3.23619357e-02 2.77694724e-02 2.35868335e-02 1.98308135e-02\n",
      "  1.65036610e-02 1.35953044e-02 1.10857850e-02 8.94772943e-03\n",
      "  7.14871710e-03 5.65343306e-03 4.42552984e-03 3.42915542e-03\n",
      "  2.63013439e-03 1.99681388e-03 1.50060403e-03 1.11625523e-03\n",
      "  8.21920443e-04 5.99052566e-04 4.32184272e-04 3.08632645e-04\n",
      "  2.18164276e-04 1.52649115e-04 1.05724057e-04 7.24806743e-05\n",
      "  4.91857735e-05 3.30389063e-05 2.19675030e-05 1.44578796e-05\n",
      "  9.41883930e-06 6.07377986e-06 3.87694449e-06 2.44956515e-06\n",
      "  1.53199476e-06 9.48406330e-07 5.81166380e-07 3.52513211e-07]\n",
      " [4.36746070e-07 7.20035802e-07 1.17502756e-06 1.89806416e-06\n",
      "  3.03488753e-06 4.80333847e-06 7.52510657e-06 1.16694663e-05\n",
      "  1.79125828e-05 2.72166271e-05 4.09335368e-05 6.09386900e-05\n",
      "  8.97998959e-05 1.30986769e-04 1.89124546e-04 2.70294523e-04\n",
      "  3.82380263e-04 5.35454492e-04 7.42195882e-04 1.01831793e-03\n",
      "  1.38298387e-03 1.85917263e-03 2.47395158e-03 3.25860371e-03\n",
      "  4.24855042e-03 5.48300803e-03 7.00431812e-03 8.85689954e-03\n",
      "  1.10857850e-02 1.37347279e-02 1.68438957e-02 2.04472027e-02\n",
      "  2.45693766e-02 2.92228958e-02 3.44049742e-02 4.00948044e-02\n",
      "  4.62512887e-02 5.28114938e-02 5.96900500e-02 6.67796761e-02\n",
      "  7.39529581e-02 8.10654258e-02 8.79598868e-02 9.44718741e-02\n",
      "  1.00435969e-01 1.05692677e-01 1.10095456e-01 1.13517486e-01\n",
      "  1.15857730e-01 1.17045882e-01 1.17045882e-01 1.15857730e-01\n",
      "  1.13517486e-01 1.10095456e-01 1.05692677e-01 1.00435969e-01\n",
      "  9.44718741e-02 8.79598868e-02 8.10654258e-02 7.39529581e-02\n",
      "  6.67796761e-02 5.96900500e-02 5.28114938e-02 4.62512887e-02\n",
      "  4.00948044e-02 3.44049742e-02 2.92228958e-02 2.45693766e-02\n",
      "  2.04472027e-02 1.68438957e-02 1.37347279e-02 1.10857850e-02\n",
      "  8.85689954e-03 7.00431812e-03 5.48300803e-03 4.24855042e-03\n",
      "  3.25860371e-03 2.47395158e-03 1.85917263e-03 1.38298387e-03\n",
      "  1.01831793e-03 7.42195882e-04 5.35454492e-04 3.82380263e-04\n",
      "  2.70294523e-04 1.89124546e-04 1.30986769e-04 8.97998959e-05\n",
      "  6.09386900e-05 4.09335368e-05 2.72166271e-05 1.79125828e-05\n",
      "  1.16694663e-05 7.52510657e-06 4.80333847e-06 3.03488753e-06\n",
      "  1.89806416e-06 1.17502756e-06 7.20035802e-07 4.36746070e-07]\n",
      " [5.35613469e-07 8.83032270e-07 1.44102175e-06 2.32773412e-06\n",
      "  3.72190330e-06 5.89068330e-06 9.22858547e-06 1.43111152e-05\n",
      "  2.19675030e-05 3.33777292e-05 5.01997731e-05 7.47335474e-05\n",
      "  1.10128143e-04 1.60638601e-04 2.31937186e-04 3.31481831e-04\n",
      "  4.68940727e-04 6.56666786e-04 9.10208788e-04 1.24883734e-03\n",
      "  1.69605371e-03 2.28003861e-03 3.03398674e-03 3.99626272e-03\n",
      "  5.21030637e-03 6.72421151e-03 8.58990471e-03 1.08618600e-02\n",
      "  1.35953044e-02 1.68438957e-02 2.06568943e-02 2.50758917e-02\n",
      "  3.01312134e-02 3.58381624e-02 4.21933220e-02 4.91711746e-02\n",
      "  5.67213190e-02 6.47665757e-02 7.32022493e-02 8.18967735e-02\n",
      "  9.06938909e-02 9.94164273e-02 1.07871606e-01 1.15857730e-01\n",
      "  1.23171934e-01 1.29618616e-01 1.35018064e-01 1.39214749e-01\n",
      "  1.42084760e-01 1.43541878e-01 1.43541878e-01 1.42084760e-01\n",
      "  1.39214749e-01 1.35018064e-01 1.29618616e-01 1.23171934e-01\n",
      "  1.15857730e-01 1.07871606e-01 9.94164273e-02 9.06938909e-02\n",
      "  8.18967735e-02 7.32022493e-02 6.47665757e-02 5.67213190e-02\n",
      "  4.91711746e-02 4.21933220e-02 3.58381624e-02 3.01312134e-02\n",
      "  2.50758917e-02 2.06568943e-02 1.68438957e-02 1.35953044e-02\n",
      "  1.08618600e-02 8.58990471e-03 6.72421151e-03 5.21030637e-03\n",
      "  3.99626272e-03 3.03398674e-03 2.28003861e-03 1.69605371e-03\n",
      "  1.24883734e-03 9.10208788e-04 6.56666786e-04 4.68940727e-04\n",
      "  3.31481831e-04 2.31937186e-04 1.60638601e-04 1.10128143e-04\n",
      "  7.47335474e-05 5.01997731e-05 3.33777292e-05 2.19675030e-05\n",
      "  1.43111152e-05 9.22858547e-06 5.89068330e-06 3.72190330e-06\n",
      "  2.32773412e-06 1.44102175e-06 8.83032270e-07 5.35613469e-07]\n",
      " [6.50193838e-07 1.07193372e-06 1.74929033e-06 2.82569142e-06\n",
      "  4.51810631e-06 7.15083956e-06 1.12027978e-05 1.73726007e-05\n",
      "  2.66668707e-05 4.05180136e-05 6.09386900e-05 9.07208180e-05\n",
      "  1.33687154e-04 1.95002990e-04 2.81554026e-04 4.02393623e-04\n",
      "  5.69258221e-04 7.97143318e-04 1.10492394e-03 1.51599313e-03\n",
      "  2.05887964e-03 2.76779271e-03 3.68302815e-03 4.85115769e-03\n",
      "  6.32491394e-03 8.16267914e-03 1.04274882e-02 1.31854684e-02\n",
      "  1.65036610e-02 2.04472027e-02 2.50758917e-02 3.04402171e-02\n",
      "  3.65769915e-02 4.35047916e-02 5.12194699e-02 5.96900500e-02\n",
      "  6.88553486e-02 7.86216756e-02 8.88619391e-02 9.94164273e-02\n",
      "  1.10095456e-01 1.20683949e-01 1.30947890e-01 1.40642434e-01\n",
      "  1.49521319e-01 1.57347099e-01 1.63901617e-01 1.68996072e-01\n",
      "  1.72480046e-01 1.74248875e-01 1.74248875e-01 1.72480046e-01\n",
      "  1.68996072e-01 1.63901617e-01 1.57347099e-01 1.49521319e-01\n",
      "  1.40642434e-01 1.30947890e-01 1.20683949e-01 1.10095456e-01\n",
      "  9.94164273e-02 8.88619391e-02 7.86216756e-02 6.88553486e-02\n",
      "  5.96900500e-02 5.12194699e-02 4.35047916e-02 3.65769915e-02\n",
      "  3.04402171e-02 2.50758917e-02 2.04472027e-02 1.65036610e-02\n",
      "  1.31854684e-02 1.04274882e-02 8.16267914e-03 6.32491394e-03\n",
      "  4.85115769e-03 3.68302815e-03 2.76779271e-03 2.05887964e-03\n",
      "  1.51599313e-03 1.10492394e-03 7.97143318e-04 5.69258221e-04\n",
      "  4.02393623e-04 2.81554026e-04 1.95002990e-04 1.33687154e-04\n",
      "  9.07208180e-05 6.09386900e-05 4.05180136e-05 2.66668707e-05\n",
      "  1.73726007e-05 1.12027978e-05 7.15083956e-06 4.51810631e-06\n",
      "  2.82569142e-06 1.74929033e-06 1.07193372e-06 6.50193838e-07]\n",
      " [7.81273483e-07 1.28803650e-06 2.10194879e-06 3.39535328e-06\n",
      "  5.42896049e-06 8.59245506e-06 1.34612916e-05 2.08749322e-05\n",
      "  3.20429351e-05 4.86864806e-05 7.32239831e-05 1.09010214e-04\n",
      "  1.60638601e-04 2.34315764e-04 3.38315564e-04 4.83516528e-04\n",
      "  6.84021176e-04 9.57848107e-04 1.32767757e-03 1.82161867e-03\n",
      "  2.47395158e-03 3.32578214e-03 4.42552984e-03 5.82915531e-03\n",
      "  7.60002211e-03 9.80828238e-03 1.25296789e-02 1.58436703e-02\n",
      "  1.98308135e-02 2.45693766e-02 3.01312134e-02 3.65769915e-02\n",
      "  4.39509449e-02 5.22753956e-02 6.15453598e-02 7.17236162e-02\n",
      "  8.27366470e-02 9.44718741e-02 1.06776584e-01 1.19458866e-01\n",
      "  1.32290796e-01 1.45013938e-01 1.57347099e-01 1.68996072e-01\n",
      "  1.79664948e-01 1.89068412e-01 1.96944326e-01 2.03065828e-01\n",
      "  2.07252173e-01 2.09377600e-01 2.09377600e-01 2.07252173e-01\n",
      "  2.03065828e-01 1.96944326e-01 1.89068412e-01 1.79664948e-01\n",
      "  1.68996072e-01 1.57347099e-01 1.45013938e-01 1.32290796e-01\n",
      "  1.19458866e-01 1.06776584e-01 9.44718741e-02 8.27366470e-02\n",
      "  7.17236162e-02 6.15453598e-02 5.22753956e-02 4.39509449e-02\n",
      "  3.65769915e-02 3.01312134e-02 2.45693766e-02 1.98308135e-02\n",
      "  1.58436703e-02 1.25296789e-02 9.80828238e-03 7.60002211e-03\n",
      "  5.82915531e-03 4.42552984e-03 3.32578214e-03 2.47395158e-03\n",
      "  1.82161867e-03 1.32767757e-03 9.57848107e-04 6.84021176e-04\n",
      "  4.83516528e-04 3.38315564e-04 2.34315764e-04 1.60638601e-04\n",
      "  1.09010214e-04 7.32239831e-05 4.86864806e-05 3.20429351e-05\n",
      "  2.08749322e-05 1.34612916e-05 8.59245506e-06 5.42896049e-06\n",
      "  3.39535328e-06 2.10194879e-06 1.28803650e-06 7.81273483e-07]\n",
      " [9.29249200e-07 1.53199476e-06 2.50006467e-06 4.03844413e-06\n",
      "  6.45722310e-06 1.02198937e-05 1.60109037e-05 2.48287117e-05\n",
      "  3.81119703e-05 5.79078570e-05 8.70928416e-05 1.29657100e-04\n",
      "  1.91064069e-04 2.78695925e-04 4.02393623e-04 5.75096118e-04\n",
      "  8.13576992e-04 1.13926763e-03 1.57914399e-03 2.16663912e-03\n",
      "  2.94252598e-03 3.95569600e-03 5.26373946e-03 6.93321612e-03\n",
      "  9.03949080e-03 1.16660027e-02 1.49028405e-02 1.88445126e-02\n",
      "  2.35868335e-02 2.92228958e-02 3.58381624e-02 4.35047916e-02\n",
      "  5.22753956e-02 6.21765240e-02 7.32022493e-02 8.53083003e-02\n",
      "  9.84072346e-02 1.12365152e-01 1.27000413e-01 1.42084760e-01\n",
      "  1.57347099e-01 1.72480046e-01 1.87149147e-01 2.01004473e-01\n",
      "  2.13694068e-01 2.24878578e-01 2.34246216e-01 2.41527150e-01\n",
      "  2.46506403e-01 2.49034393e-01 2.49034393e-01 2.46506403e-01\n",
      "  2.41527150e-01 2.34246216e-01 2.24878578e-01 2.13694068e-01\n",
      "  2.01004473e-01 1.87149147e-01 1.72480046e-01 1.57347099e-01\n",
      "  1.42084760e-01 1.27000413e-01 1.12365152e-01 9.84072346e-02\n",
      "  8.53083003e-02 7.32022493e-02 6.21765240e-02 5.22753956e-02\n",
      "  4.35047916e-02 3.58381624e-02 2.92228958e-02 2.35868335e-02\n",
      "  1.88445126e-02 1.49028405e-02 1.16660027e-02 9.03949080e-03\n",
      "  6.93321612e-03 5.26373946e-03 3.95569600e-03 2.94252598e-03\n",
      "  2.16663912e-03 1.57914399e-03 1.13926763e-03 8.13576992e-04\n",
      "  5.75096118e-04 4.02393623e-04 2.78695925e-04 1.91064069e-04\n",
      "  1.29657100e-04 8.70928416e-05 5.79078570e-05 3.81119703e-05\n",
      "  2.48287117e-05 1.60109037e-05 1.02198937e-05 6.45722310e-06\n",
      "  4.03844413e-06 2.50006467e-06 1.53199476e-06 9.29249200e-07]\n",
      " [1.09403240e-06 1.80366247e-06 2.94339962e-06 4.75457898e-06\n",
      "  7.60227856e-06 1.20321813e-05 1.88501075e-05 2.92315721e-05\n",
      "  4.48703429e-05 6.81766221e-05 1.02536962e-04 1.52649115e-04\n",
      "  2.24945345e-04 3.28116904e-04 4.73749840e-04 6.77077564e-04\n",
      "  9.57848107e-04 1.34129326e-03 1.85917263e-03 2.55084792e-03\n",
      "  3.46432233e-03 4.65715717e-03 6.19715519e-03 8.16267914e-03\n",
      "  1.06424582e-02 1.37347279e-02 1.75455521e-02 2.21861986e-02\n",
      "  2.77694724e-02 3.44049742e-02 4.21933220e-02 5.12194699e-02\n",
      "  6.15453598e-02 7.32022493e-02 8.61831599e-02 1.00435969e-01\n",
      "  1.15857730e-01 1.32290796e-01 1.49521319e-01 1.67280565e-01\n",
      "  1.85249365e-01 2.03065828e-01 2.20336192e-01 2.36648474e-01\n",
      "  2.51588307e-01 2.64756160e-01 2.75784955e-01 2.84357013e-01\n",
      "  2.90219234e-01 2.93195511e-01 2.93195511e-01 2.90219234e-01\n",
      "  2.84357013e-01 2.75784955e-01 2.64756160e-01 2.51588307e-01\n",
      "  2.36648474e-01 2.20336192e-01 2.03065828e-01 1.85249365e-01\n",
      "  1.67280565e-01 1.49521319e-01 1.32290796e-01 1.15857730e-01\n",
      "  1.00435969e-01 8.61831599e-02 7.32022493e-02 6.15453598e-02\n",
      "  5.12194699e-02 4.21933220e-02 3.44049742e-02 2.77694724e-02\n",
      "  2.21861986e-02 1.75455521e-02 1.37347279e-02 1.06424582e-02\n",
      "  8.16267914e-03 6.19715519e-03 4.65715717e-03 3.46432233e-03\n",
      "  2.55084792e-03 1.85917263e-03 1.34129326e-03 9.57848107e-04\n",
      "  6.77077564e-04 4.73749840e-04 3.28116904e-04 2.24945345e-04\n",
      "  1.52649115e-04 1.02536962e-04 6.81766221e-05 4.48703429e-05\n",
      "  2.92315721e-05 1.88501075e-05 1.20321813e-05 7.60227856e-06\n",
      "  4.75457898e-06 2.94339962e-06 1.80366247e-06 1.09403240e-06]\n",
      " [1.27496143e-06 2.10194879e-06 3.43017354e-06 5.54088235e-06\n",
      "  8.85952916e-06 1.40220409e-05 2.19675030e-05 3.40658347e-05\n",
      "  5.22909162e-05 7.94515443e-05 1.19494333e-04 1.77893940e-04\n",
      "  2.62146385e-04 3.82380263e-04 5.52097701e-04 7.89051384e-04\n",
      "  1.11625523e-03 1.56311383e-03 2.16663912e-03 2.97270238e-03\n",
      "  4.03724547e-03 5.42734910e-03 7.22202912e-03 9.51260773e-03\n",
      "  1.24024880e-02 1.60061514e-02 2.04472027e-02 2.58553106e-02\n",
      "  3.23619357e-02 4.00948044e-02 4.91711746e-02 5.96900500e-02\n",
      "  7.17236162e-02 8.53083003e-02 1.00435969e-01 1.17045882e-01\n",
      "  1.35018064e-01 1.54168800e-01 1.74248875e-01 1.94945111e-01\n",
      "  2.15885558e-01 2.36648474e-01 2.56774979e-01 2.75784955e-01\n",
      "  2.93195511e-01 3.08541039e-01 3.21393755e-01 3.31383443e-01\n",
      "  3.38215148e-01 3.41683635e-01 3.41683635e-01 3.38215148e-01\n",
      "  3.31383443e-01 3.21393755e-01 3.08541039e-01 2.93195511e-01\n",
      "  2.75784955e-01 2.56774979e-01 2.36648474e-01 2.15885558e-01\n",
      "  1.94945111e-01 1.74248875e-01 1.54168800e-01 1.35018064e-01\n",
      "  1.17045882e-01 1.00435969e-01 8.53083003e-02 7.17236162e-02\n",
      "  5.96900500e-02 4.91711746e-02 4.00948044e-02 3.23619357e-02\n",
      "  2.58553106e-02 2.04472027e-02 1.60061514e-02 1.24024880e-02\n",
      "  9.51260773e-03 7.22202912e-03 5.42734910e-03 4.03724547e-03\n",
      "  2.97270238e-03 2.16663912e-03 1.56311383e-03 1.11625523e-03\n",
      "  7.89051384e-04 5.52097701e-04 3.82380263e-04 2.62146385e-04\n",
      "  1.77893940e-04 1.19494333e-04 7.94515443e-05 5.22909162e-05\n",
      "  3.40658347e-05 2.19675030e-05 1.40220409e-05 8.85952916e-06\n",
      "  5.54088235e-06 3.43017354e-06 2.10194879e-06 1.27496143e-06]\n",
      " [1.47072943e-06 2.42469920e-06 3.95687044e-06 6.39167476e-06\n",
      "  1.02198937e-05 1.61750998e-05 2.53405732e-05 3.92965817e-05\n",
      "  6.03200912e-05 9.16511844e-05 1.37842471e-04 2.05209231e-04\n",
      "  3.02398485e-04 4.41094057e-04 6.36871299e-04 9.10208788e-04\n",
      "  1.28765419e-03 1.80312712e-03 2.49932262e-03 3.42915542e-03\n",
      "  4.65715717e-03 6.26070869e-03 8.33095855e-03 1.09732513e-02\n",
      "  1.43068675e-02 1.84638669e-02 2.35868335e-02 2.98253465e-02\n",
      "  3.73310521e-02 4.62512887e-02 5.67213190e-02 6.88553486e-02\n",
      "  8.27366470e-02 9.84072346e-02 1.15857730e-01 1.35018064e-01\n",
      "  1.55749843e-01 1.77841139e-01 2.01004473e-01 2.24878578e-01\n",
      "  2.49034393e-01 2.72985417e-01 2.96202309e-01 3.18131234e-01\n",
      "  3.38215148e-01 3.55916954e-01 3.70743182e-01 3.82266768e-01\n",
      "  3.90147469e-01 3.94148536e-01 3.94148536e-01 3.90147469e-01\n",
      "  3.82266768e-01 3.70743182e-01 3.55916954e-01 3.38215148e-01\n",
      "  3.18131234e-01 2.96202309e-01 2.72985417e-01 2.49034393e-01\n",
      "  2.24878578e-01 2.01004473e-01 1.77841139e-01 1.55749843e-01\n",
      "  1.35018064e-01 1.15857730e-01 9.84072346e-02 8.27366470e-02\n",
      "  6.88553486e-02 5.67213190e-02 4.62512887e-02 3.73310521e-02\n",
      "  2.98253465e-02 2.35868335e-02 1.84638669e-02 1.43068675e-02\n",
      "  1.09732513e-02 8.33095855e-03 6.26070869e-03 4.65715717e-03\n",
      "  3.42915542e-03 2.49932262e-03 1.80312712e-03 1.28765419e-03\n",
      "  9.10208788e-04 6.36871299e-04 4.41094057e-04 3.02398485e-04\n",
      "  2.05209231e-04 1.37842471e-04 9.16511844e-05 6.03200912e-05\n",
      "  3.92965817e-05 2.53405732e-05 1.61750998e-05 1.02198937e-05\n",
      "  6.39167476e-06 3.95687044e-06 2.42469920e-06 1.47072943e-06]\n",
      " [1.67933523e-06 2.76861447e-06 4.51810631e-06 7.29825918e-06\n",
      "  1.16694663e-05 1.84693488e-05 2.89348375e-05 4.48703429e-05\n",
      "  6.88757917e-05 1.04650835e-04 1.57393816e-04 2.34315764e-04\n",
      "  3.45290179e-04 5.03658098e-04 7.27204055e-04 1.03931128e-03\n",
      "  1.47029290e-03 2.05887964e-03 2.85382234e-03 3.91554107e-03\n",
      "  5.31772053e-03 7.14871710e-03 9.51260773e-03 1.25296789e-02\n",
      "  1.63361296e-02 2.10827508e-02 2.69323504e-02 3.40557236e-02\n",
      "  4.26260259e-02 5.28114938e-02 6.47665757e-02 7.86216756e-02\n",
      "  9.44718741e-02 1.12365152e-01 1.32290796e-01 1.54168800e-01\n",
      "  1.77841139e-01 2.03065828e-01 2.29514610e-01 2.56774979e-01\n",
      "  2.84357013e-01 3.11705210e-01 3.38215148e-01 3.63254434e-01\n",
      "  3.86187017e-01 4.06399617e-01 4.23328772e-01 4.36486845e-01\n",
      "  4.45485331e-01 4.50053903e-01 4.50053903e-01 4.45485331e-01\n",
      "  4.36486845e-01 4.23328772e-01 4.06399617e-01 3.86187017e-01\n",
      "  3.63254434e-01 3.38215148e-01 3.11705210e-01 2.84357013e-01\n",
      "  2.56774979e-01 2.29514610e-01 2.03065828e-01 1.77841139e-01\n",
      "  1.54168800e-01 1.32290796e-01 1.12365152e-01 9.44718741e-02\n",
      "  7.86216756e-02 6.47665757e-02 5.28114938e-02 4.26260259e-02\n",
      "  3.40557236e-02 2.69323504e-02 2.10827508e-02 1.63361296e-02\n",
      "  1.25296789e-02 9.51260773e-03 7.14871710e-03 5.31772053e-03\n",
      "  3.91554107e-03 2.85382234e-03 2.05887964e-03 1.47029290e-03\n",
      "  1.03931128e-03 7.27204055e-04 5.03658098e-04 3.45290179e-04\n",
      "  2.34315764e-04 1.57393816e-04 1.04650835e-04 6.88757917e-05\n",
      "  4.48703429e-05 2.89348375e-05 1.84693488e-05 1.16694663e-05\n",
      "  7.29825918e-06 4.51810631e-06 2.76861447e-06 1.67933523e-06]\n",
      " [1.89806416e-06 3.12921911e-06 5.10657760e-06 8.24883796e-06\n",
      "  1.31893832e-05 2.08749322e-05 3.27035229e-05 5.07145853e-05\n",
      "  7.78466798e-05 1.18281326e-04 1.77893940e-04 2.64834767e-04\n",
      "  3.90263304e-04 5.69258221e-04 8.21920443e-04 1.17467880e-03\n",
      "  1.66179463e-03 2.32704322e-03 3.22552509e-03 4.42552984e-03\n",
      "  6.01033943e-03 8.07981842e-03 1.07515995e-02 1.41616361e-02\n",
      "  1.84638669e-02 2.38287228e-02 3.04402171e-02 3.84913907e-02\n",
      "  4.81779520e-02 5.96900500e-02 7.32022493e-02 8.88619391e-02\n",
      "  1.06776584e-01 1.27000413e-01 1.49521319e-01 1.74248875e-01\n",
      "  2.01004473e-01 2.29514610e-01 2.59408275e-01 2.90219234e-01\n",
      "  3.21393755e-01 3.52303982e-01 3.82266768e-01 4.10567355e-01\n",
      "  4.36486845e-01 4.59332083e-01 4.78466215e-01 4.93338092e-01\n",
      "  5.03508606e-01 5.08672222e-01 5.08672222e-01 5.03508606e-01\n",
      "  4.93338092e-01 4.78466215e-01 4.59332083e-01 4.36486845e-01\n",
      "  4.10567355e-01 3.82266768e-01 3.52303982e-01 3.21393755e-01\n",
      "  2.90219234e-01 2.59408275e-01 2.29514610e-01 2.01004473e-01\n",
      "  1.74248875e-01 1.49521319e-01 1.27000413e-01 1.06776584e-01\n",
      "  8.88619391e-02 7.32022493e-02 5.96900500e-02 4.81779520e-02\n",
      "  3.84913907e-02 3.04402171e-02 2.38287228e-02 1.84638669e-02\n",
      "  1.41616361e-02 1.07515995e-02 8.07981842e-03 6.01033943e-03\n",
      "  4.42552984e-03 3.22552509e-03 2.32704322e-03 1.66179463e-03\n",
      "  1.17467880e-03 8.21920443e-04 5.69258221e-04 3.90263304e-04\n",
      "  2.64834767e-04 1.77893940e-04 1.18281326e-04 7.78466798e-05\n",
      "  5.07145853e-05 3.27035229e-05 2.08749322e-05 1.31893832e-05\n",
      "  8.24883796e-06 5.10657760e-06 3.12921911e-06 1.89806416e-06]\n",
      " [2.12350484e-06 3.50088900e-06 5.71310626e-06 9.22858547e-06\n",
      "  1.47559390e-05 2.33543315e-05 3.65878512e-05 5.67381596e-05\n",
      "  8.70928416e-05 1.32330073e-04 1.99023115e-04 2.96290252e-04\n",
      "  4.36616438e-04 6.36871299e-04 9.19543224e-04 1.31420010e-03\n",
      "  1.85917263e-03 2.60343546e-03 3.60863361e-03 4.95116774e-03\n",
      "  6.72421151e-03 9.03949080e-03 1.20286100e-02 1.58436703e-02\n",
      "  2.06568943e-02 2.66589556e-02 3.40557236e-02 4.30631672e-02\n",
      "  5.39002402e-02 6.67796761e-02 8.18967735e-02 9.94164273e-02\n",
      "  1.19458866e-01 1.42084760e-01 1.67280565e-01 1.94945111e-01\n",
      "  2.24878578e-01 2.56774979e-01 2.90219234e-01 3.24689734e-01\n",
      "  3.59566978e-01 3.94148536e-01 4.27670123e-01 4.59332083e-01\n",
      "  4.88330135e-01 5.13888793e-01 5.35295563e-01 5.51933832e-01\n",
      "  5.63312339e-01 5.69089259e-01 5.69089259e-01 5.63312339e-01\n",
      "  5.51933832e-01 5.35295563e-01 5.13888793e-01 4.88330135e-01\n",
      "  4.59332083e-01 4.27670123e-01 3.94148536e-01 3.59566978e-01\n",
      "  3.24689734e-01 2.90219234e-01 2.56774979e-01 2.24878578e-01\n",
      "  1.94945111e-01 1.67280565e-01 1.42084760e-01 1.19458866e-01\n",
      "  9.94164273e-02 8.18967735e-02 6.67796761e-02 5.39002402e-02\n",
      "  4.30631672e-02 3.40557236e-02 2.66589556e-02 2.06568943e-02\n",
      "  1.58436703e-02 1.20286100e-02 9.03949080e-03 6.72421151e-03\n",
      "  4.95116774e-03 3.60863361e-03 2.60343546e-03 1.85917263e-03\n",
      "  1.31420010e-03 9.19543224e-04 6.36871299e-04 4.36616438e-04\n",
      "  2.96290252e-04 1.99023115e-04 1.32330073e-04 8.70928416e-05\n",
      "  5.67381596e-05 3.65878512e-05 2.33543315e-05 1.47559390e-05\n",
      "  9.22858547e-06 5.71310626e-06 3.50088900e-06 2.12350484e-06]\n",
      " [2.35160566e-06 3.87694449e-06 6.32679181e-06 1.02198937e-05\n",
      "  1.63409798e-05 2.58629870e-05 4.05180136e-05 6.28328106e-05\n",
      "  9.64481057e-05 1.46544591e-04 2.20401610e-04 3.28116904e-04\n",
      "  4.83516528e-04 7.05282194e-04 1.01831793e-03 1.45536772e-03\n",
      "  2.05887964e-03 2.88308906e-03 3.99626272e-03 5.48300803e-03\n",
      "  7.44650709e-03 1.00104871e-02 1.33206889e-02 1.75455521e-02\n",
      "  2.28757988e-02 2.95225844e-02 3.77138921e-02 4.76888896e-02\n",
      "  5.96900500e-02 7.39529581e-02 9.06938909e-02 1.10095456e-01\n",
      "  1.32290796e-01 1.57347099e-01 1.85249365e-01 2.15885558e-01\n",
      "  2.49034393e-01 2.84357013e-01 3.21393755e-01 3.59566978e-01\n",
      "  3.98190635e-01 4.36486845e-01 4.73609225e-01 5.08672222e-01\n",
      "  5.40785163e-01 5.69089259e-01 5.92795482e-01 6.11220987e-01\n",
      "  6.23821741e-01 6.30219200e-01 6.30219200e-01 6.23821741e-01\n",
      "  6.11220987e-01 5.92795482e-01 5.69089259e-01 5.40785163e-01\n",
      "  5.08672222e-01 4.73609225e-01 4.36486845e-01 3.98190635e-01\n",
      "  3.59566978e-01 3.21393755e-01 2.84357013e-01 2.49034393e-01\n",
      "  2.15885558e-01 1.85249365e-01 1.57347099e-01 1.32290796e-01\n",
      "  1.10095456e-01 9.06938909e-02 7.39529581e-02 5.96900500e-02\n",
      "  4.76888896e-02 3.77138921e-02 2.95225844e-02 2.28757988e-02\n",
      "  1.75455521e-02 1.33206889e-02 1.00104871e-02 7.44650709e-03\n",
      "  5.48300803e-03 3.99626272e-03 2.88308906e-03 2.05887964e-03\n",
      "  1.45536772e-03 1.01831793e-03 7.05282194e-04 4.83516528e-04\n",
      "  3.28116904e-04 2.20401610e-04 1.46544591e-04 9.64481057e-05\n",
      "  6.28328106e-05 4.05180136e-05 2.58629870e-05 1.63409798e-05\n",
      "  1.02198937e-05 6.32679181e-06 3.87694449e-06 2.35160566e-06]\n",
      " [2.57777267e-06 4.24981182e-06 6.93527460e-06 1.12027978e-05\n",
      "  1.79125828e-05 2.83503745e-05 4.44148566e-05 6.88757917e-05\n",
      "  1.05724057e-04 1.60638601e-04 2.41598859e-04 3.59673733e-04\n",
      "  5.30019005e-04 7.73113109e-04 1.11625523e-03 1.59533853e-03\n",
      "  2.25689356e-03 3.16037178e-03 4.38060556e-03 6.01033943e-03\n",
      "  8.16267914e-03 1.09732513e-02 1.46018137e-02 1.92330056e-02\n",
      "  2.50758917e-02 3.23619357e-02 4.13410470e-02 5.22753956e-02\n",
      "  6.54307744e-02 8.10654258e-02 9.94164273e-02 1.20683949e-01\n",
      "  1.45013938e-01 1.72480046e-01 2.03065828e-01 2.36648474e-01\n",
      "  2.72985417e-01 3.11705210e-01 3.52303982e-01 3.94148536e-01\n",
      "  4.36486845e-01 4.78466215e-01 5.19158861e-01 5.57594062e-01\n",
      "  5.92795482e-01 6.23821741e-01 6.49807924e-01 6.70005512e-01\n",
      "  6.83818150e-01 6.90830889e-01 6.90830889e-01 6.83818150e-01\n",
      "  6.70005512e-01 6.49807924e-01 6.23821741e-01 5.92795482e-01\n",
      "  5.57594062e-01 5.19158861e-01 4.78466215e-01 4.36486845e-01\n",
      "  3.94148536e-01 3.52303982e-01 3.11705210e-01 2.72985417e-01\n",
      "  2.36648474e-01 2.03065828e-01 1.72480046e-01 1.45013938e-01\n",
      "  1.20683949e-01 9.94164273e-02 8.10654258e-02 6.54307744e-02\n",
      "  5.22753956e-02 4.13410470e-02 3.23619357e-02 2.50758917e-02\n",
      "  1.92330056e-02 1.46018137e-02 1.09732513e-02 8.16267914e-03\n",
      "  6.01033943e-03 4.38060556e-03 3.16037178e-03 2.25689356e-03\n",
      "  1.59533853e-03 1.11625523e-03 7.73113109e-04 5.30019005e-04\n",
      "  3.59673733e-04 2.41598859e-04 1.60638601e-04 1.05724057e-04\n",
      "  6.88757917e-05 4.44148566e-05 2.83503745e-05 1.79125828e-05\n",
      "  1.12027978e-05 6.93527460e-06 4.24981182e-06 2.57777267e-06]\n",
      " [2.79700735e-06 4.61125027e-06 7.52510657e-06 1.21555746e-05\n",
      "  1.94360141e-05 3.07615201e-05 4.81922560e-05 7.47335474e-05\n",
      "  1.14715688e-04 1.74300609e-04 2.62146385e-04 3.90263304e-04\n",
      "  5.75096118e-04 8.38864915e-04 1.21119063e-03 1.73101905e-03\n",
      "  2.44883808e-03 3.42915542e-03 4.75316777e-03 6.52150742e-03\n",
      "  8.85689954e-03 1.19065056e-02 1.58436703e-02 2.08687363e-02\n",
      "  2.72085489e-02 3.51142571e-02 4.48570248e-02 5.67213190e-02\n",
      "  7.09955378e-02 8.79598868e-02 1.07871606e-01 1.30947890e-01\n",
      "  1.57347099e-01 1.87149147e-01 2.20336192e-01 2.56774979e-01\n",
      "  2.96202309e-01 3.38215148e-01 3.82266768e-01 4.27670123e-01\n",
      "  4.73609225e-01 5.19158861e-01 5.63312339e-01 6.05016381e-01\n",
      "  6.43211616e-01 6.76876599e-01 7.05072858e-01 7.26988212e-01\n",
      "  7.41975589e-01 7.49584749e-01 7.49584749e-01 7.41975589e-01\n",
      "  7.26988212e-01 7.05072858e-01 6.76876599e-01 6.43211616e-01\n",
      "  6.05016381e-01 5.63312339e-01 5.19158861e-01 4.73609225e-01\n",
      "  4.27670123e-01 3.82266768e-01 3.38215148e-01 2.96202309e-01\n",
      "  2.56774979e-01 2.20336192e-01 1.87149147e-01 1.57347099e-01\n",
      "  1.30947890e-01 1.07871606e-01 8.79598868e-02 7.09955378e-02\n",
      "  5.67213190e-02 4.48570248e-02 3.51142571e-02 2.72085489e-02\n",
      "  2.08687363e-02 1.58436703e-02 1.19065056e-02 8.85689954e-03\n",
      "  6.52150742e-03 4.75316777e-03 3.42915542e-03 2.44883808e-03\n",
      "  1.73101905e-03 1.21119063e-03 8.38864915e-04 5.75096118e-04\n",
      "  3.90263304e-04 2.62146385e-04 1.74300609e-04 1.14715688e-04\n",
      "  7.47335474e-05 4.81922560e-05 3.07615201e-05 1.94360141e-05\n",
      "  1.21555746e-05 7.52510657e-06 4.61125027e-06 2.79700735e-06]\n",
      " [3.00407989e-06 4.95263774e-06 8.08221733e-06 1.30554956e-05\n",
      "  2.08749322e-05 3.30389063e-05 5.17601024e-05 8.02663412e-05\n",
      "  1.23208504e-04 1.87204712e-04 2.81554026e-04 4.19155902e-04\n",
      "  6.17672555e-04 9.00969108e-04 1.30085943e-03 1.85917263e-03\n",
      "  2.63013439e-03 3.68302815e-03 5.10506190e-03 7.00431812e-03\n",
      "  9.51260773e-03 1.27879871e-02 1.70166344e-02 2.24137240e-02\n",
      "  2.92228958e-02 3.77138921e-02 4.81779520e-02 6.09206026e-02\n",
      "  7.62515933e-02 9.44718741e-02 1.15857730e-01 1.40642434e-01\n",
      "  1.68996072e-01 2.01004473e-01 2.36648474e-01 2.75784955e-01\n",
      "  3.18131234e-01 3.63254434e-01 4.10567355e-01 4.59332083e-01\n",
      "  5.08672222e-01 5.57594062e-01 6.05016381e-01 6.49807924e-01\n",
      "  6.90830889e-01 7.26988212e-01 7.57271942e-01 7.80809769e-01\n",
      "  7.96906716e-01 8.05079208e-01 8.05079208e-01 7.96906716e-01\n",
      "  7.80809769e-01 7.57271942e-01 7.26988212e-01 6.90830889e-01\n",
      "  6.49807924e-01 6.05016381e-01 5.57594062e-01 5.08672222e-01\n",
      "  4.59332083e-01 4.10567355e-01 3.63254434e-01 3.18131234e-01\n",
      "  2.75784955e-01 2.36648474e-01 2.01004473e-01 1.68996072e-01\n",
      "  1.40642434e-01 1.15857730e-01 9.44718741e-02 7.62515933e-02\n",
      "  6.09206026e-02 4.81779520e-02 3.77138921e-02 2.92228958e-02\n",
      "  2.24137240e-02 1.70166344e-02 1.27879871e-02 9.51260773e-03\n",
      "  7.00431812e-03 5.10506190e-03 3.68302815e-03 2.63013439e-03\n",
      "  1.85917263e-03 1.30085943e-03 9.00969108e-04 6.17672555e-04\n",
      "  4.19155902e-04 2.81554026e-04 1.87204712e-04 1.23208504e-04\n",
      "  8.02663412e-05 5.17601024e-05 3.30389063e-05 2.08749322e-05\n",
      "  1.30554956e-05 8.08221733e-06 4.95263774e-06 3.00407989e-06]\n",
      " [3.19373018e-06 5.26530227e-06 8.59245506e-06 1.38797009e-05\n",
      "  2.21927857e-05 3.51246825e-05 5.50277648e-05 8.53336284e-05\n",
      "  1.30986769e-04 1.99023115e-04 2.99328788e-04 4.45617596e-04\n",
      "  6.56666786e-04 9.57848107e-04 1.38298387e-03 1.97654389e-03\n",
      "  2.79617717e-03 3.91554107e-03 5.42734910e-03 7.44650709e-03\n",
      "  1.01131473e-02 1.35953044e-02 1.80909100e-02 2.38287228e-02\n",
      "  3.10677638e-02 4.00948044e-02 5.12194699e-02 6.47665757e-02\n",
      "  8.10654258e-02 1.00435969e-01 1.23171934e-01 1.49521319e-01\n",
      "  1.79664948e-01 2.13694068e-01 2.51588307e-01 2.93195511e-01\n",
      "  3.38215148e-01 3.86187017e-01 4.36486845e-01 4.88330135e-01\n",
      "  5.40785163e-01 5.92795482e-01 6.43211616e-01 6.90830889e-01\n",
      "  7.34443672e-01 7.72883639e-01 8.05079208e-01 8.30103000e-01\n",
      "  8.47216162e-01 8.55904591e-01 8.55904591e-01 8.47216162e-01\n",
      "  8.30103000e-01 8.05079208e-01 7.72883639e-01 7.34443672e-01\n",
      "  6.90830889e-01 6.43211616e-01 5.92795482e-01 5.40785163e-01\n",
      "  4.88330135e-01 4.36486845e-01 3.86187017e-01 3.38215148e-01\n",
      "  2.93195511e-01 2.51588307e-01 2.13694068e-01 1.79664948e-01\n",
      "  1.49521319e-01 1.23171934e-01 1.00435969e-01 8.10654258e-02\n",
      "  6.47665757e-02 5.12194699e-02 4.00948044e-02 3.10677638e-02\n",
      "  2.38287228e-02 1.80909100e-02 1.35953044e-02 1.01131473e-02\n",
      "  7.44650709e-03 5.42734910e-03 3.91554107e-03 2.79617717e-03\n",
      "  1.97654389e-03 1.38298387e-03 9.57848107e-04 6.56666786e-04\n",
      "  4.45617596e-04 2.99328788e-04 1.99023115e-04 1.30986769e-04\n",
      "  8.53336284e-05 5.50277648e-05 3.51246825e-05 2.21927857e-05\n",
      "  1.38797009e-05 8.59245506e-06 5.26530227e-06 3.19373018e-06]\n",
      " [3.36088648e-06 5.54088235e-06 9.04217463e-06 1.46061490e-05\n",
      "  2.33543315e-05 3.69630695e-05 5.79078570e-05 8.97998959e-05\n",
      "  1.37842471e-04 2.09439765e-04 3.14995325e-04 4.68940727e-04\n",
      "  6.91035997e-04 1.00798082e-03 1.45536772e-03 2.07999401e-03\n",
      "  2.94252598e-03 4.12047615e-03 5.71141054e-03 7.83624902e-03\n",
      "  1.06424582e-02 1.43068675e-02 1.90377681e-02 2.50758917e-02\n",
      "  3.26938161e-02 4.21933220e-02 5.39002402e-02 6.81563865e-02\n",
      "  8.53083003e-02 1.05692677e-01 1.29618616e-01 1.57347099e-01\n",
      "  1.89068412e-01 2.24878578e-01 2.64756160e-01 3.08541039e-01\n",
      "  3.55916954e-01 4.06399617e-01 4.59332083e-01 5.13888793e-01\n",
      "  5.69089259e-01 6.23821741e-01 6.76876599e-01 7.26988212e-01\n",
      "  7.72883639e-01 8.13335512e-01 8.47216162e-01 8.73549671e-01\n",
      "  8.91558516e-01 9.00701689e-01 9.00701689e-01 8.91558516e-01\n",
      "  8.73549671e-01 8.47216162e-01 8.13335512e-01 7.72883639e-01\n",
      "  7.26988212e-01 6.76876599e-01 6.23821741e-01 5.69089259e-01\n",
      "  5.13888793e-01 4.59332083e-01 4.06399617e-01 3.55916954e-01\n",
      "  3.08541039e-01 2.64756160e-01 2.24878578e-01 1.89068412e-01\n",
      "  1.57347099e-01 1.29618616e-01 1.05692677e-01 8.53083003e-02\n",
      "  6.81563865e-02 5.39002402e-02 4.21933220e-02 3.26938161e-02\n",
      "  2.50758917e-02 1.90377681e-02 1.43068675e-02 1.06424582e-02\n",
      "  7.83624902e-03 5.71141054e-03 4.12047615e-03 2.94252598e-03\n",
      "  2.07999401e-03 1.45536772e-03 1.00798082e-03 6.91035997e-04\n",
      "  4.68940727e-04 3.14995325e-04 2.09439765e-04 1.37842471e-04\n",
      "  8.97998959e-05 5.79078570e-05 3.69630695e-05 2.33543315e-05\n",
      "  1.46061490e-05 9.04217463e-06 5.54088235e-06 3.36088648e-06]\n",
      " [3.50088900e-06 5.77169570e-06 9.41883930e-06 1.52145890e-05\n",
      "  2.43271894e-05 3.85028188e-05 6.03200912e-05 9.35406385e-05\n",
      "  1.43584495e-04 2.18164276e-04 3.28116904e-04 4.88475121e-04\n",
      "  7.19822086e-04 1.04996969e-03 1.51599313e-03 2.16663912e-03\n",
      "  3.06510109e-03 4.29212045e-03 5.94932748e-03 8.16267914e-03\n",
      "  1.10857850e-02 1.49028405e-02 1.98308135e-02 2.61204637e-02\n",
      "  3.40557236e-02 4.39509449e-02 5.61455315e-02 7.09955378e-02\n",
      "  8.88619391e-02 1.10095456e-01 1.35018064e-01 1.63901617e-01\n",
      "  1.96944326e-01 2.34246216e-01 2.75784955e-01 3.21393755e-01\n",
      "  3.70743182e-01 4.23328772e-01 4.78466215e-01 5.35295563e-01\n",
      "  5.92795482e-01 6.49807924e-01 7.05072858e-01 7.57271942e-01\n",
      "  8.05079208e-01 8.47216162e-01 8.82508158e-01 9.09938627e-01\n",
      "  9.28697656e-01 9.38221701e-01 9.38221701e-01 9.28697656e-01\n",
      "  9.09938627e-01 8.82508158e-01 8.47216162e-01 8.05079208e-01\n",
      "  7.57271942e-01 7.05072858e-01 6.49807924e-01 5.92795482e-01\n",
      "  5.35295563e-01 4.78466215e-01 4.23328772e-01 3.70743182e-01\n",
      "  3.21393755e-01 2.75784955e-01 2.34246216e-01 1.96944326e-01\n",
      "  1.63901617e-01 1.35018064e-01 1.10095456e-01 8.88619391e-02\n",
      "  7.09955378e-02 5.61455315e-02 4.39509449e-02 3.40557236e-02\n",
      "  2.61204637e-02 1.98308135e-02 1.49028405e-02 1.10857850e-02\n",
      "  8.16267914e-03 5.94932748e-03 4.29212045e-03 3.06510109e-03\n",
      "  2.16663912e-03 1.51599313e-03 1.04996969e-03 7.19822086e-04\n",
      "  4.88475121e-04 3.28116904e-04 2.18164276e-04 1.43584495e-04\n",
      "  9.35406385e-05 6.03200912e-05 3.85028188e-05 2.43271894e-05\n",
      "  1.52145890e-05 9.41883930e-06 5.77169570e-06 3.50088900e-06]\n",
      " [3.60970502e-06 5.95109384e-06 9.71159940e-06 1.56874949e-05\n",
      "  2.50833368e-05 3.96995787e-05 6.21949843e-05 9.64481057e-05\n",
      "  1.48047446e-04 2.24945345e-04 3.38315564e-04 5.03658098e-04\n",
      "  7.42195882e-04 1.08260527e-03 1.56311383e-03 2.23398346e-03\n",
      "  3.16037178e-03 4.42552984e-03 6.13424684e-03 8.41639477e-03\n",
      "  1.14303578e-02 1.53660565e-02 2.04472027e-02 2.69323504e-02\n",
      "  3.51142571e-02 4.53170457e-02 5.78906692e-02 7.32022493e-02\n",
      "  9.16239812e-02 1.13517486e-01 1.39214749e-01 1.68996072e-01\n",
      "  2.03065828e-01 2.41527150e-01 2.84357013e-01 3.31383443e-01\n",
      "  3.82266768e-01 4.36486845e-01 4.93338092e-01 5.51933832e-01\n",
      "  6.11220987e-01 6.70005512e-01 7.26988212e-01 7.80809769e-01\n",
      "  8.30103000e-01 8.73549671e-01 9.09938627e-01 9.38221701e-01\n",
      "  9.57563806e-01 9.67383880e-01 9.67383880e-01 9.57563806e-01\n",
      "  9.38221701e-01 9.09938627e-01 8.73549671e-01 8.30103000e-01\n",
      "  7.80809769e-01 7.26988212e-01 6.70005512e-01 6.11220987e-01\n",
      "  5.51933832e-01 4.93338092e-01 4.36486845e-01 3.82266768e-01\n",
      "  3.31383443e-01 2.84357013e-01 2.41527150e-01 2.03065828e-01\n",
      "  1.68996072e-01 1.39214749e-01 1.13517486e-01 9.16239812e-02\n",
      "  7.32022493e-02 5.78906692e-02 4.53170457e-02 3.51142571e-02\n",
      "  2.69323504e-02 2.04472027e-02 1.53660565e-02 1.14303578e-02\n",
      "  8.41639477e-03 6.13424684e-03 4.42552984e-03 3.16037178e-03\n",
      "  2.23398346e-03 1.56311383e-03 1.08260527e-03 7.42195882e-04\n",
      "  5.03658098e-04 3.38315564e-04 2.24945345e-04 1.48047446e-04\n",
      "  9.64481057e-05 6.21949843e-05 3.96995787e-05 2.50833368e-05\n",
      "  1.56874949e-05 9.71159940e-06 5.95109384e-06 3.60970502e-06]\n",
      " [3.68412164e-06 6.07377986e-06 9.91181090e-06 1.60109037e-05\n",
      "  2.56004475e-05 4.05180136e-05 6.34771779e-05 9.84364518e-05\n",
      "  1.51099549e-04 2.29582753e-04 3.45290179e-04 5.14041367e-04\n",
      "  7.57496776e-04 1.10492394e-03 1.59533853e-03 2.28003861e-03\n",
      "  3.22552509e-03 4.51676528e-03 6.26070869e-03 8.58990471e-03\n",
      "  1.16660027e-02 1.56828386e-02 2.08687363e-02 2.74875798e-02\n",
      "  3.58381624e-02 4.62512887e-02 5.90841264e-02 7.47113656e-02\n",
      "  9.35128744e-02 1.15857730e-01 1.42084760e-01 1.72480046e-01\n",
      "  2.07252173e-01 2.46506403e-01 2.90219234e-01 3.38215148e-01\n",
      "  3.90147469e-01 4.45485331e-01 5.03508606e-01 5.63312339e-01\n",
      "  6.23821741e-01 6.83818150e-01 7.41975589e-01 7.96906716e-01\n",
      "  8.47216162e-01 8.91558516e-01 9.28697656e-01 9.57563806e-01\n",
      "  9.77304662e-01 9.87327184e-01 9.87327184e-01 9.77304662e-01\n",
      "  9.57563806e-01 9.28697656e-01 8.91558516e-01 8.47216162e-01\n",
      "  7.96906716e-01 7.41975589e-01 6.83818150e-01 6.23821741e-01\n",
      "  5.63312339e-01 5.03508606e-01 4.45485331e-01 3.90147469e-01\n",
      "  3.38215148e-01 2.90219234e-01 2.46506403e-01 2.07252173e-01\n",
      "  1.72480046e-01 1.42084760e-01 1.15857730e-01 9.35128744e-02\n",
      "  7.47113656e-02 5.90841264e-02 4.62512887e-02 3.58381624e-02\n",
      "  2.74875798e-02 2.08687363e-02 1.56828386e-02 1.16660027e-02\n",
      "  8.58990471e-03 6.26070869e-03 4.51676528e-03 3.22552509e-03\n",
      "  2.28003861e-03 1.59533853e-03 1.10492394e-03 7.57496776e-04\n",
      "  5.14041367e-04 3.45290179e-04 2.29582753e-04 1.51099549e-04\n",
      "  9.84364518e-05 6.34771779e-05 4.05180136e-05 2.56004475e-05\n",
      "  1.60109037e-05 9.91181090e-06 6.07377986e-06 3.68412164e-06]\n",
      " [3.72190330e-06 6.13606810e-06 1.00134592e-05 1.61750998e-05\n",
      "  2.58629870e-05 4.09335368e-05 6.41281535e-05 9.94459441e-05\n",
      "  1.52649115e-04 2.31937186e-04 3.48831223e-04 5.19312999e-04\n",
      "  7.65265109e-04 1.11625523e-03 1.61169916e-03 2.30342102e-03\n",
      "  3.25860371e-03 4.56308592e-03 6.32491394e-03 8.67799650e-03\n",
      "  1.17856407e-02 1.58436703e-02 2.10827508e-02 2.77694724e-02\n",
      "  3.62056924e-02 4.67256081e-02 5.96900500e-02 7.54775507e-02\n",
      "  9.44718741e-02 1.17045882e-01 1.43541878e-01 1.74248875e-01\n",
      "  2.09377600e-01 2.49034393e-01 2.93195511e-01 3.41683635e-01\n",
      "  3.94148536e-01 4.50053903e-01 5.08672222e-01 5.69089259e-01\n",
      "  6.30219200e-01 6.90830889e-01 7.49584749e-01 8.05079208e-01\n",
      "  8.55904591e-01 9.00701689e-01 9.38221701e-01 9.67383880e-01\n",
      "  9.87327184e-01 9.97452490e-01 9.97452490e-01 9.87327184e-01\n",
      "  9.67383880e-01 9.38221701e-01 9.00701689e-01 8.55904591e-01\n",
      "  8.05079208e-01 7.49584749e-01 6.90830889e-01 6.30219200e-01\n",
      "  5.69089259e-01 5.08672222e-01 4.50053903e-01 3.94148536e-01\n",
      "  3.41683635e-01 2.93195511e-01 2.49034393e-01 2.09377600e-01\n",
      "  1.74248875e-01 1.43541878e-01 1.17045882e-01 9.44718741e-02\n",
      "  7.54775507e-02 5.96900500e-02 4.67256081e-02 3.62056924e-02\n",
      "  2.77694724e-02 2.10827508e-02 1.58436703e-02 1.17856407e-02\n",
      "  8.67799650e-03 6.32491394e-03 4.56308592e-03 3.25860371e-03\n",
      "  2.30342102e-03 1.61169916e-03 1.11625523e-03 7.65265109e-04\n",
      "  5.19312999e-04 3.48831223e-04 2.31937186e-04 1.52649115e-04\n",
      "  9.94459441e-05 6.41281535e-05 4.09335368e-05 2.58629870e-05\n",
      "  1.61750998e-05 1.00134592e-05 6.13606810e-06 3.72190330e-06]\n",
      " [3.72190330e-06 6.13606810e-06 1.00134592e-05 1.61750998e-05\n",
      "  2.58629870e-05 4.09335368e-05 6.41281535e-05 9.94459441e-05\n",
      "  1.52649115e-04 2.31937186e-04 3.48831223e-04 5.19312999e-04\n",
      "  7.65265109e-04 1.11625523e-03 1.61169916e-03 2.30342102e-03\n",
      "  3.25860371e-03 4.56308592e-03 6.32491394e-03 8.67799650e-03\n",
      "  1.17856407e-02 1.58436703e-02 2.10827508e-02 2.77694724e-02\n",
      "  3.62056924e-02 4.67256081e-02 5.96900500e-02 7.54775507e-02\n",
      "  9.44718741e-02 1.17045882e-01 1.43541878e-01 1.74248875e-01\n",
      "  2.09377600e-01 2.49034393e-01 2.93195511e-01 3.41683635e-01\n",
      "  3.94148536e-01 4.50053903e-01 5.08672222e-01 5.69089259e-01\n",
      "  6.30219200e-01 6.90830889e-01 7.49584749e-01 8.05079208e-01\n",
      "  8.55904591e-01 9.00701689e-01 9.38221701e-01 9.67383880e-01\n",
      "  9.87327184e-01 9.97452490e-01 9.97452490e-01 9.87327184e-01\n",
      "  9.67383880e-01 9.38221701e-01 9.00701689e-01 8.55904591e-01\n",
      "  8.05079208e-01 7.49584749e-01 6.90830889e-01 6.30219200e-01\n",
      "  5.69089259e-01 5.08672222e-01 4.50053903e-01 3.94148536e-01\n",
      "  3.41683635e-01 2.93195511e-01 2.49034393e-01 2.09377600e-01\n",
      "  1.74248875e-01 1.43541878e-01 1.17045882e-01 9.44718741e-02\n",
      "  7.54775507e-02 5.96900500e-02 4.67256081e-02 3.62056924e-02\n",
      "  2.77694724e-02 2.10827508e-02 1.58436703e-02 1.17856407e-02\n",
      "  8.67799650e-03 6.32491394e-03 4.56308592e-03 3.25860371e-03\n",
      "  2.30342102e-03 1.61169916e-03 1.11625523e-03 7.65265109e-04\n",
      "  5.19312999e-04 3.48831223e-04 2.31937186e-04 1.52649115e-04\n",
      "  9.94459441e-05 6.41281535e-05 4.09335368e-05 2.58629870e-05\n",
      "  1.61750998e-05 1.00134592e-05 6.13606810e-06 3.72190330e-06]\n",
      " [3.68412164e-06 6.07377986e-06 9.91181090e-06 1.60109037e-05\n",
      "  2.56004475e-05 4.05180136e-05 6.34771779e-05 9.84364518e-05\n",
      "  1.51099549e-04 2.29582753e-04 3.45290179e-04 5.14041367e-04\n",
      "  7.57496776e-04 1.10492394e-03 1.59533853e-03 2.28003861e-03\n",
      "  3.22552509e-03 4.51676528e-03 6.26070869e-03 8.58990471e-03\n",
      "  1.16660027e-02 1.56828386e-02 2.08687363e-02 2.74875798e-02\n",
      "  3.58381624e-02 4.62512887e-02 5.90841264e-02 7.47113656e-02\n",
      "  9.35128744e-02 1.15857730e-01 1.42084760e-01 1.72480046e-01\n",
      "  2.07252173e-01 2.46506403e-01 2.90219234e-01 3.38215148e-01\n",
      "  3.90147469e-01 4.45485331e-01 5.03508606e-01 5.63312339e-01\n",
      "  6.23821741e-01 6.83818150e-01 7.41975589e-01 7.96906716e-01\n",
      "  8.47216162e-01 8.91558516e-01 9.28697656e-01 9.57563806e-01\n",
      "  9.77304662e-01 9.87327184e-01 9.87327184e-01 9.77304662e-01\n",
      "  9.57563806e-01 9.28697656e-01 8.91558516e-01 8.47216162e-01\n",
      "  7.96906716e-01 7.41975589e-01 6.83818150e-01 6.23821741e-01\n",
      "  5.63312339e-01 5.03508606e-01 4.45485331e-01 3.90147469e-01\n",
      "  3.38215148e-01 2.90219234e-01 2.46506403e-01 2.07252173e-01\n",
      "  1.72480046e-01 1.42084760e-01 1.15857730e-01 9.35128744e-02\n",
      "  7.47113656e-02 5.90841264e-02 4.62512887e-02 3.58381624e-02\n",
      "  2.74875798e-02 2.08687363e-02 1.56828386e-02 1.16660027e-02\n",
      "  8.58990471e-03 6.26070869e-03 4.51676528e-03 3.22552509e-03\n",
      "  2.28003861e-03 1.59533853e-03 1.10492394e-03 7.57496776e-04\n",
      "  5.14041367e-04 3.45290179e-04 2.29582753e-04 1.51099549e-04\n",
      "  9.84364518e-05 6.34771779e-05 4.05180136e-05 2.56004475e-05\n",
      "  1.60109037e-05 9.91181090e-06 6.07377986e-06 3.68412164e-06]\n",
      " [3.60970502e-06 5.95109384e-06 9.71159940e-06 1.56874949e-05\n",
      "  2.50833368e-05 3.96995787e-05 6.21949843e-05 9.64481057e-05\n",
      "  1.48047446e-04 2.24945345e-04 3.38315564e-04 5.03658098e-04\n",
      "  7.42195882e-04 1.08260527e-03 1.56311383e-03 2.23398346e-03\n",
      "  3.16037178e-03 4.42552984e-03 6.13424684e-03 8.41639477e-03\n",
      "  1.14303578e-02 1.53660565e-02 2.04472027e-02 2.69323504e-02\n",
      "  3.51142571e-02 4.53170457e-02 5.78906692e-02 7.32022493e-02\n",
      "  9.16239812e-02 1.13517486e-01 1.39214749e-01 1.68996072e-01\n",
      "  2.03065828e-01 2.41527150e-01 2.84357013e-01 3.31383443e-01\n",
      "  3.82266768e-01 4.36486845e-01 4.93338092e-01 5.51933832e-01\n",
      "  6.11220987e-01 6.70005512e-01 7.26988212e-01 7.80809769e-01\n",
      "  8.30103000e-01 8.73549671e-01 9.09938627e-01 9.38221701e-01\n",
      "  9.57563806e-01 9.67383880e-01 9.67383880e-01 9.57563806e-01\n",
      "  9.38221701e-01 9.09938627e-01 8.73549671e-01 8.30103000e-01\n",
      "  7.80809769e-01 7.26988212e-01 6.70005512e-01 6.11220987e-01\n",
      "  5.51933832e-01 4.93338092e-01 4.36486845e-01 3.82266768e-01\n",
      "  3.31383443e-01 2.84357013e-01 2.41527150e-01 2.03065828e-01\n",
      "  1.68996072e-01 1.39214749e-01 1.13517486e-01 9.16239812e-02\n",
      "  7.32022493e-02 5.78906692e-02 4.53170457e-02 3.51142571e-02\n",
      "  2.69323504e-02 2.04472027e-02 1.53660565e-02 1.14303578e-02\n",
      "  8.41639477e-03 6.13424684e-03 4.42552984e-03 3.16037178e-03\n",
      "  2.23398346e-03 1.56311383e-03 1.08260527e-03 7.42195882e-04\n",
      "  5.03658098e-04 3.38315564e-04 2.24945345e-04 1.48047446e-04\n",
      "  9.64481057e-05 6.21949843e-05 3.96995787e-05 2.50833368e-05\n",
      "  1.56874949e-05 9.71159940e-06 5.95109384e-06 3.60970502e-06]\n",
      " [3.50088900e-06 5.77169570e-06 9.41883930e-06 1.52145890e-05\n",
      "  2.43271894e-05 3.85028188e-05 6.03200912e-05 9.35406385e-05\n",
      "  1.43584495e-04 2.18164276e-04 3.28116904e-04 4.88475121e-04\n",
      "  7.19822086e-04 1.04996969e-03 1.51599313e-03 2.16663912e-03\n",
      "  3.06510109e-03 4.29212045e-03 5.94932748e-03 8.16267914e-03\n",
      "  1.10857850e-02 1.49028405e-02 1.98308135e-02 2.61204637e-02\n",
      "  3.40557236e-02 4.39509449e-02 5.61455315e-02 7.09955378e-02\n",
      "  8.88619391e-02 1.10095456e-01 1.35018064e-01 1.63901617e-01\n",
      "  1.96944326e-01 2.34246216e-01 2.75784955e-01 3.21393755e-01\n",
      "  3.70743182e-01 4.23328772e-01 4.78466215e-01 5.35295563e-01\n",
      "  5.92795482e-01 6.49807924e-01 7.05072858e-01 7.57271942e-01\n",
      "  8.05079208e-01 8.47216162e-01 8.82508158e-01 9.09938627e-01\n",
      "  9.28697656e-01 9.38221701e-01 9.38221701e-01 9.28697656e-01\n",
      "  9.09938627e-01 8.82508158e-01 8.47216162e-01 8.05079208e-01\n",
      "  7.57271942e-01 7.05072858e-01 6.49807924e-01 5.92795482e-01\n",
      "  5.35295563e-01 4.78466215e-01 4.23328772e-01 3.70743182e-01\n",
      "  3.21393755e-01 2.75784955e-01 2.34246216e-01 1.96944326e-01\n",
      "  1.63901617e-01 1.35018064e-01 1.10095456e-01 8.88619391e-02\n",
      "  7.09955378e-02 5.61455315e-02 4.39509449e-02 3.40557236e-02\n",
      "  2.61204637e-02 1.98308135e-02 1.49028405e-02 1.10857850e-02\n",
      "  8.16267914e-03 5.94932748e-03 4.29212045e-03 3.06510109e-03\n",
      "  2.16663912e-03 1.51599313e-03 1.04996969e-03 7.19822086e-04\n",
      "  4.88475121e-04 3.28116904e-04 2.18164276e-04 1.43584495e-04\n",
      "  9.35406385e-05 6.03200912e-05 3.85028188e-05 2.43271894e-05\n",
      "  1.52145890e-05 9.41883930e-06 5.77169570e-06 3.50088900e-06]\n",
      " [3.36088648e-06 5.54088235e-06 9.04217463e-06 1.46061490e-05\n",
      "  2.33543315e-05 3.69630695e-05 5.79078570e-05 8.97998959e-05\n",
      "  1.37842471e-04 2.09439765e-04 3.14995325e-04 4.68940727e-04\n",
      "  6.91035997e-04 1.00798082e-03 1.45536772e-03 2.07999401e-03\n",
      "  2.94252598e-03 4.12047615e-03 5.71141054e-03 7.83624902e-03\n",
      "  1.06424582e-02 1.43068675e-02 1.90377681e-02 2.50758917e-02\n",
      "  3.26938161e-02 4.21933220e-02 5.39002402e-02 6.81563865e-02\n",
      "  8.53083003e-02 1.05692677e-01 1.29618616e-01 1.57347099e-01\n",
      "  1.89068412e-01 2.24878578e-01 2.64756160e-01 3.08541039e-01\n",
      "  3.55916954e-01 4.06399617e-01 4.59332083e-01 5.13888793e-01\n",
      "  5.69089259e-01 6.23821741e-01 6.76876599e-01 7.26988212e-01\n",
      "  7.72883639e-01 8.13335512e-01 8.47216162e-01 8.73549671e-01\n",
      "  8.91558516e-01 9.00701689e-01 9.00701689e-01 8.91558516e-01\n",
      "  8.73549671e-01 8.47216162e-01 8.13335512e-01 7.72883639e-01\n",
      "  7.26988212e-01 6.76876599e-01 6.23821741e-01 5.69089259e-01\n",
      "  5.13888793e-01 4.59332083e-01 4.06399617e-01 3.55916954e-01\n",
      "  3.08541039e-01 2.64756160e-01 2.24878578e-01 1.89068412e-01\n",
      "  1.57347099e-01 1.29618616e-01 1.05692677e-01 8.53083003e-02\n",
      "  6.81563865e-02 5.39002402e-02 4.21933220e-02 3.26938161e-02\n",
      "  2.50758917e-02 1.90377681e-02 1.43068675e-02 1.06424582e-02\n",
      "  7.83624902e-03 5.71141054e-03 4.12047615e-03 2.94252598e-03\n",
      "  2.07999401e-03 1.45536772e-03 1.00798082e-03 6.91035997e-04\n",
      "  4.68940727e-04 3.14995325e-04 2.09439765e-04 1.37842471e-04\n",
      "  8.97998959e-05 5.79078570e-05 3.69630695e-05 2.33543315e-05\n",
      "  1.46061490e-05 9.04217463e-06 5.54088235e-06 3.36088648e-06]\n",
      " [3.19373018e-06 5.26530227e-06 8.59245506e-06 1.38797009e-05\n",
      "  2.21927857e-05 3.51246825e-05 5.50277648e-05 8.53336284e-05\n",
      "  1.30986769e-04 1.99023115e-04 2.99328788e-04 4.45617596e-04\n",
      "  6.56666786e-04 9.57848107e-04 1.38298387e-03 1.97654389e-03\n",
      "  2.79617717e-03 3.91554107e-03 5.42734910e-03 7.44650709e-03\n",
      "  1.01131473e-02 1.35953044e-02 1.80909100e-02 2.38287228e-02\n",
      "  3.10677638e-02 4.00948044e-02 5.12194699e-02 6.47665757e-02\n",
      "  8.10654258e-02 1.00435969e-01 1.23171934e-01 1.49521319e-01\n",
      "  1.79664948e-01 2.13694068e-01 2.51588307e-01 2.93195511e-01\n",
      "  3.38215148e-01 3.86187017e-01 4.36486845e-01 4.88330135e-01\n",
      "  5.40785163e-01 5.92795482e-01 6.43211616e-01 6.90830889e-01\n",
      "  7.34443672e-01 7.72883639e-01 8.05079208e-01 8.30103000e-01\n",
      "  8.47216162e-01 8.55904591e-01 8.55904591e-01 8.47216162e-01\n",
      "  8.30103000e-01 8.05079208e-01 7.72883639e-01 7.34443672e-01\n",
      "  6.90830889e-01 6.43211616e-01 5.92795482e-01 5.40785163e-01\n",
      "  4.88330135e-01 4.36486845e-01 3.86187017e-01 3.38215148e-01\n",
      "  2.93195511e-01 2.51588307e-01 2.13694068e-01 1.79664948e-01\n",
      "  1.49521319e-01 1.23171934e-01 1.00435969e-01 8.10654258e-02\n",
      "  6.47665757e-02 5.12194699e-02 4.00948044e-02 3.10677638e-02\n",
      "  2.38287228e-02 1.80909100e-02 1.35953044e-02 1.01131473e-02\n",
      "  7.44650709e-03 5.42734910e-03 3.91554107e-03 2.79617717e-03\n",
      "  1.97654389e-03 1.38298387e-03 9.57848107e-04 6.56666786e-04\n",
      "  4.45617596e-04 2.99328788e-04 1.99023115e-04 1.30986769e-04\n",
      "  8.53336284e-05 5.50277648e-05 3.51246825e-05 2.21927857e-05\n",
      "  1.38797009e-05 8.59245506e-06 5.26530227e-06 3.19373018e-06]\n",
      " [3.00407989e-06 4.95263774e-06 8.08221733e-06 1.30554956e-05\n",
      "  2.08749322e-05 3.30389063e-05 5.17601024e-05 8.02663412e-05\n",
      "  1.23208504e-04 1.87204712e-04 2.81554026e-04 4.19155902e-04\n",
      "  6.17672555e-04 9.00969108e-04 1.30085943e-03 1.85917263e-03\n",
      "  2.63013439e-03 3.68302815e-03 5.10506190e-03 7.00431812e-03\n",
      "  9.51260773e-03 1.27879871e-02 1.70166344e-02 2.24137240e-02\n",
      "  2.92228958e-02 3.77138921e-02 4.81779520e-02 6.09206026e-02\n",
      "  7.62515933e-02 9.44718741e-02 1.15857730e-01 1.40642434e-01\n",
      "  1.68996072e-01 2.01004473e-01 2.36648474e-01 2.75784955e-01\n",
      "  3.18131234e-01 3.63254434e-01 4.10567355e-01 4.59332083e-01\n",
      "  5.08672222e-01 5.57594062e-01 6.05016381e-01 6.49807924e-01\n",
      "  6.90830889e-01 7.26988212e-01 7.57271942e-01 7.80809769e-01\n",
      "  7.96906716e-01 8.05079208e-01 8.05079208e-01 7.96906716e-01\n",
      "  7.80809769e-01 7.57271942e-01 7.26988212e-01 6.90830889e-01\n",
      "  6.49807924e-01 6.05016381e-01 5.57594062e-01 5.08672222e-01\n",
      "  4.59332083e-01 4.10567355e-01 3.63254434e-01 3.18131234e-01\n",
      "  2.75784955e-01 2.36648474e-01 2.01004473e-01 1.68996072e-01\n",
      "  1.40642434e-01 1.15857730e-01 9.44718741e-02 7.62515933e-02\n",
      "  6.09206026e-02 4.81779520e-02 3.77138921e-02 2.92228958e-02\n",
      "  2.24137240e-02 1.70166344e-02 1.27879871e-02 9.51260773e-03\n",
      "  7.00431812e-03 5.10506190e-03 3.68302815e-03 2.63013439e-03\n",
      "  1.85917263e-03 1.30085943e-03 9.00969108e-04 6.17672555e-04\n",
      "  4.19155902e-04 2.81554026e-04 1.87204712e-04 1.23208504e-04\n",
      "  8.02663412e-05 5.17601024e-05 3.30389063e-05 2.08749322e-05\n",
      "  1.30554956e-05 8.08221733e-06 4.95263774e-06 3.00407989e-06]\n",
      " [2.79700735e-06 4.61125027e-06 7.52510657e-06 1.21555746e-05\n",
      "  1.94360141e-05 3.07615201e-05 4.81922560e-05 7.47335474e-05\n",
      "  1.14715688e-04 1.74300609e-04 2.62146385e-04 3.90263304e-04\n",
      "  5.75096118e-04 8.38864915e-04 1.21119063e-03 1.73101905e-03\n",
      "  2.44883808e-03 3.42915542e-03 4.75316777e-03 6.52150742e-03\n",
      "  8.85689954e-03 1.19065056e-02 1.58436703e-02 2.08687363e-02\n",
      "  2.72085489e-02 3.51142571e-02 4.48570248e-02 5.67213190e-02\n",
      "  7.09955378e-02 8.79598868e-02 1.07871606e-01 1.30947890e-01\n",
      "  1.57347099e-01 1.87149147e-01 2.20336192e-01 2.56774979e-01\n",
      "  2.96202309e-01 3.38215148e-01 3.82266768e-01 4.27670123e-01\n",
      "  4.73609225e-01 5.19158861e-01 5.63312339e-01 6.05016381e-01\n",
      "  6.43211616e-01 6.76876599e-01 7.05072858e-01 7.26988212e-01\n",
      "  7.41975589e-01 7.49584749e-01 7.49584749e-01 7.41975589e-01\n",
      "  7.26988212e-01 7.05072858e-01 6.76876599e-01 6.43211616e-01\n",
      "  6.05016381e-01 5.63312339e-01 5.19158861e-01 4.73609225e-01\n",
      "  4.27670123e-01 3.82266768e-01 3.38215148e-01 2.96202309e-01\n",
      "  2.56774979e-01 2.20336192e-01 1.87149147e-01 1.57347099e-01\n",
      "  1.30947890e-01 1.07871606e-01 8.79598868e-02 7.09955378e-02\n",
      "  5.67213190e-02 4.48570248e-02 3.51142571e-02 2.72085489e-02\n",
      "  2.08687363e-02 1.58436703e-02 1.19065056e-02 8.85689954e-03\n",
      "  6.52150742e-03 4.75316777e-03 3.42915542e-03 2.44883808e-03\n",
      "  1.73101905e-03 1.21119063e-03 8.38864915e-04 5.75096118e-04\n",
      "  3.90263304e-04 2.62146385e-04 1.74300609e-04 1.14715688e-04\n",
      "  7.47335474e-05 4.81922560e-05 3.07615201e-05 1.94360141e-05\n",
      "  1.21555746e-05 7.52510657e-06 4.61125027e-06 2.79700735e-06]\n",
      " [2.57777267e-06 4.24981182e-06 6.93527460e-06 1.12027978e-05\n",
      "  1.79125828e-05 2.83503745e-05 4.44148566e-05 6.88757917e-05\n",
      "  1.05724057e-04 1.60638601e-04 2.41598859e-04 3.59673733e-04\n",
      "  5.30019005e-04 7.73113109e-04 1.11625523e-03 1.59533853e-03\n",
      "  2.25689356e-03 3.16037178e-03 4.38060556e-03 6.01033943e-03\n",
      "  8.16267914e-03 1.09732513e-02 1.46018137e-02 1.92330056e-02\n",
      "  2.50758917e-02 3.23619357e-02 4.13410470e-02 5.22753956e-02\n",
      "  6.54307744e-02 8.10654258e-02 9.94164273e-02 1.20683949e-01\n",
      "  1.45013938e-01 1.72480046e-01 2.03065828e-01 2.36648474e-01\n",
      "  2.72985417e-01 3.11705210e-01 3.52303982e-01 3.94148536e-01\n",
      "  4.36486845e-01 4.78466215e-01 5.19158861e-01 5.57594062e-01\n",
      "  5.92795482e-01 6.23821741e-01 6.49807924e-01 6.70005512e-01\n",
      "  6.83818150e-01 6.90830889e-01 6.90830889e-01 6.83818150e-01\n",
      "  6.70005512e-01 6.49807924e-01 6.23821741e-01 5.92795482e-01\n",
      "  5.57594062e-01 5.19158861e-01 4.78466215e-01 4.36486845e-01\n",
      "  3.94148536e-01 3.52303982e-01 3.11705210e-01 2.72985417e-01\n",
      "  2.36648474e-01 2.03065828e-01 1.72480046e-01 1.45013938e-01\n",
      "  1.20683949e-01 9.94164273e-02 8.10654258e-02 6.54307744e-02\n",
      "  5.22753956e-02 4.13410470e-02 3.23619357e-02 2.50758917e-02\n",
      "  1.92330056e-02 1.46018137e-02 1.09732513e-02 8.16267914e-03\n",
      "  6.01033943e-03 4.38060556e-03 3.16037178e-03 2.25689356e-03\n",
      "  1.59533853e-03 1.11625523e-03 7.73113109e-04 5.30019005e-04\n",
      "  3.59673733e-04 2.41598859e-04 1.60638601e-04 1.05724057e-04\n",
      "  6.88757917e-05 4.44148566e-05 2.83503745e-05 1.79125828e-05\n",
      "  1.12027978e-05 6.93527460e-06 4.24981182e-06 2.57777267e-06]\n",
      " [2.35160566e-06 3.87694449e-06 6.32679181e-06 1.02198937e-05\n",
      "  1.63409798e-05 2.58629870e-05 4.05180136e-05 6.28328106e-05\n",
      "  9.64481057e-05 1.46544591e-04 2.20401610e-04 3.28116904e-04\n",
      "  4.83516528e-04 7.05282194e-04 1.01831793e-03 1.45536772e-03\n",
      "  2.05887964e-03 2.88308906e-03 3.99626272e-03 5.48300803e-03\n",
      "  7.44650709e-03 1.00104871e-02 1.33206889e-02 1.75455521e-02\n",
      "  2.28757988e-02 2.95225844e-02 3.77138921e-02 4.76888896e-02\n",
      "  5.96900500e-02 7.39529581e-02 9.06938909e-02 1.10095456e-01\n",
      "  1.32290796e-01 1.57347099e-01 1.85249365e-01 2.15885558e-01\n",
      "  2.49034393e-01 2.84357013e-01 3.21393755e-01 3.59566978e-01\n",
      "  3.98190635e-01 4.36486845e-01 4.73609225e-01 5.08672222e-01\n",
      "  5.40785163e-01 5.69089259e-01 5.92795482e-01 6.11220987e-01\n",
      "  6.23821741e-01 6.30219200e-01 6.30219200e-01 6.23821741e-01\n",
      "  6.11220987e-01 5.92795482e-01 5.69089259e-01 5.40785163e-01\n",
      "  5.08672222e-01 4.73609225e-01 4.36486845e-01 3.98190635e-01\n",
      "  3.59566978e-01 3.21393755e-01 2.84357013e-01 2.49034393e-01\n",
      "  2.15885558e-01 1.85249365e-01 1.57347099e-01 1.32290796e-01\n",
      "  1.10095456e-01 9.06938909e-02 7.39529581e-02 5.96900500e-02\n",
      "  4.76888896e-02 3.77138921e-02 2.95225844e-02 2.28757988e-02\n",
      "  1.75455521e-02 1.33206889e-02 1.00104871e-02 7.44650709e-03\n",
      "  5.48300803e-03 3.99626272e-03 2.88308906e-03 2.05887964e-03\n",
      "  1.45536772e-03 1.01831793e-03 7.05282194e-04 4.83516528e-04\n",
      "  3.28116904e-04 2.20401610e-04 1.46544591e-04 9.64481057e-05\n",
      "  6.28328106e-05 4.05180136e-05 2.58629870e-05 1.63409798e-05\n",
      "  1.02198937e-05 6.32679181e-06 3.87694449e-06 2.35160566e-06]\n",
      " [2.12350484e-06 3.50088900e-06 5.71310626e-06 9.22858547e-06\n",
      "  1.47559390e-05 2.33543315e-05 3.65878512e-05 5.67381596e-05\n",
      "  8.70928416e-05 1.32330073e-04 1.99023115e-04 2.96290252e-04\n",
      "  4.36616438e-04 6.36871299e-04 9.19543224e-04 1.31420010e-03\n",
      "  1.85917263e-03 2.60343546e-03 3.60863361e-03 4.95116774e-03\n",
      "  6.72421151e-03 9.03949080e-03 1.20286100e-02 1.58436703e-02\n",
      "  2.06568943e-02 2.66589556e-02 3.40557236e-02 4.30631672e-02\n",
      "  5.39002402e-02 6.67796761e-02 8.18967735e-02 9.94164273e-02\n",
      "  1.19458866e-01 1.42084760e-01 1.67280565e-01 1.94945111e-01\n",
      "  2.24878578e-01 2.56774979e-01 2.90219234e-01 3.24689734e-01\n",
      "  3.59566978e-01 3.94148536e-01 4.27670123e-01 4.59332083e-01\n",
      "  4.88330135e-01 5.13888793e-01 5.35295563e-01 5.51933832e-01\n",
      "  5.63312339e-01 5.69089259e-01 5.69089259e-01 5.63312339e-01\n",
      "  5.51933832e-01 5.35295563e-01 5.13888793e-01 4.88330135e-01\n",
      "  4.59332083e-01 4.27670123e-01 3.94148536e-01 3.59566978e-01\n",
      "  3.24689734e-01 2.90219234e-01 2.56774979e-01 2.24878578e-01\n",
      "  1.94945111e-01 1.67280565e-01 1.42084760e-01 1.19458866e-01\n",
      "  9.94164273e-02 8.18967735e-02 6.67796761e-02 5.39002402e-02\n",
      "  4.30631672e-02 3.40557236e-02 2.66589556e-02 2.06568943e-02\n",
      "  1.58436703e-02 1.20286100e-02 9.03949080e-03 6.72421151e-03\n",
      "  4.95116774e-03 3.60863361e-03 2.60343546e-03 1.85917263e-03\n",
      "  1.31420010e-03 9.19543224e-04 6.36871299e-04 4.36616438e-04\n",
      "  2.96290252e-04 1.99023115e-04 1.32330073e-04 8.70928416e-05\n",
      "  5.67381596e-05 3.65878512e-05 2.33543315e-05 1.47559390e-05\n",
      "  9.22858547e-06 5.71310626e-06 3.50088900e-06 2.12350484e-06]\n",
      " [1.89806416e-06 3.12921911e-06 5.10657760e-06 8.24883796e-06\n",
      "  1.31893832e-05 2.08749322e-05 3.27035229e-05 5.07145853e-05\n",
      "  7.78466798e-05 1.18281326e-04 1.77893940e-04 2.64834767e-04\n",
      "  3.90263304e-04 5.69258221e-04 8.21920443e-04 1.17467880e-03\n",
      "  1.66179463e-03 2.32704322e-03 3.22552509e-03 4.42552984e-03\n",
      "  6.01033943e-03 8.07981842e-03 1.07515995e-02 1.41616361e-02\n",
      "  1.84638669e-02 2.38287228e-02 3.04402171e-02 3.84913907e-02\n",
      "  4.81779520e-02 5.96900500e-02 7.32022493e-02 8.88619391e-02\n",
      "  1.06776584e-01 1.27000413e-01 1.49521319e-01 1.74248875e-01\n",
      "  2.01004473e-01 2.29514610e-01 2.59408275e-01 2.90219234e-01\n",
      "  3.21393755e-01 3.52303982e-01 3.82266768e-01 4.10567355e-01\n",
      "  4.36486845e-01 4.59332083e-01 4.78466215e-01 4.93338092e-01\n",
      "  5.03508606e-01 5.08672222e-01 5.08672222e-01 5.03508606e-01\n",
      "  4.93338092e-01 4.78466215e-01 4.59332083e-01 4.36486845e-01\n",
      "  4.10567355e-01 3.82266768e-01 3.52303982e-01 3.21393755e-01\n",
      "  2.90219234e-01 2.59408275e-01 2.29514610e-01 2.01004473e-01\n",
      "  1.74248875e-01 1.49521319e-01 1.27000413e-01 1.06776584e-01\n",
      "  8.88619391e-02 7.32022493e-02 5.96900500e-02 4.81779520e-02\n",
      "  3.84913907e-02 3.04402171e-02 2.38287228e-02 1.84638669e-02\n",
      "  1.41616361e-02 1.07515995e-02 8.07981842e-03 6.01033943e-03\n",
      "  4.42552984e-03 3.22552509e-03 2.32704322e-03 1.66179463e-03\n",
      "  1.17467880e-03 8.21920443e-04 5.69258221e-04 3.90263304e-04\n",
      "  2.64834767e-04 1.77893940e-04 1.18281326e-04 7.78466798e-05\n",
      "  5.07145853e-05 3.27035229e-05 2.08749322e-05 1.31893832e-05\n",
      "  8.24883796e-06 5.10657760e-06 3.12921911e-06 1.89806416e-06]\n",
      " [1.67933523e-06 2.76861447e-06 4.51810631e-06 7.29825918e-06\n",
      "  1.16694663e-05 1.84693488e-05 2.89348375e-05 4.48703429e-05\n",
      "  6.88757917e-05 1.04650835e-04 1.57393816e-04 2.34315764e-04\n",
      "  3.45290179e-04 5.03658098e-04 7.27204055e-04 1.03931128e-03\n",
      "  1.47029290e-03 2.05887964e-03 2.85382234e-03 3.91554107e-03\n",
      "  5.31772053e-03 7.14871710e-03 9.51260773e-03 1.25296789e-02\n",
      "  1.63361296e-02 2.10827508e-02 2.69323504e-02 3.40557236e-02\n",
      "  4.26260259e-02 5.28114938e-02 6.47665757e-02 7.86216756e-02\n",
      "  9.44718741e-02 1.12365152e-01 1.32290796e-01 1.54168800e-01\n",
      "  1.77841139e-01 2.03065828e-01 2.29514610e-01 2.56774979e-01\n",
      "  2.84357013e-01 3.11705210e-01 3.38215148e-01 3.63254434e-01\n",
      "  3.86187017e-01 4.06399617e-01 4.23328772e-01 4.36486845e-01\n",
      "  4.45485331e-01 4.50053903e-01 4.50053903e-01 4.45485331e-01\n",
      "  4.36486845e-01 4.23328772e-01 4.06399617e-01 3.86187017e-01\n",
      "  3.63254434e-01 3.38215148e-01 3.11705210e-01 2.84357013e-01\n",
      "  2.56774979e-01 2.29514610e-01 2.03065828e-01 1.77841139e-01\n",
      "  1.54168800e-01 1.32290796e-01 1.12365152e-01 9.44718741e-02\n",
      "  7.86216756e-02 6.47665757e-02 5.28114938e-02 4.26260259e-02\n",
      "  3.40557236e-02 2.69323504e-02 2.10827508e-02 1.63361296e-02\n",
      "  1.25296789e-02 9.51260773e-03 7.14871710e-03 5.31772053e-03\n",
      "  3.91554107e-03 2.85382234e-03 2.05887964e-03 1.47029290e-03\n",
      "  1.03931128e-03 7.27204055e-04 5.03658098e-04 3.45290179e-04\n",
      "  2.34315764e-04 1.57393816e-04 1.04650835e-04 6.88757917e-05\n",
      "  4.48703429e-05 2.89348375e-05 1.84693488e-05 1.16694663e-05\n",
      "  7.29825918e-06 4.51810631e-06 2.76861447e-06 1.67933523e-06]\n",
      " [1.47072943e-06 2.42469920e-06 3.95687044e-06 6.39167476e-06\n",
      "  1.02198937e-05 1.61750998e-05 2.53405732e-05 3.92965817e-05\n",
      "  6.03200912e-05 9.16511844e-05 1.37842471e-04 2.05209231e-04\n",
      "  3.02398485e-04 4.41094057e-04 6.36871299e-04 9.10208788e-04\n",
      "  1.28765419e-03 1.80312712e-03 2.49932262e-03 3.42915542e-03\n",
      "  4.65715717e-03 6.26070869e-03 8.33095855e-03 1.09732513e-02\n",
      "  1.43068675e-02 1.84638669e-02 2.35868335e-02 2.98253465e-02\n",
      "  3.73310521e-02 4.62512887e-02 5.67213190e-02 6.88553486e-02\n",
      "  8.27366470e-02 9.84072346e-02 1.15857730e-01 1.35018064e-01\n",
      "  1.55749843e-01 1.77841139e-01 2.01004473e-01 2.24878578e-01\n",
      "  2.49034393e-01 2.72985417e-01 2.96202309e-01 3.18131234e-01\n",
      "  3.38215148e-01 3.55916954e-01 3.70743182e-01 3.82266768e-01\n",
      "  3.90147469e-01 3.94148536e-01 3.94148536e-01 3.90147469e-01\n",
      "  3.82266768e-01 3.70743182e-01 3.55916954e-01 3.38215148e-01\n",
      "  3.18131234e-01 2.96202309e-01 2.72985417e-01 2.49034393e-01\n",
      "  2.24878578e-01 2.01004473e-01 1.77841139e-01 1.55749843e-01\n",
      "  1.35018064e-01 1.15857730e-01 9.84072346e-02 8.27366470e-02\n",
      "  6.88553486e-02 5.67213190e-02 4.62512887e-02 3.73310521e-02\n",
      "  2.98253465e-02 2.35868335e-02 1.84638669e-02 1.43068675e-02\n",
      "  1.09732513e-02 8.33095855e-03 6.26070869e-03 4.65715717e-03\n",
      "  3.42915542e-03 2.49932262e-03 1.80312712e-03 1.28765419e-03\n",
      "  9.10208788e-04 6.36871299e-04 4.41094057e-04 3.02398485e-04\n",
      "  2.05209231e-04 1.37842471e-04 9.16511844e-05 6.03200912e-05\n",
      "  3.92965817e-05 2.53405732e-05 1.61750998e-05 1.02198937e-05\n",
      "  6.39167476e-06 3.95687044e-06 2.42469920e-06 1.47072943e-06]\n",
      " [1.27496143e-06 2.10194879e-06 3.43017354e-06 5.54088235e-06\n",
      "  8.85952916e-06 1.40220409e-05 2.19675030e-05 3.40658347e-05\n",
      "  5.22909162e-05 7.94515443e-05 1.19494333e-04 1.77893940e-04\n",
      "  2.62146385e-04 3.82380263e-04 5.52097701e-04 7.89051384e-04\n",
      "  1.11625523e-03 1.56311383e-03 2.16663912e-03 2.97270238e-03\n",
      "  4.03724547e-03 5.42734910e-03 7.22202912e-03 9.51260773e-03\n",
      "  1.24024880e-02 1.60061514e-02 2.04472027e-02 2.58553106e-02\n",
      "  3.23619357e-02 4.00948044e-02 4.91711746e-02 5.96900500e-02\n",
      "  7.17236162e-02 8.53083003e-02 1.00435969e-01 1.17045882e-01\n",
      "  1.35018064e-01 1.54168800e-01 1.74248875e-01 1.94945111e-01\n",
      "  2.15885558e-01 2.36648474e-01 2.56774979e-01 2.75784955e-01\n",
      "  2.93195511e-01 3.08541039e-01 3.21393755e-01 3.31383443e-01\n",
      "  3.38215148e-01 3.41683635e-01 3.41683635e-01 3.38215148e-01\n",
      "  3.31383443e-01 3.21393755e-01 3.08541039e-01 2.93195511e-01\n",
      "  2.75784955e-01 2.56774979e-01 2.36648474e-01 2.15885558e-01\n",
      "  1.94945111e-01 1.74248875e-01 1.54168800e-01 1.35018064e-01\n",
      "  1.17045882e-01 1.00435969e-01 8.53083003e-02 7.17236162e-02\n",
      "  5.96900500e-02 4.91711746e-02 4.00948044e-02 3.23619357e-02\n",
      "  2.58553106e-02 2.04472027e-02 1.60061514e-02 1.24024880e-02\n",
      "  9.51260773e-03 7.22202912e-03 5.42734910e-03 4.03724547e-03\n",
      "  2.97270238e-03 2.16663912e-03 1.56311383e-03 1.11625523e-03\n",
      "  7.89051384e-04 5.52097701e-04 3.82380263e-04 2.62146385e-04\n",
      "  1.77893940e-04 1.19494333e-04 7.94515443e-05 5.22909162e-05\n",
      "  3.40658347e-05 2.19675030e-05 1.40220409e-05 8.85952916e-06\n",
      "  5.54088235e-06 3.43017354e-06 2.10194879e-06 1.27496143e-06]\n",
      " [1.09403240e-06 1.80366247e-06 2.94339962e-06 4.75457898e-06\n",
      "  7.60227856e-06 1.20321813e-05 1.88501075e-05 2.92315721e-05\n",
      "  4.48703429e-05 6.81766221e-05 1.02536962e-04 1.52649115e-04\n",
      "  2.24945345e-04 3.28116904e-04 4.73749840e-04 6.77077564e-04\n",
      "  9.57848107e-04 1.34129326e-03 1.85917263e-03 2.55084792e-03\n",
      "  3.46432233e-03 4.65715717e-03 6.19715519e-03 8.16267914e-03\n",
      "  1.06424582e-02 1.37347279e-02 1.75455521e-02 2.21861986e-02\n",
      "  2.77694724e-02 3.44049742e-02 4.21933220e-02 5.12194699e-02\n",
      "  6.15453598e-02 7.32022493e-02 8.61831599e-02 1.00435969e-01\n",
      "  1.15857730e-01 1.32290796e-01 1.49521319e-01 1.67280565e-01\n",
      "  1.85249365e-01 2.03065828e-01 2.20336192e-01 2.36648474e-01\n",
      "  2.51588307e-01 2.64756160e-01 2.75784955e-01 2.84357013e-01\n",
      "  2.90219234e-01 2.93195511e-01 2.93195511e-01 2.90219234e-01\n",
      "  2.84357013e-01 2.75784955e-01 2.64756160e-01 2.51588307e-01\n",
      "  2.36648474e-01 2.20336192e-01 2.03065828e-01 1.85249365e-01\n",
      "  1.67280565e-01 1.49521319e-01 1.32290796e-01 1.15857730e-01\n",
      "  1.00435969e-01 8.61831599e-02 7.32022493e-02 6.15453598e-02\n",
      "  5.12194699e-02 4.21933220e-02 3.44049742e-02 2.77694724e-02\n",
      "  2.21861986e-02 1.75455521e-02 1.37347279e-02 1.06424582e-02\n",
      "  8.16267914e-03 6.19715519e-03 4.65715717e-03 3.46432233e-03\n",
      "  2.55084792e-03 1.85917263e-03 1.34129326e-03 9.57848107e-04\n",
      "  6.77077564e-04 4.73749840e-04 3.28116904e-04 2.24945345e-04\n",
      "  1.52649115e-04 1.02536962e-04 6.81766221e-05 4.48703429e-05\n",
      "  2.92315721e-05 1.88501075e-05 1.20321813e-05 7.60227856e-06\n",
      "  4.75457898e-06 2.94339962e-06 1.80366247e-06 1.09403240e-06]\n",
      " [9.29249200e-07 1.53199476e-06 2.50006467e-06 4.03844413e-06\n",
      "  6.45722310e-06 1.02198937e-05 1.60109037e-05 2.48287117e-05\n",
      "  3.81119703e-05 5.79078570e-05 8.70928416e-05 1.29657100e-04\n",
      "  1.91064069e-04 2.78695925e-04 4.02393623e-04 5.75096118e-04\n",
      "  8.13576992e-04 1.13926763e-03 1.57914399e-03 2.16663912e-03\n",
      "  2.94252598e-03 3.95569600e-03 5.26373946e-03 6.93321612e-03\n",
      "  9.03949080e-03 1.16660027e-02 1.49028405e-02 1.88445126e-02\n",
      "  2.35868335e-02 2.92228958e-02 3.58381624e-02 4.35047916e-02\n",
      "  5.22753956e-02 6.21765240e-02 7.32022493e-02 8.53083003e-02\n",
      "  9.84072346e-02 1.12365152e-01 1.27000413e-01 1.42084760e-01\n",
      "  1.57347099e-01 1.72480046e-01 1.87149147e-01 2.01004473e-01\n",
      "  2.13694068e-01 2.24878578e-01 2.34246216e-01 2.41527150e-01\n",
      "  2.46506403e-01 2.49034393e-01 2.49034393e-01 2.46506403e-01\n",
      "  2.41527150e-01 2.34246216e-01 2.24878578e-01 2.13694068e-01\n",
      "  2.01004473e-01 1.87149147e-01 1.72480046e-01 1.57347099e-01\n",
      "  1.42084760e-01 1.27000413e-01 1.12365152e-01 9.84072346e-02\n",
      "  8.53083003e-02 7.32022493e-02 6.21765240e-02 5.22753956e-02\n",
      "  4.35047916e-02 3.58381624e-02 2.92228958e-02 2.35868335e-02\n",
      "  1.88445126e-02 1.49028405e-02 1.16660027e-02 9.03949080e-03\n",
      "  6.93321612e-03 5.26373946e-03 3.95569600e-03 2.94252598e-03\n",
      "  2.16663912e-03 1.57914399e-03 1.13926763e-03 8.13576992e-04\n",
      "  5.75096118e-04 4.02393623e-04 2.78695925e-04 1.91064069e-04\n",
      "  1.29657100e-04 8.70928416e-05 5.79078570e-05 3.81119703e-05\n",
      "  2.48287117e-05 1.60109037e-05 1.02198937e-05 6.45722310e-06\n",
      "  4.03844413e-06 2.50006467e-06 1.53199476e-06 9.29249200e-07]\n",
      " [7.81273483e-07 1.28803650e-06 2.10194879e-06 3.39535328e-06\n",
      "  5.42896049e-06 8.59245506e-06 1.34612916e-05 2.08749322e-05\n",
      "  3.20429351e-05 4.86864806e-05 7.32239831e-05 1.09010214e-04\n",
      "  1.60638601e-04 2.34315764e-04 3.38315564e-04 4.83516528e-04\n",
      "  6.84021176e-04 9.57848107e-04 1.32767757e-03 1.82161867e-03\n",
      "  2.47395158e-03 3.32578214e-03 4.42552984e-03 5.82915531e-03\n",
      "  7.60002211e-03 9.80828238e-03 1.25296789e-02 1.58436703e-02\n",
      "  1.98308135e-02 2.45693766e-02 3.01312134e-02 3.65769915e-02\n",
      "  4.39509449e-02 5.22753956e-02 6.15453598e-02 7.17236162e-02\n",
      "  8.27366470e-02 9.44718741e-02 1.06776584e-01 1.19458866e-01\n",
      "  1.32290796e-01 1.45013938e-01 1.57347099e-01 1.68996072e-01\n",
      "  1.79664948e-01 1.89068412e-01 1.96944326e-01 2.03065828e-01\n",
      "  2.07252173e-01 2.09377600e-01 2.09377600e-01 2.07252173e-01\n",
      "  2.03065828e-01 1.96944326e-01 1.89068412e-01 1.79664948e-01\n",
      "  1.68996072e-01 1.57347099e-01 1.45013938e-01 1.32290796e-01\n",
      "  1.19458866e-01 1.06776584e-01 9.44718741e-02 8.27366470e-02\n",
      "  7.17236162e-02 6.15453598e-02 5.22753956e-02 4.39509449e-02\n",
      "  3.65769915e-02 3.01312134e-02 2.45693766e-02 1.98308135e-02\n",
      "  1.58436703e-02 1.25296789e-02 9.80828238e-03 7.60002211e-03\n",
      "  5.82915531e-03 4.42552984e-03 3.32578214e-03 2.47395158e-03\n",
      "  1.82161867e-03 1.32767757e-03 9.57848107e-04 6.84021176e-04\n",
      "  4.83516528e-04 3.38315564e-04 2.34315764e-04 1.60638601e-04\n",
      "  1.09010214e-04 7.32239831e-05 4.86864806e-05 3.20429351e-05\n",
      "  2.08749322e-05 1.34612916e-05 8.59245506e-06 5.42896049e-06\n",
      "  3.39535328e-06 2.10194879e-06 1.28803650e-06 7.81273483e-07]\n",
      " [6.50193838e-07 1.07193372e-06 1.74929033e-06 2.82569142e-06\n",
      "  4.51810631e-06 7.15083956e-06 1.12027978e-05 1.73726007e-05\n",
      "  2.66668707e-05 4.05180136e-05 6.09386900e-05 9.07208180e-05\n",
      "  1.33687154e-04 1.95002990e-04 2.81554026e-04 4.02393623e-04\n",
      "  5.69258221e-04 7.97143318e-04 1.10492394e-03 1.51599313e-03\n",
      "  2.05887964e-03 2.76779271e-03 3.68302815e-03 4.85115769e-03\n",
      "  6.32491394e-03 8.16267914e-03 1.04274882e-02 1.31854684e-02\n",
      "  1.65036610e-02 2.04472027e-02 2.50758917e-02 3.04402171e-02\n",
      "  3.65769915e-02 4.35047916e-02 5.12194699e-02 5.96900500e-02\n",
      "  6.88553486e-02 7.86216756e-02 8.88619391e-02 9.94164273e-02\n",
      "  1.10095456e-01 1.20683949e-01 1.30947890e-01 1.40642434e-01\n",
      "  1.49521319e-01 1.57347099e-01 1.63901617e-01 1.68996072e-01\n",
      "  1.72480046e-01 1.74248875e-01 1.74248875e-01 1.72480046e-01\n",
      "  1.68996072e-01 1.63901617e-01 1.57347099e-01 1.49521319e-01\n",
      "  1.40642434e-01 1.30947890e-01 1.20683949e-01 1.10095456e-01\n",
      "  9.94164273e-02 8.88619391e-02 7.86216756e-02 6.88553486e-02\n",
      "  5.96900500e-02 5.12194699e-02 4.35047916e-02 3.65769915e-02\n",
      "  3.04402171e-02 2.50758917e-02 2.04472027e-02 1.65036610e-02\n",
      "  1.31854684e-02 1.04274882e-02 8.16267914e-03 6.32491394e-03\n",
      "  4.85115769e-03 3.68302815e-03 2.76779271e-03 2.05887964e-03\n",
      "  1.51599313e-03 1.10492394e-03 7.97143318e-04 5.69258221e-04\n",
      "  4.02393623e-04 2.81554026e-04 1.95002990e-04 1.33687154e-04\n",
      "  9.07208180e-05 6.09386900e-05 4.05180136e-05 2.66668707e-05\n",
      "  1.73726007e-05 1.12027978e-05 7.15083956e-06 4.51810631e-06\n",
      "  2.82569142e-06 1.74929033e-06 1.07193372e-06 6.50193838e-07]\n",
      " [5.35613469e-07 8.83032270e-07 1.44102175e-06 2.32773412e-06\n",
      "  3.72190330e-06 5.89068330e-06 9.22858547e-06 1.43111152e-05\n",
      "  2.19675030e-05 3.33777292e-05 5.01997731e-05 7.47335474e-05\n",
      "  1.10128143e-04 1.60638601e-04 2.31937186e-04 3.31481831e-04\n",
      "  4.68940727e-04 6.56666786e-04 9.10208788e-04 1.24883734e-03\n",
      "  1.69605371e-03 2.28003861e-03 3.03398674e-03 3.99626272e-03\n",
      "  5.21030637e-03 6.72421151e-03 8.58990471e-03 1.08618600e-02\n",
      "  1.35953044e-02 1.68438957e-02 2.06568943e-02 2.50758917e-02\n",
      "  3.01312134e-02 3.58381624e-02 4.21933220e-02 4.91711746e-02\n",
      "  5.67213190e-02 6.47665757e-02 7.32022493e-02 8.18967735e-02\n",
      "  9.06938909e-02 9.94164273e-02 1.07871606e-01 1.15857730e-01\n",
      "  1.23171934e-01 1.29618616e-01 1.35018064e-01 1.39214749e-01\n",
      "  1.42084760e-01 1.43541878e-01 1.43541878e-01 1.42084760e-01\n",
      "  1.39214749e-01 1.35018064e-01 1.29618616e-01 1.23171934e-01\n",
      "  1.15857730e-01 1.07871606e-01 9.94164273e-02 9.06938909e-02\n",
      "  8.18967735e-02 7.32022493e-02 6.47665757e-02 5.67213190e-02\n",
      "  4.91711746e-02 4.21933220e-02 3.58381624e-02 3.01312134e-02\n",
      "  2.50758917e-02 2.06568943e-02 1.68438957e-02 1.35953044e-02\n",
      "  1.08618600e-02 8.58990471e-03 6.72421151e-03 5.21030637e-03\n",
      "  3.99626272e-03 3.03398674e-03 2.28003861e-03 1.69605371e-03\n",
      "  1.24883734e-03 9.10208788e-04 6.56666786e-04 4.68940727e-04\n",
      "  3.31481831e-04 2.31937186e-04 1.60638601e-04 1.10128143e-04\n",
      "  7.47335474e-05 5.01997731e-05 3.33777292e-05 2.19675030e-05\n",
      "  1.43111152e-05 9.22858547e-06 5.89068330e-06 3.72190330e-06\n",
      "  2.32773412e-06 1.44102175e-06 8.83032270e-07 5.35613469e-07]\n",
      " [4.36746070e-07 7.20035802e-07 1.17502756e-06 1.89806416e-06\n",
      "  3.03488753e-06 4.80333847e-06 7.52510657e-06 1.16694663e-05\n",
      "  1.79125828e-05 2.72166271e-05 4.09335368e-05 6.09386900e-05\n",
      "  8.97998959e-05 1.30986769e-04 1.89124546e-04 2.70294523e-04\n",
      "  3.82380263e-04 5.35454492e-04 7.42195882e-04 1.01831793e-03\n",
      "  1.38298387e-03 1.85917263e-03 2.47395158e-03 3.25860371e-03\n",
      "  4.24855042e-03 5.48300803e-03 7.00431812e-03 8.85689954e-03\n",
      "  1.10857850e-02 1.37347279e-02 1.68438957e-02 2.04472027e-02\n",
      "  2.45693766e-02 2.92228958e-02 3.44049742e-02 4.00948044e-02\n",
      "  4.62512887e-02 5.28114938e-02 5.96900500e-02 6.67796761e-02\n",
      "  7.39529581e-02 8.10654258e-02 8.79598868e-02 9.44718741e-02\n",
      "  1.00435969e-01 1.05692677e-01 1.10095456e-01 1.13517486e-01\n",
      "  1.15857730e-01 1.17045882e-01 1.17045882e-01 1.15857730e-01\n",
      "  1.13517486e-01 1.10095456e-01 1.05692677e-01 1.00435969e-01\n",
      "  9.44718741e-02 8.79598868e-02 8.10654258e-02 7.39529581e-02\n",
      "  6.67796761e-02 5.96900500e-02 5.28114938e-02 4.62512887e-02\n",
      "  4.00948044e-02 3.44049742e-02 2.92228958e-02 2.45693766e-02\n",
      "  2.04472027e-02 1.68438957e-02 1.37347279e-02 1.10857850e-02\n",
      "  8.85689954e-03 7.00431812e-03 5.48300803e-03 4.24855042e-03\n",
      "  3.25860371e-03 2.47395158e-03 1.85917263e-03 1.38298387e-03\n",
      "  1.01831793e-03 7.42195882e-04 5.35454492e-04 3.82380263e-04\n",
      "  2.70294523e-04 1.89124546e-04 1.30986769e-04 8.97998959e-05\n",
      "  6.09386900e-05 4.09335368e-05 2.72166271e-05 1.79125828e-05\n",
      "  1.16694663e-05 7.52510657e-06 4.80333847e-06 3.03488753e-06\n",
      "  1.89806416e-06 1.17502756e-06 7.20035802e-07 4.36746070e-07]\n",
      " [3.52513211e-07 5.81166380e-07 9.48406330e-07 1.53199476e-06\n",
      "  2.44956515e-06 3.87694449e-06 6.07377986e-06 9.41883930e-06\n",
      "  1.44578796e-05 2.19675030e-05 3.30389063e-05 4.91857735e-05\n",
      "  7.24806743e-05 1.05724057e-04 1.52649115e-04 2.18164276e-04\n",
      "  3.08632645e-04 4.32184272e-04 5.99052566e-04 8.21920443e-04\n",
      "  1.11625523e-03 1.50060403e-03 1.99681388e-03 2.63013439e-03\n",
      "  3.42915542e-03 4.42552984e-03 5.65343306e-03 7.14871710e-03\n",
      "  8.94772943e-03 1.10857850e-02 1.35953044e-02 1.65036610e-02\n",
      "  1.98308135e-02 2.35868335e-02 2.77694724e-02 3.23619357e-02\n",
      "  3.73310521e-02 4.26260259e-02 4.81779520e-02 5.39002402e-02\n",
      "  5.96900500e-02 6.54307744e-02 7.09955378e-02 7.62515933e-02\n",
      "  8.10654258e-02 8.53083003e-02 8.88619391e-02 9.16239812e-02\n",
      "  9.35128744e-02 9.44718741e-02 9.44718741e-02 9.35128744e-02\n",
      "  9.16239812e-02 8.88619391e-02 8.53083003e-02 8.10654258e-02\n",
      "  7.62515933e-02 7.09955378e-02 6.54307744e-02 5.96900500e-02\n",
      "  5.39002402e-02 4.81779520e-02 4.26260259e-02 3.73310521e-02\n",
      "  3.23619357e-02 2.77694724e-02 2.35868335e-02 1.98308135e-02\n",
      "  1.65036610e-02 1.35953044e-02 1.10857850e-02 8.94772943e-03\n",
      "  7.14871710e-03 5.65343306e-03 4.42552984e-03 3.42915542e-03\n",
      "  2.63013439e-03 1.99681388e-03 1.50060403e-03 1.11625523e-03\n",
      "  8.21920443e-04 5.99052566e-04 4.32184272e-04 3.08632645e-04\n",
      "  2.18164276e-04 1.52649115e-04 1.05724057e-04 7.24806743e-05\n",
      "  4.91857735e-05 3.30389063e-05 2.19675030e-05 1.44578796e-05\n",
      "  9.41883930e-06 6.07377986e-06 3.87694449e-06 2.44956515e-06\n",
      "  1.53199476e-06 9.48406330e-07 5.81166380e-07 3.52513211e-07]\n",
      " [2.81637620e-07 4.64318247e-07 7.57721677e-07 1.22397500e-06\n",
      "  1.95706055e-06 3.09745389e-06 4.85259800e-06 7.52510657e-06\n",
      "  1.15510076e-05 1.75507614e-05 2.63961708e-05 3.92965817e-05\n",
      "  5.79078570e-05 8.44673925e-05 1.21957794e-04 1.74300609e-04\n",
      "  2.46579591e-04 3.45290179e-04 4.78608272e-04 6.56666786e-04\n",
      "  8.91823221e-04 1.19889563e-03 1.59533853e-03 2.10132491e-03\n",
      "  2.73969639e-03 3.53574179e-03 4.51676528e-03 5.71141054e-03\n",
      "  7.14871710e-03 8.85689954e-03 1.08618600e-02 1.31854684e-02\n",
      "  1.58436703e-02 1.88445126e-02 2.21861986e-02 2.58553106e-02\n",
      "  2.98253465e-02 3.40557236e-02 3.84913907e-02 4.30631672e-02\n",
      "  4.76888896e-02 5.22753956e-02 5.67213190e-02 6.09206026e-02\n",
      "  6.47665757e-02 6.81563865e-02 7.09955378e-02 7.32022493e-02\n",
      "  7.47113656e-02 7.54775507e-02 7.54775507e-02 7.47113656e-02\n",
      "  7.32022493e-02 7.09955378e-02 6.81563865e-02 6.47665757e-02\n",
      "  6.09206026e-02 5.67213190e-02 5.22753956e-02 4.76888896e-02\n",
      "  4.30631672e-02 3.84913907e-02 3.40557236e-02 2.98253465e-02\n",
      "  2.58553106e-02 2.21861986e-02 1.88445126e-02 1.58436703e-02\n",
      "  1.31854684e-02 1.08618600e-02 8.85689954e-03 7.14871710e-03\n",
      "  5.71141054e-03 4.51676528e-03 3.53574179e-03 2.73969639e-03\n",
      "  2.10132491e-03 1.59533853e-03 1.19889563e-03 8.91823221e-04\n",
      "  6.56666786e-04 4.78608272e-04 3.45290179e-04 2.46579591e-04\n",
      "  1.74300609e-04 1.21957794e-04 8.44673925e-05 5.79078570e-05\n",
      "  3.92965817e-05 2.63961708e-05 1.75507614e-05 1.15510076e-05\n",
      "  7.52510657e-06 4.85259800e-06 3.09745389e-06 1.95706055e-06\n",
      "  1.22397500e-06 7.57721677e-07 4.64318247e-07 2.81637620e-07]\n",
      " [2.22727996e-07 3.67197651e-07 5.99230425e-07 9.67958399e-07\n",
      "  1.54770578e-06 2.44956515e-06 3.83758898e-06 5.95109384e-06\n",
      "  9.13490456e-06 1.38797009e-05 2.08749322e-05 3.10769878e-05\n",
      "  4.57953768e-05 6.67995030e-05 9.64481057e-05 1.37842471e-04\n",
      "  1.95002990e-04 2.73066466e-04 3.78498658e-04 5.19312999e-04\n",
      "  7.05282194e-04 9.48124832e-04 1.26164450e-03 1.66179463e-03\n",
      "  2.16663912e-03 2.79617717e-03 3.57200177e-03 4.51676528e-03\n",
      "  5.65343306e-03 7.00431812e-03 8.58990471e-03 1.04274882e-02\n",
      "  1.25296789e-02 1.49028405e-02 1.75455521e-02 2.04472027e-02\n",
      "  2.35868335e-02 2.69323504e-02 3.04402171e-02 3.40557236e-02\n",
      "  3.77138921e-02 4.13410470e-02 4.48570248e-02 4.81779520e-02\n",
      "  5.12194699e-02 5.39002402e-02 5.61455315e-02 5.78906692e-02\n",
      "  5.90841264e-02 5.96900500e-02 5.96900500e-02 5.90841264e-02\n",
      "  5.78906692e-02 5.61455315e-02 5.39002402e-02 5.12194699e-02\n",
      "  4.81779520e-02 4.48570248e-02 4.13410470e-02 3.77138921e-02\n",
      "  3.40557236e-02 3.04402171e-02 2.69323504e-02 2.35868335e-02\n",
      "  2.04472027e-02 1.75455521e-02 1.49028405e-02 1.25296789e-02\n",
      "  1.04274882e-02 8.58990471e-03 7.00431812e-03 5.65343306e-03\n",
      "  4.51676528e-03 3.57200177e-03 2.79617717e-03 2.16663912e-03\n",
      "  1.66179463e-03 1.26164450e-03 9.48124832e-04 7.05282194e-04\n",
      "  5.19312999e-04 3.78498658e-04 2.73066466e-04 1.95002990e-04\n",
      "  1.37842471e-04 9.64481057e-05 6.67995030e-05 4.57953768e-05\n",
      "  3.10769878e-05 2.08749322e-05 1.38797009e-05 9.13490456e-06\n",
      "  5.95109384e-06 3.83758898e-06 2.44956515e-06 1.54770578e-06\n",
      "  9.67958399e-07 5.99230425e-07 3.67197651e-07 2.22727996e-07]\n",
      " [1.74352359e-07 2.87443779e-07 4.69079955e-07 7.57721677e-07\n",
      "  1.21155023e-06 1.91752932e-06 3.00407989e-06 4.65853988e-06\n",
      "  7.15083956e-06 1.08650849e-05 1.63409798e-05 2.43271894e-05\n",
      "  3.58488027e-05 5.22909162e-05 7.54999601e-05 1.07903633e-04\n",
      "  1.52649115e-04 2.13757514e-04 2.96290252e-04 4.06520277e-04\n",
      "  5.52097701e-04 7.42195882e-04 9.87620322e-04 1.30085943e-03\n",
      "  1.69605371e-03 2.18885859e-03 2.79617717e-03 3.53574179e-03\n",
      "  4.42552984e-03 5.48300803e-03 6.72421151e-03 8.16267914e-03\n",
      "  9.80828238e-03 1.16660027e-02 1.37347279e-02 1.60061514e-02\n",
      "  1.84638669e-02 2.10827508e-02 2.38287228e-02 2.66589556e-02\n",
      "  2.95225844e-02 3.23619357e-02 3.51142571e-02 3.77138921e-02\n",
      "  4.00948044e-02 4.21933220e-02 4.39509449e-02 4.53170457e-02\n",
      "  4.62512887e-02 4.67256081e-02 4.67256081e-02 4.62512887e-02\n",
      "  4.53170457e-02 4.39509449e-02 4.21933220e-02 4.00948044e-02\n",
      "  3.77138921e-02 3.51142571e-02 3.23619357e-02 2.95225844e-02\n",
      "  2.66589556e-02 2.38287228e-02 2.10827508e-02 1.84638669e-02\n",
      "  1.60061514e-02 1.37347279e-02 1.16660027e-02 9.80828238e-03\n",
      "  8.16267914e-03 6.72421151e-03 5.48300803e-03 4.42552984e-03\n",
      "  3.53574179e-03 2.79617717e-03 2.18885859e-03 1.69605371e-03\n",
      "  1.30085943e-03 9.87620322e-04 7.42195882e-04 5.52097701e-04\n",
      "  4.06520277e-04 2.96290252e-04 2.13757514e-04 1.52649115e-04\n",
      "  1.07903633e-04 7.54999601e-05 5.22909162e-05 3.58488027e-05\n",
      "  2.43271894e-05 1.63409798e-05 1.08650849e-05 7.15083956e-06\n",
      "  4.65853988e-06 3.00407989e-06 1.91752932e-06 1.21155023e-06\n",
      "  7.57721677e-07 4.69079955e-07 2.87443779e-07 1.74352359e-07]\n",
      " [1.35098250e-07 2.22727996e-07 3.63470167e-07 5.87126398e-07\n",
      "  9.38778900e-07 1.48581216e-06 2.32773412e-06 3.60970502e-06\n",
      "  5.54088235e-06 8.41889360e-06 1.26619323e-05 1.88501075e-05\n",
      "  2.77777171e-05 4.05180136e-05 5.85017176e-05 8.36099500e-05\n",
      "  1.18281326e-04 1.65631633e-04 2.29582753e-04 3.14995325e-04\n",
      "  4.27797098e-04 5.75096118e-04 7.65265109e-04 1.00798082e-03\n",
      "  1.31420010e-03 1.69605371e-03 2.16663912e-03 2.73969639e-03\n",
      "  3.42915542e-03 4.24855042e-03 5.21030637e-03 6.32491394e-03\n",
      "  7.60002211e-03 9.03949080e-03 1.06424582e-02 1.24024880e-02\n",
      "  1.43068675e-02 1.63361296e-02 1.84638669e-02 2.06568943e-02\n",
      "  2.28757988e-02 2.50758917e-02 2.72085489e-02 2.92228958e-02\n",
      "  3.10677638e-02 3.26938161e-02 3.40557236e-02 3.51142571e-02\n",
      "  3.58381624e-02 3.62056924e-02 3.62056924e-02 3.58381624e-02\n",
      "  3.51142571e-02 3.40557236e-02 3.26938161e-02 3.10677638e-02\n",
      "  2.92228958e-02 2.72085489e-02 2.50758917e-02 2.28757988e-02\n",
      "  2.06568943e-02 1.84638669e-02 1.63361296e-02 1.43068675e-02\n",
      "  1.24024880e-02 1.06424582e-02 9.03949080e-03 7.60002211e-03\n",
      "  6.32491394e-03 5.21030637e-03 4.24855042e-03 3.42915542e-03\n",
      "  2.73969639e-03 2.16663912e-03 1.69605371e-03 1.31420010e-03\n",
      "  1.00798082e-03 7.65265109e-04 5.75096118e-04 4.27797098e-04\n",
      "  3.14995325e-04 2.29582753e-04 1.65631633e-04 1.18281326e-04\n",
      "  8.36099500e-05 5.85017176e-05 4.05180136e-05 2.77777171e-05\n",
      "  1.88501075e-05 1.26619323e-05 8.41889360e-06 5.54088235e-06\n",
      "  3.60970502e-06 2.32773412e-06 1.48581216e-06 9.38778900e-07\n",
      "  5.87126398e-07 3.63470167e-07 2.22727996e-07 1.35098250e-07]\n",
      " [1.03619262e-07 1.70830566e-07 2.78778670e-07 4.50321185e-07\n",
      "  7.20035802e-07 1.13960588e-06 1.78535319e-06 2.76861447e-06\n",
      "  4.24981182e-06 6.45722310e-06 9.71159940e-06 1.44578796e-05\n",
      "  2.13052837e-05 3.10769878e-05 4.48703429e-05 6.41281535e-05\n",
      "  9.07208180e-05 1.27038119e-04 1.76088109e-04 2.41598859e-04\n",
      "  3.28116904e-04 4.41094057e-04 5.86952132e-04 7.73113109e-04\n",
      "  1.00798082e-03 1.30085943e-03 1.66179463e-03 2.10132491e-03\n",
      "  2.63013439e-03 3.25860371e-03 3.99626272e-03 4.85115769e-03\n",
      "  5.82915531e-03 6.93321612e-03 8.16267914e-03 9.51260773e-03\n",
      "  1.09732513e-02 1.25296789e-02 1.41616361e-02 1.58436703e-02\n",
      "  1.75455521e-02 1.92330056e-02 2.08687363e-02 2.24137240e-02\n",
      "  2.38287228e-02 2.50758917e-02 2.61204637e-02 2.69323504e-02\n",
      "  2.74875798e-02 2.77694724e-02 2.77694724e-02 2.74875798e-02\n",
      "  2.69323504e-02 2.61204637e-02 2.50758917e-02 2.38287228e-02\n",
      "  2.24137240e-02 2.08687363e-02 1.92330056e-02 1.75455521e-02\n",
      "  1.58436703e-02 1.41616361e-02 1.25296789e-02 1.09732513e-02\n",
      "  9.51260773e-03 8.16267914e-03 6.93321612e-03 5.82915531e-03\n",
      "  4.85115769e-03 3.99626272e-03 3.25860371e-03 2.63013439e-03\n",
      "  2.10132491e-03 1.66179463e-03 1.30085943e-03 1.00798082e-03\n",
      "  7.73113109e-04 5.86952132e-04 4.41094057e-04 3.28116904e-04\n",
      "  2.41598859e-04 1.76088109e-04 1.27038119e-04 9.07208180e-05\n",
      "  6.41281535e-05 4.48703429e-05 3.10769878e-05 2.13052837e-05\n",
      "  1.44578796e-05 9.71159940e-06 6.45722310e-06 4.24981182e-06\n",
      "  2.76861447e-06 1.78535319e-06 1.13960588e-06 7.20035802e-07\n",
      "  4.50321185e-07 2.78778670e-07 1.70830566e-07 1.03619262e-07]\n",
      " [7.86683682e-08 1.29695595e-07 2.11650446e-07 3.41886557e-07\n",
      "  5.46655520e-07 8.65195648e-07 1.35545090e-06 2.10194879e-06\n",
      "  3.22648275e-06 4.90236270e-06 7.37310479e-06 1.09765093e-05\n",
      "  1.61750998e-05 2.35938364e-05 3.40658347e-05 4.86864806e-05\n",
      "  6.88757917e-05 9.64481057e-05 1.33687154e-04 1.83423310e-04\n",
      "  2.49108331e-04 3.34881267e-04 4.45617596e-04 5.86952132e-04\n",
      "  7.65265109e-04 9.87620322e-04 1.26164450e-03 1.59533853e-03\n",
      "  1.99681388e-03 2.47395158e-03 3.03398674e-03 3.68302815e-03\n",
      "  4.42552984e-03 5.26373946e-03 6.19715519e-03 7.22202912e-03\n",
      "  8.33095855e-03 9.51260773e-03 1.07515995e-02 1.20286100e-02\n",
      "  1.33206889e-02 1.46018137e-02 1.58436703e-02 1.70166344e-02\n",
      "  1.80909100e-02 1.90377681e-02 1.98308135e-02 2.04472027e-02\n",
      "  2.08687363e-02 2.10827508e-02 2.10827508e-02 2.08687363e-02\n",
      "  2.04472027e-02 1.98308135e-02 1.90377681e-02 1.80909100e-02\n",
      "  1.70166344e-02 1.58436703e-02 1.46018137e-02 1.33206889e-02\n",
      "  1.20286100e-02 1.07515995e-02 9.51260773e-03 8.33095855e-03\n",
      "  7.22202912e-03 6.19715519e-03 5.26373946e-03 4.42552984e-03\n",
      "  3.68302815e-03 3.03398674e-03 2.47395158e-03 1.99681388e-03\n",
      "  1.59533853e-03 1.26164450e-03 9.87620322e-04 7.65265109e-04\n",
      "  5.86952132e-04 4.45617596e-04 3.34881267e-04 2.49108331e-04\n",
      "  1.83423310e-04 1.33687154e-04 9.64481057e-05 6.88757917e-05\n",
      "  4.86864806e-05 3.40658347e-05 2.35938364e-05 1.61750998e-05\n",
      "  1.09765093e-05 7.37310479e-06 4.90236270e-06 3.22648275e-06\n",
      "  2.10194879e-06 1.35545090e-06 8.65195648e-07 5.46655520e-07\n",
      "  3.41886557e-07 2.11650446e-07 1.29695595e-07 7.86683682e-08]\n",
      " [5.91192158e-08 9.74661362e-08 1.59055141e-07 2.56927474e-07\n",
      "  4.10811186e-07 6.50193838e-07 1.01862027e-06 1.57961283e-06\n",
      "  2.42469920e-06 3.68412164e-06 5.54088235e-06 8.24883796e-06\n",
      "  1.21555746e-05 1.77307492e-05 2.56004475e-05 3.65878512e-05\n",
      "  5.17601024e-05 7.24806743e-05 1.00465789e-04 1.37842471e-04\n",
      "  1.87204712e-04 2.51663004e-04 3.34881267e-04 4.41094057e-04\n",
      "  5.75096118e-04 7.42195882e-04 9.48124832e-04 1.19889563e-03\n",
      "  1.50060403e-03 1.85917263e-03 2.28003861e-03 2.76779271e-03\n",
      "  3.32578214e-03 3.95569600e-03 4.65715717e-03 5.42734910e-03\n",
      "  6.26070869e-03 7.14871710e-03 8.07981842e-03 9.03949080e-03\n",
      "  1.00104871e-02 1.09732513e-02 1.19065056e-02 1.27879871e-02\n",
      "  1.35953044e-02 1.43068675e-02 1.49028405e-02 1.53660565e-02\n",
      "  1.56828386e-02 1.58436703e-02 1.58436703e-02 1.56828386e-02\n",
      "  1.53660565e-02 1.49028405e-02 1.43068675e-02 1.35953044e-02\n",
      "  1.27879871e-02 1.19065056e-02 1.09732513e-02 1.00104871e-02\n",
      "  9.03949080e-03 8.07981842e-03 7.14871710e-03 6.26070869e-03\n",
      "  5.42734910e-03 4.65715717e-03 3.95569600e-03 3.32578214e-03\n",
      "  2.76779271e-03 2.28003861e-03 1.85917263e-03 1.50060403e-03\n",
      "  1.19889563e-03 9.48124832e-04 7.42195882e-04 5.75096118e-04\n",
      "  4.41094057e-04 3.34881267e-04 2.51663004e-04 1.87204712e-04\n",
      "  1.37842471e-04 1.00465789e-04 7.24806743e-05 5.17601024e-05\n",
      "  3.65878512e-05 2.56004475e-05 1.77307492e-05 1.21555746e-05\n",
      "  8.24883796e-06 5.54088235e-06 3.68412164e-06 2.42469920e-06\n",
      "  1.57961283e-06 1.01862027e-06 6.50193838e-07 4.10811186e-07\n",
      "  2.56927474e-07 1.59055141e-07 9.74661362e-08 5.91192158e-08]\n",
      " [4.39770469e-08 7.25021939e-08 1.18316444e-07 1.91120796e-07\n",
      "  3.05590366e-07 4.83660085e-07 7.57721677e-07 1.17502756e-06\n",
      "  1.80366247e-06 2.74050980e-06 4.12169952e-06 6.13606810e-06\n",
      "  9.04217463e-06 1.31893832e-05 1.90434205e-05 2.72166271e-05\n",
      "  3.85028188e-05 5.39162432e-05 7.47335474e-05 1.02536962e-04\n",
      "  1.39256082e-04 1.87204712e-04 2.49108331e-04 3.28116904e-04\n",
      "  4.27797098e-04 5.52097701e-04 7.05282194e-04 8.91823221e-04\n",
      "  1.11625523e-03 1.38298387e-03 1.69605371e-03 2.05887964e-03\n",
      "  2.47395158e-03 2.94252598e-03 3.46432233e-03 4.03724547e-03\n",
      "  4.65715717e-03 5.31772053e-03 6.01033943e-03 6.72421151e-03\n",
      "  7.44650709e-03 8.16267914e-03 8.85689954e-03 9.51260773e-03\n",
      "  1.01131473e-02 1.06424582e-02 1.10857850e-02 1.14303578e-02\n",
      "  1.16660027e-02 1.17856407e-02 1.17856407e-02 1.16660027e-02\n",
      "  1.14303578e-02 1.10857850e-02 1.06424582e-02 1.01131473e-02\n",
      "  9.51260773e-03 8.85689954e-03 8.16267914e-03 7.44650709e-03\n",
      "  6.72421151e-03 6.01033943e-03 5.31772053e-03 4.65715717e-03\n",
      "  4.03724547e-03 3.46432233e-03 2.94252598e-03 2.47395158e-03\n",
      "  2.05887964e-03 1.69605371e-03 1.38298387e-03 1.11625523e-03\n",
      "  8.91823221e-04 7.05282194e-04 5.52097701e-04 4.27797098e-04\n",
      "  3.28116904e-04 2.49108331e-04 1.87204712e-04 1.39256082e-04\n",
      "  1.02536962e-04 7.47335474e-05 5.39162432e-05 3.85028188e-05\n",
      "  2.72166271e-05 1.90434205e-05 1.31893832e-05 9.04217463e-06\n",
      "  6.13606810e-06 4.12169952e-06 2.74050980e-06 1.80366247e-06\n",
      "  1.17502756e-06 7.57721677e-07 4.83660085e-07 3.05590366e-07\n",
      "  1.91120796e-07 1.18316444e-07 7.25021939e-08 4.39770469e-08]\n",
      " [3.23811551e-08 5.33847757e-08 8.71186995e-08 1.40725960e-07\n",
      "  2.25012131e-07 3.56128329e-07 5.57925211e-07 8.65195648e-07\n",
      "  1.32807176e-06 2.01789068e-06 3.03488753e-06 4.51810631e-06\n",
      "  6.65792908e-06 9.71159940e-06 1.40220409e-05 2.00401320e-05\n",
      "  2.83503745e-05 3.96995787e-05 5.50277648e-05 7.54999601e-05\n",
      "  1.02536962e-04 1.37842471e-04 1.83423310e-04 2.41598859e-04\n",
      "  3.14995325e-04 4.06520277e-04 5.19312999e-04 6.56666786e-04\n",
      "  8.21920443e-04 1.01831793e-03 1.24883734e-03 1.51599313e-03\n",
      "  1.82161867e-03 2.16663912e-03 2.55084792e-03 2.97270238e-03\n",
      "  3.42915542e-03 3.91554107e-03 4.42552984e-03 4.95116774e-03\n",
      "  5.48300803e-03 6.01033943e-03 6.52150742e-03 7.00431812e-03\n",
      "  7.44650709e-03 7.83624902e-03 8.16267914e-03 8.41639477e-03\n",
      "  8.58990471e-03 8.67799650e-03 8.67799650e-03 8.58990471e-03\n",
      "  8.41639477e-03 8.16267914e-03 7.83624902e-03 7.44650709e-03\n",
      "  7.00431812e-03 6.52150742e-03 6.01033943e-03 5.48300803e-03\n",
      "  4.95116774e-03 4.42552984e-03 3.91554107e-03 3.42915542e-03\n",
      "  2.97270238e-03 2.55084792e-03 2.16663912e-03 1.82161867e-03\n",
      "  1.51599313e-03 1.24883734e-03 1.01831793e-03 8.21920443e-04\n",
      "  6.56666786e-04 5.19312999e-04 4.06520277e-04 3.14995325e-04\n",
      "  2.41598859e-04 1.83423310e-04 1.37842471e-04 1.02536962e-04\n",
      "  7.54999601e-05 5.50277648e-05 3.96995787e-05 2.83503745e-05\n",
      "  2.00401320e-05 1.40220409e-05 9.71159940e-06 6.65792908e-06\n",
      "  4.51810631e-06 3.03488753e-06 2.01789068e-06 1.32807176e-06\n",
      "  8.65195648e-07 5.57925211e-07 3.56128329e-07 2.25012131e-07\n",
      "  1.40725960e-07 8.71186995e-08 5.33847757e-08 3.23811551e-08]\n",
      " [2.36008414e-08 3.89092243e-08 6.34960243e-08 1.02567406e-07\n",
      "  1.63998956e-07 2.59562335e-07 4.06640973e-07 6.30593481e-07\n",
      "  9.67958399e-07 1.47072943e-06 2.21196246e-06 3.29299897e-06\n",
      "  4.85259800e-06 7.07825020e-06 1.02198937e-05 1.46061490e-05\n",
      "  2.06630273e-05 2.89348375e-05 4.01067085e-05 5.50277648e-05\n",
      "  7.47335474e-05 1.00465789e-04 1.33687154e-04 1.76088109e-04\n",
      "  2.29582753e-04 2.96290252e-04 3.78498658e-04 4.78608272e-04\n",
      "  5.99052566e-04 7.42195882e-04 9.10208788e-04 1.10492394e-03\n",
      "  1.32767757e-03 1.57914399e-03 1.85917263e-03 2.16663912e-03\n",
      "  2.49932262e-03 2.85382234e-03 3.22552509e-03 3.60863361e-03\n",
      "  3.99626272e-03 4.38060556e-03 4.75316777e-03 5.10506190e-03\n",
      "  5.42734910e-03 5.71141054e-03 5.94932748e-03 6.13424684e-03\n",
      "  6.26070869e-03 6.32491394e-03 6.32491394e-03 6.26070869e-03\n",
      "  6.13424684e-03 5.94932748e-03 5.71141054e-03 5.42734910e-03\n",
      "  5.10506190e-03 4.75316777e-03 4.38060556e-03 3.99626272e-03\n",
      "  3.60863361e-03 3.22552509e-03 2.85382234e-03 2.49932262e-03\n",
      "  2.16663912e-03 1.85917263e-03 1.57914399e-03 1.32767757e-03\n",
      "  1.10492394e-03 9.10208788e-04 7.42195882e-04 5.99052566e-04\n",
      "  4.78608272e-04 3.78498658e-04 2.96290252e-04 2.29582753e-04\n",
      "  1.76088109e-04 1.33687154e-04 1.00465789e-04 7.47335474e-05\n",
      "  5.50277648e-05 4.01067085e-05 2.89348375e-05 2.06630273e-05\n",
      "  1.46061490e-05 1.02198937e-05 7.07825020e-06 4.85259800e-06\n",
      "  3.29299897e-06 2.21196246e-06 1.47072943e-06 9.67958399e-07\n",
      "  6.30593481e-07 4.06640973e-07 2.59562335e-07 1.63998956e-07\n",
      "  1.02567406e-07 6.34960243e-08 3.89092243e-08 2.36008414e-08]\n",
      " [1.70267403e-08 2.80709169e-08 4.58089734e-08 7.39968780e-08\n",
      "  1.18316444e-07 1.87260293e-07 2.93369636e-07 4.54939350e-07\n",
      "  6.98330030e-07 1.06105235e-06 1.59581219e-06 2.37572201e-06\n",
      "  3.50088900e-06 5.10657760e-06 7.37310479e-06 1.05375525e-05\n",
      "  1.49072651e-05 2.08749322e-05 2.89348375e-05 3.96995787e-05\n",
      "  5.39162432e-05 7.24806743e-05 9.64481057e-05 1.27038119e-04\n",
      "  1.65631633e-04 2.13757514e-04 2.73066466e-04 3.45290179e-04\n",
      "  4.32184272e-04 5.35454492e-04 6.56666786e-04 7.97143318e-04\n",
      "  9.57848107e-04 1.13926763e-03 1.34129326e-03 1.56311383e-03\n",
      "  1.80312712e-03 2.05887964e-03 2.32704322e-03 2.60343546e-03\n",
      "  2.88308906e-03 3.16037178e-03 3.42915542e-03 3.68302815e-03\n",
      "  3.91554107e-03 4.12047615e-03 4.29212045e-03 4.42552984e-03\n",
      "  4.51676528e-03 4.56308592e-03 4.56308592e-03 4.51676528e-03\n",
      "  4.42552984e-03 4.29212045e-03 4.12047615e-03 3.91554107e-03\n",
      "  3.68302815e-03 3.42915542e-03 3.16037178e-03 2.88308906e-03\n",
      "  2.60343546e-03 2.32704322e-03 2.05887964e-03 1.80312712e-03\n",
      "  1.56311383e-03 1.34129326e-03 1.13926763e-03 9.57848107e-04\n",
      "  7.97143318e-04 6.56666786e-04 5.35454492e-04 4.32184272e-04\n",
      "  3.45290179e-04 2.73066466e-04 2.13757514e-04 1.65631633e-04\n",
      "  1.27038119e-04 9.64481057e-05 7.24806743e-05 5.39162432e-05\n",
      "  3.96995787e-05 2.89348375e-05 2.08749322e-05 1.49072651e-05\n",
      "  1.05375525e-05 7.37310479e-06 5.10657760e-06 3.50088900e-06\n",
      "  2.37572201e-06 1.59581219e-06 1.06105235e-06 6.98330030e-07\n",
      "  4.54939350e-07 2.93369636e-07 1.87260293e-07 1.18316444e-07\n",
      "  7.39968780e-08 4.58089734e-08 2.80709169e-08 1.70267403e-08]\n",
      " [1.21591836e-08 2.00460819e-08 3.27132326e-08 5.28428580e-08\n",
      "  8.44924709e-08 1.33726845e-07 2.09501947e-07 3.24882564e-07\n",
      "  4.98693400e-07 7.57721677e-07 1.13960588e-06 1.69655726e-06\n",
      "  2.50006467e-06 3.64672351e-06 5.26530227e-06 7.52510657e-06\n",
      "  1.06456180e-05 1.49072651e-05 2.06630273e-05 2.83503745e-05\n",
      "  3.85028188e-05 5.17601024e-05 6.88757917e-05 9.07208180e-05\n",
      "  1.18281326e-04 1.52649115e-04 1.95002990e-04 2.46579591e-04\n",
      "  3.08632645e-04 3.82380263e-04 4.68940727e-04 5.69258221e-04\n",
      "  6.84021176e-04 8.13576992e-04 9.57848107e-04 1.11625523e-03\n",
      "  1.28765419e-03 1.47029290e-03 1.66179463e-03 1.85917263e-03\n",
      "  2.05887964e-03 2.25689356e-03 2.44883808e-03 2.63013439e-03\n",
      "  2.79617717e-03 2.94252598e-03 3.06510109e-03 3.16037178e-03\n",
      "  3.22552509e-03 3.25860371e-03 3.25860371e-03 3.22552509e-03\n",
      "  3.16037178e-03 3.06510109e-03 2.94252598e-03 2.79617717e-03\n",
      "  2.63013439e-03 2.44883808e-03 2.25689356e-03 2.05887964e-03\n",
      "  1.85917263e-03 1.66179463e-03 1.47029290e-03 1.28765419e-03\n",
      "  1.11625523e-03 9.57848107e-04 8.13576992e-04 6.84021176e-04\n",
      "  5.69258221e-04 4.68940727e-04 3.82380263e-04 3.08632645e-04\n",
      "  2.46579591e-04 1.95002990e-04 1.52649115e-04 1.18281326e-04\n",
      "  9.07208180e-05 6.88757917e-05 5.17601024e-05 3.85028188e-05\n",
      "  2.83503745e-05 2.06630273e-05 1.49072651e-05 1.06456180e-05\n",
      "  7.52510657e-06 5.26530227e-06 3.64672351e-06 2.50006467e-06\n",
      "  1.69655726e-06 1.13960588e-06 7.57721677e-07 4.98693400e-07\n",
      "  3.24882564e-07 2.09501947e-07 1.33726845e-07 8.44924709e-08\n",
      "  5.28428580e-08 3.27132326e-08 2.00460819e-08 1.21591836e-08]\n",
      " [8.59500616e-09 1.41700466e-08 2.31241213e-08 3.73532226e-08\n",
      "  5.97254992e-08 9.45279799e-08 1.48091401e-07 2.29650916e-07\n",
      "  3.52513211e-07 5.35613469e-07 8.05557336e-07 1.19925158e-06\n",
      "  1.76722977e-06 2.57777267e-06 3.72190330e-06 5.31929936e-06\n",
      "  7.52510657e-06 1.05375525e-05 1.46061490e-05 2.00401320e-05\n",
      "  2.72166271e-05 3.65878512e-05 4.86864806e-05 6.41281535e-05\n",
      "  8.36099500e-05 1.07903633e-04 1.37842471e-04 1.74300609e-04\n",
      "  2.18164276e-04 2.70294523e-04 3.31481831e-04 4.02393623e-04\n",
      "  4.83516528e-04 5.75096118e-04 6.77077564e-04 7.89051384e-04\n",
      "  9.10208788e-04 1.03931128e-03 1.17467880e-03 1.31420010e-03\n",
      "  1.45536772e-03 1.59533853e-03 1.73101905e-03 1.85917263e-03\n",
      "  1.97654389e-03 2.07999401e-03 2.16663912e-03 2.23398346e-03\n",
      "  2.28003861e-03 2.30342102e-03 2.30342102e-03 2.28003861e-03\n",
      "  2.23398346e-03 2.16663912e-03 2.07999401e-03 1.97654389e-03\n",
      "  1.85917263e-03 1.73101905e-03 1.59533853e-03 1.45536772e-03\n",
      "  1.31420010e-03 1.17467880e-03 1.03931128e-03 9.10208788e-04\n",
      "  7.89051384e-04 6.77077564e-04 5.75096118e-04 4.83516528e-04\n",
      "  4.02393623e-04 3.31481831e-04 2.70294523e-04 2.18164276e-04\n",
      "  1.74300609e-04 1.37842471e-04 1.07903633e-04 8.36099500e-05\n",
      "  6.41281535e-05 4.86864806e-05 3.65878512e-05 2.72166271e-05\n",
      "  2.00401320e-05 1.46061490e-05 1.05375525e-05 7.52510657e-06\n",
      "  5.31929936e-06 3.72190330e-06 2.57777267e-06 1.76722977e-06\n",
      "  1.19925158e-06 8.05557336e-07 5.35613469e-07 3.52513211e-07\n",
      "  2.29650916e-07 1.48091401e-07 9.45279799e-08 5.97254992e-08\n",
      "  3.73532226e-08 2.31241213e-08 1.41700466e-08 8.59500616e-09]\n",
      " [6.01390891e-09 9.91475372e-09 1.61799022e-08 2.61359764e-08\n",
      "  4.17898144e-08 6.61410417e-08 1.03619262e-07 1.60686294e-07\n",
      "  2.46652801e-07 3.74767691e-07 5.63646884e-07 8.39113975e-07\n",
      "  1.23652720e-06 1.80366247e-06 2.60420842e-06 3.72190330e-06\n",
      "  5.26530227e-06 7.37310479e-06 1.02198937e-05 1.40220409e-05\n",
      "  1.90434205e-05 2.56004475e-05 3.40658347e-05 4.48703429e-05\n",
      "  5.85017176e-05 7.54999601e-05 9.64481057e-05 1.21957794e-04\n",
      "  1.52649115e-04 1.89124546e-04 2.31937186e-04 2.81554026e-04\n",
      "  3.38315564e-04 4.02393623e-04 4.73749840e-04 5.52097701e-04\n",
      "  6.36871299e-04 7.27204055e-04 8.21920443e-04 9.19543224e-04\n",
      "  1.01831793e-03 1.11625523e-03 1.21119063e-03 1.30085943e-03\n",
      "  1.38298387e-03 1.45536772e-03 1.51599313e-03 1.56311383e-03\n",
      "  1.59533853e-03 1.61169916e-03 1.61169916e-03 1.59533853e-03\n",
      "  1.56311383e-03 1.51599313e-03 1.45536772e-03 1.38298387e-03\n",
      "  1.30085943e-03 1.21119063e-03 1.11625523e-03 1.01831793e-03\n",
      "  9.19543224e-04 8.21920443e-04 7.27204055e-04 6.36871299e-04\n",
      "  5.52097701e-04 4.73749840e-04 4.02393623e-04 3.38315564e-04\n",
      "  2.81554026e-04 2.31937186e-04 1.89124546e-04 1.52649115e-04\n",
      "  1.21957794e-04 9.64481057e-05 7.54999601e-05 5.85017176e-05\n",
      "  4.48703429e-05 3.40658347e-05 2.56004475e-05 1.90434205e-05\n",
      "  1.40220409e-05 1.02198937e-05 7.37310479e-06 5.26530227e-06\n",
      "  3.72190330e-06 2.60420842e-06 1.80366247e-06 1.23652720e-06\n",
      "  8.39113975e-07 5.63646884e-07 3.74767691e-07 2.46652801e-07\n",
      "  1.60686294e-07 1.03619262e-07 6.61410417e-08 4.17898144e-08\n",
      "  2.61359764e-08 1.61799022e-08 9.91475372e-09 6.01390891e-09]\n",
      " [4.16520494e-09 6.86691166e-09 1.12061239e-08 1.81016540e-08\n",
      "  2.89434283e-08 4.58089734e-08 7.17662121e-08 1.11290569e-07\n",
      "  1.70830566e-07 2.59562335e-07 3.90379173e-07 5.81166380e-07\n",
      "  8.56412904e-07 1.24920812e-06 1.80366247e-06 2.57777267e-06\n",
      "  3.64672351e-06 5.10657760e-06 7.07825020e-06 9.71159940e-06\n",
      "  1.31893832e-05 1.77307492e-05 2.35938364e-05 3.10769878e-05\n",
      "  4.05180136e-05 5.22909162e-05 6.67995030e-05 8.44673925e-05\n",
      "  1.05724057e-04 1.30986769e-04 1.60638601e-04 1.95002990e-04\n",
      "  2.34315764e-04 2.78695925e-04 3.28116904e-04 3.82380263e-04\n",
      "  4.41094057e-04 5.03658098e-04 5.69258221e-04 6.36871299e-04\n",
      "  7.05282194e-04 7.73113109e-04 8.38864915e-04 9.00969108e-04\n",
      "  9.57848107e-04 1.00798082e-03 1.04996969e-03 1.08260527e-03\n",
      "  1.10492394e-03 1.11625523e-03 1.11625523e-03 1.10492394e-03\n",
      "  1.08260527e-03 1.04996969e-03 1.00798082e-03 9.57848107e-04\n",
      "  9.00969108e-04 8.38864915e-04 7.73113109e-04 7.05282194e-04\n",
      "  6.36871299e-04 5.69258221e-04 5.03658098e-04 4.41094057e-04\n",
      "  3.82380263e-04 3.28116904e-04 2.78695925e-04 2.34315764e-04\n",
      "  1.95002990e-04 1.60638601e-04 1.30986769e-04 1.05724057e-04\n",
      "  8.44673925e-05 6.67995030e-05 5.22909162e-05 4.05180136e-05\n",
      "  3.10769878e-05 2.35938364e-05 1.77307492e-05 1.31893832e-05\n",
      "  9.71159940e-06 7.07825020e-06 5.10657760e-06 3.64672351e-06\n",
      "  2.57777267e-06 1.80366247e-06 1.24920812e-06 8.56412904e-07\n",
      "  5.81166380e-07 3.90379173e-07 2.59562335e-07 1.70830566e-07\n",
      "  1.11290569e-07 7.17662121e-08 4.58089734e-08 2.89434283e-08\n",
      "  1.81016540e-08 1.12061239e-08 6.86691166e-09 4.16520494e-09]\n",
      " [2.85551720e-09 4.70771177e-09 7.68252224e-09 1.24098537e-08\n",
      "  1.98425908e-08 3.14050121e-08 4.92003768e-08 7.62968783e-08\n",
      "  1.17115394e-07 1.77946757e-07 2.67630154e-07 3.98427116e-07\n",
      "  5.87126398e-07 8.56412904e-07 1.23652720e-06 1.76722977e-06\n",
      "  2.50006467e-06 3.50088900e-06 4.85259800e-06 6.65792908e-06\n",
      "  9.04217463e-06 1.21555746e-05 1.61750998e-05 2.13052837e-05\n",
      "  2.77777171e-05 3.58488027e-05 4.57953768e-05 5.79078570e-05\n",
      "  7.24806743e-05 8.97998959e-05 1.10128143e-04 1.33687154e-04\n",
      "  1.60638601e-04 1.91064069e-04 2.24945345e-04 2.62146385e-04\n",
      "  3.02398485e-04 3.45290179e-04 3.90263304e-04 4.36616438e-04\n",
      "  4.83516528e-04 5.30019005e-04 5.75096118e-04 6.17672555e-04\n",
      "  6.56666786e-04 6.91035997e-04 7.19822086e-04 7.42195882e-04\n",
      "  7.57496776e-04 7.65265109e-04 7.65265109e-04 7.57496776e-04\n",
      "  7.42195882e-04 7.19822086e-04 6.91035997e-04 6.56666786e-04\n",
      "  6.17672555e-04 5.75096118e-04 5.30019005e-04 4.83516528e-04\n",
      "  4.36616438e-04 3.90263304e-04 3.45290179e-04 3.02398485e-04\n",
      "  2.62146385e-04 2.24945345e-04 1.91064069e-04 1.60638601e-04\n",
      "  1.33687154e-04 1.10128143e-04 8.97998959e-05 7.24806743e-05\n",
      "  5.79078570e-05 4.57953768e-05 3.58488027e-05 2.77777171e-05\n",
      "  2.13052837e-05 1.61750998e-05 1.21555746e-05 9.04217463e-06\n",
      "  6.65792908e-06 4.85259800e-06 3.50088900e-06 2.50006467e-06\n",
      "  1.76722977e-06 1.23652720e-06 8.56412904e-07 5.87126398e-07\n",
      "  3.98427116e-07 2.67630154e-07 1.77946757e-07 1.17115394e-07\n",
      "  7.62968783e-08 4.92003768e-08 3.14050121e-08 1.98425908e-08\n",
      "  1.24098537e-08 7.68252224e-09 4.70771177e-09 2.85551720e-09]\n",
      " [1.93776925e-09 3.19467840e-09 5.21340071e-09 8.42139317e-09\n",
      "  1.34652883e-08 2.13116093e-08 3.33876390e-08 5.17754700e-08\n",
      "  7.94751335e-08 1.20755622e-07 1.81615255e-07 2.70374774e-07\n",
      "  3.98427116e-07 5.81166380e-07 8.39113975e-07 1.19925158e-06\n",
      "  1.69655726e-06 2.37572201e-06 3.29299897e-06 4.51810631e-06\n",
      "  6.13606810e-06 8.24883796e-06 1.09765093e-05 1.44578796e-05\n",
      "  1.88501075e-05 2.43271894e-05 3.10769878e-05 3.92965817e-05\n",
      "  4.91857735e-05 6.09386900e-05 7.47335474e-05 9.07208180e-05\n",
      "  1.09010214e-04 1.29657100e-04 1.52649115e-04 1.77893940e-04\n",
      "  2.05209231e-04 2.34315764e-04 2.64834767e-04 2.96290252e-04\n",
      "  3.28116904e-04 3.59673733e-04 3.90263304e-04 4.19155902e-04\n",
      "  4.45617596e-04 4.68940727e-04 4.88475121e-04 5.03658098e-04\n",
      "  5.14041367e-04 5.19312999e-04 5.19312999e-04 5.14041367e-04\n",
      "  5.03658098e-04 4.88475121e-04 4.68940727e-04 4.45617596e-04\n",
      "  4.19155902e-04 3.90263304e-04 3.59673733e-04 3.28116904e-04\n",
      "  2.96290252e-04 2.64834767e-04 2.34315764e-04 2.05209231e-04\n",
      "  1.77893940e-04 1.52649115e-04 1.29657100e-04 1.09010214e-04\n",
      "  9.07208180e-05 7.47335474e-05 6.09386900e-05 4.91857735e-05\n",
      "  3.92965817e-05 3.10769878e-05 2.43271894e-05 1.88501075e-05\n",
      "  1.44578796e-05 1.09765093e-05 8.24883796e-06 6.13606810e-06\n",
      "  4.51810631e-06 3.29299897e-06 2.37572201e-06 1.69655726e-06\n",
      "  1.19925158e-06 8.39113975e-07 5.81166380e-07 3.98427116e-07\n",
      "  2.70374774e-07 1.81615255e-07 1.20755622e-07 7.94751335e-08\n",
      "  5.17754700e-08 3.33876390e-08 2.13116093e-08 1.34652883e-08\n",
      "  8.42139317e-09 5.21340071e-09 3.19467840e-09 1.93776925e-09]\n",
      " [1.30163200e-09 2.14591889e-09 3.50192841e-09 5.65679057e-09\n",
      "  9.04485926e-09 1.43153642e-08 2.24270353e-08 3.47784487e-08\n",
      "  5.33847757e-08 8.11135697e-08 1.21994003e-07 1.81615255e-07\n",
      "  2.67630154e-07 3.90379173e-07 5.63646884e-07 8.05557336e-07\n",
      "  1.13960588e-06 1.59581219e-06 2.21196246e-06 3.03488753e-06\n",
      "  4.12169952e-06 5.54088235e-06 7.37310479e-06 9.71159940e-06\n",
      "  1.26619323e-05 1.63409798e-05 2.08749322e-05 2.63961708e-05\n",
      "  3.30389063e-05 4.09335368e-05 5.01997731e-05 6.09386900e-05\n",
      "  7.32239831e-05 8.70928416e-05 1.02536962e-04 1.19494333e-04\n",
      "  1.37842471e-04 1.57393816e-04 1.77893940e-04 1.99023115e-04\n",
      "  2.20401610e-04 2.41598859e-04 2.62146385e-04 2.81554026e-04\n",
      "  2.99328788e-04 3.14995325e-04 3.28116904e-04 3.38315564e-04\n",
      "  3.45290179e-04 3.48831223e-04 3.48831223e-04 3.45290179e-04\n",
      "  3.38315564e-04 3.28116904e-04 3.14995325e-04 2.99328788e-04\n",
      "  2.81554026e-04 2.62146385e-04 2.41598859e-04 2.20401610e-04\n",
      "  1.99023115e-04 1.77893940e-04 1.57393816e-04 1.37842471e-04\n",
      "  1.19494333e-04 1.02536962e-04 8.70928416e-05 7.32239831e-05\n",
      "  6.09386900e-05 5.01997731e-05 4.09335368e-05 3.30389063e-05\n",
      "  2.63961708e-05 2.08749322e-05 1.63409798e-05 1.26619323e-05\n",
      "  9.71159940e-06 7.37310479e-06 5.54088235e-06 4.12169952e-06\n",
      "  3.03488753e-06 2.21196246e-06 1.59581219e-06 1.13960588e-06\n",
      "  8.05557336e-07 5.63646884e-07 3.90379173e-07 2.67630154e-07\n",
      "  1.81615255e-07 1.21994003e-07 8.11135697e-08 5.33847757e-08\n",
      "  3.47784487e-08 2.24270353e-08 1.43153642e-08 9.04485926e-09\n",
      "  5.65679057e-09 3.50192841e-09 2.14591889e-09 1.30163200e-09]\n",
      " [8.65452525e-10 1.42681720e-09 2.32842523e-09 3.76118879e-09\n",
      "  6.01390891e-09 9.51825716e-09 1.49116911e-08 2.31241213e-08\n",
      "  3.54954311e-08 5.39322510e-08 8.11135697e-08 1.20755622e-07\n",
      "  1.77946757e-07 2.59562335e-07 3.74767691e-07 5.35613469e-07\n",
      "  7.57721677e-07 1.06105235e-06 1.47072943e-06 2.01789068e-06\n",
      "  2.74050980e-06 3.68412164e-06 4.90236270e-06 6.45722310e-06\n",
      "  8.41889360e-06 1.08650849e-05 1.38797009e-05 1.75507614e-05\n",
      "  2.19675030e-05 2.72166271e-05 3.33777292e-05 4.05180136e-05\n",
      "  4.86864806e-05 5.79078570e-05 6.81766221e-05 7.94515443e-05\n",
      "  9.16511844e-05 1.04650835e-04 1.18281326e-04 1.32330073e-04\n",
      "  1.46544591e-04 1.60638601e-04 1.74300609e-04 1.87204712e-04\n",
      "  1.99023115e-04 2.09439765e-04 2.18164276e-04 2.24945345e-04\n",
      "  2.29582753e-04 2.31937186e-04 2.31937186e-04 2.29582753e-04\n",
      "  2.24945345e-04 2.18164276e-04 2.09439765e-04 1.99023115e-04\n",
      "  1.87204712e-04 1.74300609e-04 1.60638601e-04 1.46544591e-04\n",
      "  1.32330073e-04 1.18281326e-04 1.04650835e-04 9.16511844e-05\n",
      "  7.94515443e-05 6.81766221e-05 5.79078570e-05 4.86864806e-05\n",
      "  4.05180136e-05 3.33777292e-05 2.72166271e-05 2.19675030e-05\n",
      "  1.75507614e-05 1.38797009e-05 1.08650849e-05 8.41889360e-06\n",
      "  6.45722310e-06 4.90236270e-06 3.68412164e-06 2.74050980e-06\n",
      "  2.01789068e-06 1.47072943e-06 1.06105235e-06 7.57721677e-07\n",
      "  5.35613469e-07 3.74767691e-07 2.59562335e-07 1.77946757e-07\n",
      "  1.20755622e-07 8.11135697e-08 5.39322510e-08 3.54954311e-08\n",
      "  2.31241213e-08 1.49116911e-08 9.51825716e-09 6.01390891e-09\n",
      "  3.76118879e-09 2.32842523e-09 1.42681720e-09 8.65452525e-10]\n",
      " [5.69596298e-10 9.39057624e-10 1.53244961e-09 2.47542083e-09\n",
      "  3.95804524e-09 6.26442685e-09 9.81410741e-09 1.52191062e-08\n",
      "  2.33612654e-08 3.54954311e-08 5.33847757e-08 7.94751335e-08\n",
      "  1.17115394e-07 1.70830566e-07 2.46652801e-07 3.52513211e-07\n",
      "  4.98693400e-07 6.98330030e-07 9.67958399e-07 1.32807176e-06\n",
      "  1.80366247e-06 2.42469920e-06 3.22648275e-06 4.24981182e-06\n",
      "  5.54088235e-06 7.15083956e-06 9.13490456e-06 1.15510076e-05\n",
      "  1.44578796e-05 1.79125828e-05 2.19675030e-05 2.66668707e-05\n",
      "  3.20429351e-05 3.81119703e-05 4.48703429e-05 5.22909162e-05\n",
      "  6.03200912e-05 6.88757917e-05 7.78466798e-05 8.70928416e-05\n",
      "  9.64481057e-05 1.05724057e-04 1.14715688e-04 1.23208504e-04\n",
      "  1.30986769e-04 1.37842471e-04 1.43584495e-04 1.48047446e-04\n",
      "  1.51099549e-04 1.52649115e-04 1.52649115e-04 1.51099549e-04\n",
      "  1.48047446e-04 1.43584495e-04 1.37842471e-04 1.30986769e-04\n",
      "  1.23208504e-04 1.14715688e-04 1.05724057e-04 9.64481057e-05\n",
      "  8.70928416e-05 7.78466798e-05 6.88757917e-05 6.03200912e-05\n",
      "  5.22909162e-05 4.48703429e-05 3.81119703e-05 3.20429351e-05\n",
      "  2.66668707e-05 2.19675030e-05 1.79125828e-05 1.44578796e-05\n",
      "  1.15510076e-05 9.13490456e-06 7.15083956e-06 5.54088235e-06\n",
      "  4.24981182e-06 3.22648275e-06 2.42469920e-06 1.80366247e-06\n",
      "  1.32807176e-06 9.67958399e-07 6.98330030e-07 4.98693400e-07\n",
      "  3.52513211e-07 2.46652801e-07 1.70830566e-07 1.17115394e-07\n",
      "  7.94751335e-08 5.33847757e-08 3.54954311e-08 2.33612654e-08\n",
      "  1.52191062e-08 9.81410741e-09 6.26442685e-09 3.95804524e-09\n",
      "  2.47542083e-09 1.53244961e-09 9.39057624e-10 5.69596298e-10]\n",
      " [3.71073501e-10 6.11765564e-10 9.98341186e-10 1.61265633e-09\n",
      "  2.57853801e-09 4.08107077e-09 6.39357245e-09 9.91475372e-09\n",
      "  1.52191062e-08 2.31241213e-08 3.47784487e-08 5.17754700e-08\n",
      "  7.62968783e-08 1.11290569e-07 1.60686294e-07 2.29650916e-07\n",
      "  3.24882564e-07 4.54939350e-07 6.30593481e-07 8.65195648e-07\n",
      "  1.17502756e-06 1.57961283e-06 2.10194879e-06 2.76861447e-06\n",
      "  3.60970502e-06 4.65853988e-06 5.95109384e-06 7.52510657e-06\n",
      "  9.41883930e-06 1.16694663e-05 1.43111152e-05 1.73726007e-05\n",
      "  2.08749322e-05 2.48287117e-05 2.92315721e-05 3.40658347e-05\n",
      "  3.92965817e-05 4.48703429e-05 5.07145853e-05 5.67381596e-05\n",
      "  6.28328106e-05 6.88757917e-05 7.47335474e-05 8.02663412e-05\n",
      "  8.53336284e-05 8.97998959e-05 9.35406385e-05 9.64481057e-05\n",
      "  9.84364518e-05 9.94459441e-05 9.94459441e-05 9.84364518e-05\n",
      "  9.64481057e-05 9.35406385e-05 8.97998959e-05 8.53336284e-05\n",
      "  8.02663412e-05 7.47335474e-05 6.88757917e-05 6.28328106e-05\n",
      "  5.67381596e-05 5.07145853e-05 4.48703429e-05 3.92965817e-05\n",
      "  3.40658347e-05 2.92315721e-05 2.48287117e-05 2.08749322e-05\n",
      "  1.73726007e-05 1.43111152e-05 1.16694663e-05 9.41883930e-06\n",
      "  7.52510657e-06 5.95109384e-06 4.65853988e-06 3.60970502e-06\n",
      "  2.76861447e-06 2.10194879e-06 1.57961283e-06 1.17502756e-06\n",
      "  8.65195648e-07 6.30593481e-07 4.54939350e-07 3.24882564e-07\n",
      "  2.29650916e-07 1.60686294e-07 1.11290569e-07 7.62968783e-08\n",
      "  5.17754700e-08 3.47784487e-08 2.31241213e-08 1.52191062e-08\n",
      "  9.91475372e-09 6.39357245e-09 4.08107077e-09 2.57853801e-09\n",
      "  1.61265633e-09 9.98341186e-10 6.11765564e-10 3.71073501e-10]\n",
      " [2.39288376e-10 3.94499709e-10 6.43784695e-10 1.03992851e-09\n",
      "  1.66278155e-09 2.63169640e-09 4.12292325e-09 6.39357245e-09\n",
      "  9.81410741e-09 1.49116911e-08 2.24270353e-08 3.33876390e-08\n",
      "  4.92003768e-08 7.17662121e-08 1.03619262e-07 1.48091401e-07\n",
      "  2.09501947e-07 2.93369636e-07 4.06640973e-07 5.57925211e-07\n",
      "  7.57721677e-07 1.01862027e-06 1.35545090e-06 1.78535319e-06\n",
      "  2.32773412e-06 3.00407989e-06 3.83758898e-06 4.85259800e-06\n",
      "  6.07377986e-06 7.52510657e-06 9.22858547e-06 1.12027978e-05\n",
      "  1.34612916e-05 1.60109037e-05 1.88501075e-05 2.19675030e-05\n",
      "  2.53405732e-05 2.89348375e-05 3.27035229e-05 3.65878512e-05\n",
      "  4.05180136e-05 4.44148566e-05 4.81922560e-05 5.17601024e-05\n",
      "  5.50277648e-05 5.79078570e-05 6.03200912e-05 6.21949843e-05\n",
      "  6.34771779e-05 6.41281535e-05 6.41281535e-05 6.34771779e-05\n",
      "  6.21949843e-05 6.03200912e-05 5.79078570e-05 5.50277648e-05\n",
      "  5.17601024e-05 4.81922560e-05 4.44148566e-05 4.05180136e-05\n",
      "  3.65878512e-05 3.27035229e-05 2.89348375e-05 2.53405732e-05\n",
      "  2.19675030e-05 1.88501075e-05 1.60109037e-05 1.34612916e-05\n",
      "  1.12027978e-05 9.22858547e-06 7.52510657e-06 6.07377986e-06\n",
      "  4.85259800e-06 3.83758898e-06 3.00407989e-06 2.32773412e-06\n",
      "  1.78535319e-06 1.35545090e-06 1.01862027e-06 7.57721677e-07\n",
      "  5.57925211e-07 4.06640973e-07 2.93369636e-07 2.09501947e-07\n",
      "  1.48091401e-07 1.03619262e-07 7.17662121e-08 4.92003768e-08\n",
      "  3.33876390e-08 2.24270353e-08 1.49116911e-08 9.81410741e-09\n",
      "  6.39357245e-09 4.12292325e-09 2.63169640e-09 1.66278155e-09\n",
      "  1.03992851e-09 6.43784695e-10 3.94499709e-10 2.39288376e-10]\n",
      " [1.52739772e-10 2.51812464e-10 4.10933156e-10 6.63795067e-10\n",
      "  1.06136737e-09 1.67983382e-09 2.63169640e-09 4.08107077e-09\n",
      "  6.26442685e-09 9.51825716e-09 1.43153642e-08 2.13116093e-08\n",
      "  3.14050121e-08 4.58089734e-08 6.61410417e-08 9.45279799e-08\n",
      "  1.33726845e-07 1.87260293e-07 2.59562335e-07 3.56128329e-07\n",
      "  4.83660085e-07 6.50193838e-07 8.65195648e-07 1.13960588e-06\n",
      "  1.48581216e-06 1.91752932e-06 2.44956515e-06 3.09745389e-06\n",
      "  3.87694449e-06 4.80333847e-06 5.89068330e-06 7.15083956e-06\n",
      "  8.59245506e-06 1.02198937e-05 1.20321813e-05 1.40220409e-05\n",
      "  1.61750998e-05 1.84693488e-05 2.08749322e-05 2.33543315e-05\n",
      "  2.58629870e-05 2.83503745e-05 3.07615201e-05 3.30389063e-05\n",
      "  3.51246825e-05 3.69630695e-05 3.85028188e-05 3.96995787e-05\n",
      "  4.05180136e-05 4.09335368e-05 4.09335368e-05 4.05180136e-05\n",
      "  3.96995787e-05 3.85028188e-05 3.69630695e-05 3.51246825e-05\n",
      "  3.30389063e-05 3.07615201e-05 2.83503745e-05 2.58629870e-05\n",
      "  2.33543315e-05 2.08749322e-05 1.84693488e-05 1.61750998e-05\n",
      "  1.40220409e-05 1.20321813e-05 1.02198937e-05 8.59245506e-06\n",
      "  7.15083956e-06 5.89068330e-06 4.80333847e-06 3.87694449e-06\n",
      "  3.09745389e-06 2.44956515e-06 1.91752932e-06 1.48581216e-06\n",
      "  1.13960588e-06 8.65195648e-07 6.50193838e-07 4.83660085e-07\n",
      "  3.56128329e-07 2.59562335e-07 1.87260293e-07 1.33726845e-07\n",
      "  9.45279799e-08 6.61410417e-08 4.58089734e-08 3.14050121e-08\n",
      "  2.13116093e-08 1.43153642e-08 9.51825716e-09 6.26442685e-09\n",
      "  4.08107077e-09 2.63169640e-09 1.67983382e-09 1.06136737e-09\n",
      "  6.63795067e-10 4.10933156e-10 2.51812464e-10 1.52739772e-10]\n",
      " [9.65053852e-11 1.59102364e-10 2.59639399e-10 4.19404834e-10\n",
      "  6.70602464e-10 1.06136737e-09 1.66278155e-09 2.57853801e-09\n",
      "  3.95804524e-09 6.01390891e-09 9.04485926e-09 1.34652883e-08\n",
      "  1.98425908e-08 2.89434283e-08 4.17898144e-08 5.97254992e-08\n",
      "  8.44924709e-08 1.18316444e-07 1.63998956e-07 2.25012131e-07\n",
      "  3.05590366e-07 4.10811186e-07 5.46655520e-07 7.20035802e-07\n",
      "  9.38778900e-07 1.21155023e-06 1.54770578e-06 1.95706055e-06\n",
      "  2.44956515e-06 3.03488753e-06 3.72190330e-06 4.51810631e-06\n",
      "  5.42896049e-06 6.45722310e-06 7.60227856e-06 8.85952916e-06\n",
      "  1.02198937e-05 1.16694663e-05 1.31893832e-05 1.47559390e-05\n",
      "  1.63409798e-05 1.79125828e-05 1.94360141e-05 2.08749322e-05\n",
      "  2.21927857e-05 2.33543315e-05 2.43271894e-05 2.50833368e-05\n",
      "  2.56004475e-05 2.58629870e-05 2.58629870e-05 2.56004475e-05\n",
      "  2.50833368e-05 2.43271894e-05 2.33543315e-05 2.21927857e-05\n",
      "  2.08749322e-05 1.94360141e-05 1.79125828e-05 1.63409798e-05\n",
      "  1.47559390e-05 1.31893832e-05 1.16694663e-05 1.02198937e-05\n",
      "  8.85952916e-06 7.60227856e-06 6.45722310e-06 5.42896049e-06\n",
      "  4.51810631e-06 3.72190330e-06 3.03488753e-06 2.44956515e-06\n",
      "  1.95706055e-06 1.54770578e-06 1.21155023e-06 9.38778900e-07\n",
      "  7.20035802e-07 5.46655520e-07 4.10811186e-07 3.05590366e-07\n",
      "  2.25012131e-07 1.63998956e-07 1.18316444e-07 8.44924709e-08\n",
      "  5.97254992e-08 4.17898144e-08 2.89434283e-08 1.98425908e-08\n",
      "  1.34652883e-08 9.04485926e-09 6.01390891e-09 3.95804524e-09\n",
      "  2.57853801e-09 1.66278155e-09 1.06136737e-09 6.70602464e-10\n",
      "  4.19404834e-10 2.59639399e-10 1.59102364e-10 9.65053852e-11]\n",
      " [6.03559147e-11 9.95050039e-11 1.62382372e-10 2.62302071e-10\n",
      "  4.19404834e-10 6.63795067e-10 1.03992851e-09 1.61265633e-09\n",
      "  2.47542083e-09 3.76118879e-09 5.65679057e-09 8.42139317e-09\n",
      "  1.24098537e-08 1.81016540e-08 2.61359764e-08 3.73532226e-08\n",
      "  5.28428580e-08 7.39968780e-08 1.02567406e-07 1.40725960e-07\n",
      "  1.91120796e-07 2.56927474e-07 3.41886557e-07 4.50321185e-07\n",
      "  5.87126398e-07 7.57721677e-07 9.67958399e-07 1.22397500e-06\n",
      "  1.53199476e-06 1.89806416e-06 2.32773412e-06 2.82569142e-06\n",
      "  3.39535328e-06 4.03844413e-06 4.75457898e-06 5.54088235e-06\n",
      "  6.39167476e-06 7.29825918e-06 8.24883796e-06 9.22858547e-06\n",
      "  1.02198937e-05 1.12027978e-05 1.21555746e-05 1.30554956e-05\n",
      "  1.38797009e-05 1.46061490e-05 1.52145890e-05 1.56874949e-05\n",
      "  1.60109037e-05 1.61750998e-05 1.61750998e-05 1.60109037e-05\n",
      "  1.56874949e-05 1.52145890e-05 1.46061490e-05 1.38797009e-05\n",
      "  1.30554956e-05 1.21555746e-05 1.12027978e-05 1.02198937e-05\n",
      "  9.22858547e-06 8.24883796e-06 7.29825918e-06 6.39167476e-06\n",
      "  5.54088235e-06 4.75457898e-06 4.03844413e-06 3.39535328e-06\n",
      "  2.82569142e-06 2.32773412e-06 1.89806416e-06 1.53199476e-06\n",
      "  1.22397500e-06 9.67958399e-07 7.57721677e-07 5.87126398e-07\n",
      "  4.50321185e-07 3.41886557e-07 2.56927474e-07 1.91120796e-07\n",
      "  1.40725960e-07 1.02567406e-07 7.39968780e-08 5.28428580e-08\n",
      "  3.73532226e-08 2.61359764e-08 1.81016540e-08 1.24098537e-08\n",
      "  8.42139317e-09 5.65679057e-09 3.76118879e-09 2.47542083e-09\n",
      "  1.61265633e-09 1.03992851e-09 6.63795067e-10 4.19404834e-10\n",
      "  2.62302071e-10 1.62382372e-10 9.95050039e-11 6.03559147e-11]\n",
      " [3.73643128e-11 6.16001946e-11 1.00525455e-10 1.62382372e-10\n",
      "  2.59639399e-10 4.10933156e-10 6.43784695e-10 9.98341186e-10\n",
      "  1.53244961e-09 2.32842523e-09 3.50192841e-09 5.21340071e-09\n",
      "  7.68252224e-09 1.12061239e-08 1.61799022e-08 2.31241213e-08\n",
      "  3.27132326e-08 4.58089734e-08 6.34960243e-08 8.71186995e-08\n",
      "  1.18316444e-07 1.59055141e-07 2.11650446e-07 2.78778670e-07\n",
      "  3.63470167e-07 4.69079955e-07 5.99230425e-07 7.57721677e-07\n",
      "  9.48406330e-07 1.17502756e-06 1.44102175e-06 1.74929033e-06\n",
      "  2.10194879e-06 2.50006467e-06 2.94339962e-06 3.43017354e-06\n",
      "  3.95687044e-06 4.51810631e-06 5.10657760e-06 5.71310626e-06\n",
      "  6.32679181e-06 6.93527460e-06 7.52510657e-06 8.08221733e-06\n",
      "  8.59245506e-06 9.04217463e-06 9.41883930e-06 9.71159940e-06\n",
      "  9.91181090e-06 1.00134592e-05 1.00134592e-05 9.91181090e-06\n",
      "  9.71159940e-06 9.41883930e-06 9.04217463e-06 8.59245506e-06\n",
      "  8.08221733e-06 7.52510657e-06 6.93527460e-06 6.32679181e-06\n",
      "  5.71310626e-06 5.10657760e-06 4.51810631e-06 3.95687044e-06\n",
      "  3.43017354e-06 2.94339962e-06 2.50006467e-06 2.10194879e-06\n",
      "  1.74929033e-06 1.44102175e-06 1.17502756e-06 9.48406330e-07\n",
      "  7.57721677e-07 5.99230425e-07 4.69079955e-07 3.63470167e-07\n",
      "  2.78778670e-07 2.11650446e-07 1.59055141e-07 1.18316444e-07\n",
      "  8.71186995e-08 6.34960243e-08 4.58089734e-08 3.27132326e-08\n",
      "  2.31241213e-08 1.61799022e-08 1.12061239e-08 7.68252224e-09\n",
      "  5.21340071e-09 3.50192841e-09 2.32842523e-09 1.53244961e-09\n",
      "  9.98341186e-10 6.43784695e-10 4.10933156e-10 2.59639399e-10\n",
      "  1.62382372e-10 1.00525455e-10 6.16001946e-11 3.73643128e-11]\n",
      " [2.28961804e-11 3.77474939e-11 6.16001946e-11 9.95050039e-11\n",
      "  1.59102364e-10 2.51812464e-10 3.94499709e-10 6.11765564e-10\n",
      "  9.39057624e-10 1.42681720e-09 2.14591889e-09 3.19467840e-09\n",
      "  4.70771177e-09 6.86691166e-09 9.91475372e-09 1.41700466e-08\n",
      "  2.00460819e-08 2.80709169e-08 3.89092243e-08 5.33847757e-08\n",
      "  7.25021939e-08 9.74661362e-08 1.29695595e-07 1.70830566e-07\n",
      "  2.22727996e-07 2.87443779e-07 3.67197651e-07 4.64318247e-07\n",
      "  5.81166380e-07 7.20035802e-07 8.83032270e-07 1.07193372e-06\n",
      "  1.28803650e-06 1.53199476e-06 1.80366247e-06 2.10194879e-06\n",
      "  2.42469920e-06 2.76861447e-06 3.12921911e-06 3.50088900e-06\n",
      "  3.87694449e-06 4.24981182e-06 4.61125027e-06 4.95263774e-06\n",
      "  5.26530227e-06 5.54088235e-06 5.77169570e-06 5.95109384e-06\n",
      "  6.07377986e-06 6.13606810e-06 6.13606810e-06 6.07377986e-06\n",
      "  5.95109384e-06 5.77169570e-06 5.54088235e-06 5.26530227e-06\n",
      "  4.95263774e-06 4.61125027e-06 4.24981182e-06 3.87694449e-06\n",
      "  3.50088900e-06 3.12921911e-06 2.76861447e-06 2.42469920e-06\n",
      "  2.10194879e-06 1.80366247e-06 1.53199476e-06 1.28803650e-06\n",
      "  1.07193372e-06 8.83032270e-07 7.20035802e-07 5.81166380e-07\n",
      "  4.64318247e-07 3.67197651e-07 2.87443779e-07 2.22727996e-07\n",
      "  1.70830566e-07 1.29695595e-07 9.74661362e-08 7.25021939e-08\n",
      "  5.33847757e-08 3.89092243e-08 2.80709169e-08 2.00460819e-08\n",
      "  1.41700466e-08 9.91475372e-09 6.86691166e-09 4.70771177e-09\n",
      "  3.19467840e-09 2.14591889e-09 1.42681720e-09 9.39057624e-10\n",
      "  6.11765564e-10 3.94499709e-10 2.51812464e-10 1.59102364e-10\n",
      "  9.95050039e-11 6.16001946e-11 3.77474939e-11 2.28961804e-11]\n",
      " [1.38879439e-11 2.28961804e-11 3.73643128e-11 6.03559147e-11\n",
      "  9.65053852e-11 1.52739772e-10 2.39288376e-10 3.71073501e-10\n",
      "  5.69596298e-10 8.65452525e-10 1.30163200e-09 1.93776925e-09\n",
      "  2.85551720e-09 4.16520494e-09 6.01390891e-09 8.59500616e-09\n",
      "  1.21591836e-08 1.70267403e-08 2.36008414e-08 3.23811551e-08\n",
      "  4.39770469e-08 5.91192158e-08 7.86683682e-08 1.03619262e-07\n",
      "  1.35098250e-07 1.74352359e-07 2.22727996e-07 2.81637620e-07\n",
      "  3.52513211e-07 4.36746070e-07 5.35613469e-07 6.50193838e-07\n",
      "  7.81273483e-07 9.29249200e-07 1.09403240e-06 1.27496143e-06\n",
      "  1.47072943e-06 1.67933523e-06 1.89806416e-06 2.12350484e-06\n",
      "  2.35160566e-06 2.57777267e-06 2.79700735e-06 3.00407989e-06\n",
      "  3.19373018e-06 3.36088648e-06 3.50088900e-06 3.60970502e-06\n",
      "  3.68412164e-06 3.72190330e-06 3.72190330e-06 3.68412164e-06\n",
      "  3.60970502e-06 3.50088900e-06 3.36088648e-06 3.19373018e-06\n",
      "  3.00407989e-06 2.79700735e-06 2.57777267e-06 2.35160566e-06\n",
      "  2.12350484e-06 1.89806416e-06 1.67933523e-06 1.47072943e-06\n",
      "  1.27496143e-06 1.09403240e-06 9.29249200e-07 7.81273483e-07\n",
      "  6.50193838e-07 5.35613469e-07 4.36746070e-07 3.52513211e-07\n",
      "  2.81637620e-07 2.22727996e-07 1.74352359e-07 1.35098250e-07\n",
      "  1.03619262e-07 7.86683682e-08 5.91192158e-08 4.39770469e-08\n",
      "  3.23811551e-08 2.36008414e-08 1.70267403e-08 1.21591836e-08\n",
      "  8.59500616e-09 6.01390891e-09 4.16520494e-09 2.85551720e-09\n",
      "  1.93776925e-09 1.30163200e-09 8.65452525e-10 5.69596298e-10\n",
      "  3.71073501e-10 2.39288376e-10 1.52739772e-10 9.65053852e-11\n",
      "  6.03559147e-11 3.73643128e-11 2.28961804e-11 1.38879439e-11]]\n"
     ]
    }
   ],
   "source": [
    "x = np.linspace(-5, 5, 100)\n",
    "y = np.linspace(-5, 5, 100)\n",
    "X, Y = np.meshgrid(x, y)\n",
    "Z = np.exp(-(X**2 + Y**2) / 2)\n",
    "print(Z)"
   ]
  },
  {
   "cell_type": "markdown",
   "id": "86550d61",
   "metadata": {},
   "source": [
    "#### 57. How to randomly place p elements in a 2D array? (★★☆)"
   ]
  },
  {
   "cell_type": "code",
   "execution_count": 81,
   "id": "db9f2582",
   "metadata": {},
   "outputs": [
    {
     "name": "stdout",
     "output_type": "stream",
     "text": [
      "[[0. 0. 0. 0. 0.]\n",
      " [0. 0. 1. 0. 0.]\n",
      " [0. 0. 0. 0. 0.]\n",
      " [0. 1. 1. 0. 0.]\n",
      " [0. 1. 1. 0. 0.]]\n"
     ]
    }
   ],
   "source": [
    "arr = np.zeros((5, 5))\n",
    "p = 5\n",
    "indices = np.random.choice(arr.size, p, replace=False)\n",
    "np.put(arr, indices, 1)\n",
    "print(arr)"
   ]
  },
  {
   "cell_type": "markdown",
   "id": "153f8cfa",
   "metadata": {},
   "source": [
    "#### 58. Subtract the mean of each row of a matrix (★★☆)"
   ]
  },
  {
   "cell_type": "code",
   "execution_count": 83,
   "id": "8301cb12",
   "metadata": {},
   "outputs": [
    {
     "name": "stdout",
     "output_type": "stream",
     "text": [
      "[[-0.37986902  0.54675419 -0.28223329 -0.10432457  0.21967269]\n",
      " [-0.34823265  0.03070341  0.42820718 -0.0072556  -0.10342234]\n",
      " [-0.12654537  0.50408843  0.19677765 -0.35105392 -0.2232668 ]\n",
      " [-0.40982579  0.15548618 -0.29002718  0.14975558  0.3946112 ]]\n"
     ]
    }
   ],
   "source": [
    "matrix = np.random.rand(4, 5)\n",
    "row_means = matrix.mean(axis=1, keepdims=True)\n",
    "matrix -= row_means\n",
    "print(matrix)"
   ]
  },
  {
   "cell_type": "markdown",
   "id": "f4038090",
   "metadata": {},
   "source": [
    "#### 59. How to sort an array by the nth column? (★★☆)"
   ]
  },
  {
   "cell_type": "code",
   "execution_count": 85,
   "id": "eb5745df",
   "metadata": {},
   "outputs": [
    {
     "name": "stdout",
     "output_type": "stream",
     "text": [
      "[[0.11993833 0.57508474 0.08964073 0.7891752  0.28985582]\n",
      " [0.5204147  0.76047461 0.15126443 0.30528393 0.71624049]\n",
      " [0.4399318  0.15092498 0.26547058 0.96638273 0.83997179]\n",
      " [0.1542042  0.97027307 0.4088607  0.82552897 0.07825658]\n",
      " [0.29595495 0.19403229 0.44964827 0.95160858 0.26037524]]\n"
     ]
    }
   ],
   "source": [
    "array = np.random.rand(5, 5)\n",
    "n = 2\n",
    "sorted_array = array[array[:, n].argsort()]\n",
    "print(sorted_array)"
   ]
  },
  {
   "cell_type": "markdown",
   "id": "20d2a462",
   "metadata": {},
   "source": [
    "#### 60. How to tell if a given 2D array has null columns? (★★☆)"
   ]
  },
  {
   "cell_type": "code",
   "execution_count": 87,
   "id": "b92b7316",
   "metadata": {},
   "outputs": [
    {
     "name": "stdout",
     "output_type": "stream",
     "text": [
      "[False False False]\n"
     ]
    }
   ],
   "source": [
    "array = np.array([[1, 2, 3], [4, 5, 6], [0, 0, 0]])\n",
    "null_columns = np.all(array == 0, axis=0)\n",
    "print(null_columns)"
   ]
  },
  {
   "cell_type": "markdown",
   "id": "bb2aa49b",
   "metadata": {},
   "source": [
    "#### 61. Find the nearest value from a given value in an array (★★☆)"
   ]
  },
  {
   "cell_type": "code",
   "execution_count": 89,
   "id": "8b62e59c",
   "metadata": {},
   "outputs": [
    {
     "name": "stdout",
     "output_type": "stream",
     "text": [
      "4\n"
     ]
    }
   ],
   "source": [
    "arr = np.array([1, 2, 3, 4, 5])\n",
    "value = 3.6\n",
    "nearest = arr[np.abs(arr - value).argmin()]\n",
    "print(nearest)"
   ]
  },
  {
   "cell_type": "markdown",
   "id": "1a950e1a",
   "metadata": {},
   "source": [
    "#### 62. Considering two arrays with shape (1,3) and (3,1), how to compute their sum using an iterator? (★★☆)"
   ]
  },
  {
   "cell_type": "code",
   "execution_count": 101,
   "id": "cad1d01b",
   "metadata": {},
   "outputs": [
    {
     "name": "stdout",
     "output_type": "stream",
     "text": [
      "[[2]\n",
      " [4]\n",
      " [6]]\n"
     ]
    }
   ],
   "source": [
    "X = np.array([[1, 2, 3]])\n",
    "Y = np.array([[1], [2], [3]])\n",
    "\n",
    "sum_result = np.add(X.T, Y)\n",
    "print(sum_result)"
   ]
  },
  {
   "cell_type": "markdown",
   "id": "165b3a20",
   "metadata": {},
   "source": [
    "#### 63. Create an array class that has a name attribute (★★☆)"
   ]
  },
  {
   "cell_type": "code",
   "execution_count": 103,
   "id": "666bf983",
   "metadata": {},
   "outputs": [
    {
     "name": "stdout",
     "output_type": "stream",
     "text": [
      "MyArray\n"
     ]
    }
   ],
   "source": [
    "class NamedArray(np.ndarray):\n",
    "    def __new__(cls, shape, dtype=float, name='Unnamed'):\n",
    "        obj = np.ndarray.__new__(cls, shape, dtype)\n",
    "        obj.name = name\n",
    "        return obj\n",
    "\n",
    "arr = NamedArray((2, 2), name='MyArray')\n",
    "print(arr.name)"
   ]
  },
  {
   "cell_type": "markdown",
   "id": "87f85b12",
   "metadata": {},
   "source": [
    "#### 64. Consider a given vector, how to add 1 to each element indexed by a second vector (be careful with repeated indices)? (★★★)"
   ]
  },
  {
   "cell_type": "code",
   "execution_count": 105,
   "id": "03ee4c88",
   "metadata": {},
   "outputs": [
    {
     "name": "stdout",
     "output_type": "stream",
     "text": [
      "[2 2 4 5 5]\n"
     ]
    }
   ],
   "source": [
    "arr = np.array([1, 2, 3, 4, 5])\n",
    "indices = np.array([0, 2, 3, 2])\n",
    "arr[indices] += 1\n",
    "print(arr)"
   ]
  },
  {
   "cell_type": "markdown",
   "id": "1cda27c4",
   "metadata": {},
   "source": [
    "#### 65. How to accumulate elements of a vector (X) to an array (F) based on an index list (I)? (★★★)"
   ]
  },
  {
   "cell_type": "code",
   "execution_count": 107,
   "id": "aee2c782",
   "metadata": {},
   "outputs": [
    {
     "name": "stdout",
     "output_type": "stream",
     "text": [
      "[1. 5. 4.]\n"
     ]
    }
   ],
   "source": [
    "X = np.array([1, 2, 3, 4])\n",
    "I = np.array([0, 1, 1, 2])\n",
    "F = np.zeros(3)\n",
    "np.add.at(F, I, X)\n",
    "print(F)"
   ]
  },
  {
   "cell_type": "markdown",
   "id": "1db205db",
   "metadata": {},
   "source": [
    "#### 66. Considering a (w,h,3) image of (dtype=ubyte), compute the number of unique colors (★★☆)"
   ]
  },
  {
   "cell_type": "code",
   "execution_count": 109,
   "id": "43204f35",
   "metadata": {},
   "outputs": [
    {
     "name": "stdout",
     "output_type": "stream",
     "text": [
      "100\n"
     ]
    }
   ],
   "source": [
    "image = np.random.randint(0, 256, size=(10, 10, 3), dtype=np.uint8)\n",
    "unique_colors = np.unique(image.reshape(-1, 3), axis=0)\n",
    "print(len(unique_colors))"
   ]
  },
  {
   "cell_type": "markdown",
   "id": "ebaf1222",
   "metadata": {},
   "source": [
    "#### 67. Considering a four dimensions array, how to get sum over the last two axis at once? (★★★)"
   ]
  },
  {
   "cell_type": "code",
   "execution_count": 111,
   "id": "aabbbab9",
   "metadata": {},
   "outputs": [
    {
     "name": "stdout",
     "output_type": "stream",
     "text": [
      "[[16.41063712 14.43315835 15.51042811 15.21124808]\n",
      " [14.42964327 15.79445771 16.03455629 14.67216902]\n",
      " [12.59900422 13.72815943 15.34485172 15.57565569]]\n"
     ]
    }
   ],
   "source": [
    "arr = np.random.rand(3, 4, 5, 6)\n",
    "sum_result = arr.sum(axis=(-2, -1))\n",
    "print(sum_result)"
   ]
  },
  {
   "cell_type": "markdown",
   "id": "2dfb4033",
   "metadata": {},
   "source": [
    "#### 68. Considering a one-dimensional vector D, how to compute means of subsets of D using a vector S of same size describing subset  indices? (★★★)"
   ]
  },
  {
   "cell_type": "code",
   "execution_count": 99,
   "id": "7a9c2287",
   "metadata": {},
   "outputs": [
    {
     "name": "stdout",
     "output_type": "stream",
     "text": [
      "100\n"
     ]
    }
   ],
   "source": [
    "image = np.random.randint(0, 256, size=(10, 10, 3), dtype=np.uint8)\n",
    "unique_colors = np.unique(image.reshape(-1, 3), axis=0)\n",
    "print(len(unique_colors))"
   ]
  },
  {
   "cell_type": "markdown",
   "id": "7035c626",
   "metadata": {},
   "source": [
    "#### 69. How to get the diagonal of a dot product? (★★★)"
   ]
  },
  {
   "cell_type": "code",
   "execution_count": 5,
   "id": "f6af16c1",
   "metadata": {},
   "outputs": [
    {
     "data": {
      "text/plain": [
       "array([2.32737734, 0.80259229, 0.37604657, 1.06133105, 1.21103206])"
      ]
     },
     "execution_count": 5,
     "metadata": {},
     "output_type": "execute_result"
    }
   ],
   "source": [
    "A = np.random.uniform(0,1,(5,5))\n",
    "B = np.random.uniform(0,1,(5,5))\n",
    "\n",
    "# Slow version\n",
    "np.diag(np.dot(A, B))\n",
    "\n",
    "# Fast version\n",
    "np.sum(A * B.T, axis=1)"
   ]
  },
  {
   "cell_type": "markdown",
   "id": "8f73f0e5",
   "metadata": {},
   "source": [
    "#### 70. Consider the vector [1, 2, 3, 4, 5], how to build a new vector with 3 consecutive zeros interleaved between each value? (★★★)"
   ]
  },
  {
   "cell_type": "code",
   "execution_count": 119,
   "id": "b0cabc11",
   "metadata": {},
   "outputs": [
    {
     "ename": "IndexError",
     "evalue": "too many indices for array: array is 1-dimensional, but 2 were indexed",
     "output_type": "error",
     "traceback": [
      "\u001b[1;31m---------------------------------------------------------------------------\u001b[0m",
      "\u001b[1;31mIndexError\u001b[0m                                Traceback (most recent call last)",
      "Cell \u001b[1;32mIn[119], line 3\u001b[0m\n\u001b[0;32m      1\u001b[0m arr \u001b[38;5;241m=\u001b[39m np\u001b[38;5;241m.\u001b[39marray([\u001b[38;5;241m1\u001b[39m, \u001b[38;5;241m2\u001b[39m, \u001b[38;5;241m3\u001b[39m, \u001b[38;5;241m4\u001b[39m, \u001b[38;5;241m5\u001b[39m])\n\u001b[0;32m      2\u001b[0m result \u001b[38;5;241m=\u001b[39m np\u001b[38;5;241m.\u001b[39mzeros(\u001b[38;5;241m4\u001b[39m \u001b[38;5;241m*\u001b[39m (\u001b[38;5;28mlen\u001b[39m(arr) \u001b[38;5;241m-\u001b[39m \u001b[38;5;241m1\u001b[39m) \u001b[38;5;241m+\u001b[39m \u001b[38;5;28mlen\u001b[39m(arr), dtype\u001b[38;5;241m=\u001b[39m\u001b[38;5;28mint\u001b[39m)\n\u001b[1;32m----> 3\u001b[0m \u001b[43mresult\u001b[49m\u001b[43m[\u001b[49m\u001b[43m:\u001b[49m\u001b[43m,\u001b[49m\u001b[43m:\u001b[49m\u001b[38;5;241;43m4\u001b[39;49m\u001b[43m]\u001b[49m \u001b[38;5;241m=\u001b[39m arr\n\u001b[0;32m      4\u001b[0m \u001b[38;5;28mprint\u001b[39m(result)\n",
      "\u001b[1;31mIndexError\u001b[0m: too many indices for array: array is 1-dimensional, but 2 were indexed"
     ]
    }
   ],
   "source": [
    "arr = np.array([1, 2, 3, 4, 5])\n",
    "result = np.zeros(4 * (len(arr) - 1) + len(arr), dtype=int)\n",
    "result[::4] = arr\n",
    "print(result)"
   ]
  },
  {
   "cell_type": "markdown",
   "id": "bafaa79e",
   "metadata": {},
   "source": [
    "#### 71. Consider an array of dimension (5,5,3), how to mulitply it by an array with dimensions (5,5)? (★★★)"
   ]
  },
  {
   "cell_type": "code",
   "execution_count": 123,
   "id": "d441e30b",
   "metadata": {},
   "outputs": [
    {
     "name": "stdout",
     "output_type": "stream",
     "text": [
      "[[[0.86339216 0.35081431 0.11935342]\n",
      "  [0.44918865 0.72580117 0.71776123]\n",
      "  [0.09472144 0.00590509 0.00100818]\n",
      "  [0.517371   0.43822762 0.29338379]\n",
      "  [0.28337957 0.00937282 0.12564092]]\n",
      "\n",
      " [[0.23032309 0.05126211 0.15707476]\n",
      "  [0.03763755 0.30663    0.27580625]\n",
      "  [0.13635366 0.31947737 0.29223704]\n",
      "  [0.59161223 0.39802681 0.11519594]\n",
      "  [0.05193229 0.07056861 0.2247731 ]]\n",
      "\n",
      " [[0.1713471  0.25760386 0.07823922]\n",
      "  [0.11018541 0.12469172 0.21997028]\n",
      "  [0.00867358 0.00634794 0.00107618]\n",
      "  [0.09474673 0.25909498 0.06407983]\n",
      "  [0.05938803 0.12437666 0.03662048]]\n",
      "\n",
      " [[0.53104408 0.84333333 0.21050927]\n",
      "  [0.03541524 0.15903527 0.20790045]\n",
      "  [0.04297267 0.40325917 0.08540172]\n",
      "  [0.00930507 0.07519688 0.08190061]\n",
      "  [0.77358235 0.67768725 0.38927776]]\n",
      "\n",
      " [[0.08807894 0.04736281 0.093209  ]\n",
      "  [0.27319742 0.23518561 0.19148969]\n",
      "  [0.22264991 0.42268199 0.25846399]\n",
      "  [0.28027141 0.10917318 0.42777947]\n",
      "  [0.34021105 0.45204798 0.196233  ]]]\n"
     ]
    }
   ],
   "source": [
    "arr1 = np.random.rand(5, 5, 3)\n",
    "arr2 = np.random.rand(5, 5)\n",
    "result = arr1 * arr2[:, :, None]\n",
    "print(result)"
   ]
  },
  {
   "cell_type": "markdown",
   "id": "80a9ac82",
   "metadata": {},
   "source": [
    "#### 72. How to swap two rows of an array? (★★★)"
   ]
  },
  {
   "cell_type": "code",
   "execution_count": 125,
   "id": "1aee2791",
   "metadata": {},
   "outputs": [
    {
     "name": "stdout",
     "output_type": "stream",
     "text": [
      "[[0.52588256 0.95185582 0.62741153 0.20079088 0.82154575]\n",
      " [0.03663946 0.84052343 0.44545225 0.05903651 0.37155983]\n",
      " [0.32479587 0.89615278 0.59241613 0.70869338 0.69807616]\n",
      " [0.95179896 0.62539107 0.18897092 0.90311336 0.59649717]\n",
      " [0.89368428 0.60671637 0.38662626 0.08064024 0.57092727]]\n"
     ]
    }
   ],
   "source": [
    "arr = np.random.rand(5, 5)\n",
    "arr[[0, 1]] = arr[[1, 0]]  # Swap rows 0 and 1\n",
    "print(arr)"
   ]
  },
  {
   "cell_type": "markdown",
   "id": "5e53d68c",
   "metadata": {},
   "source": [
    "#### 73. Consider a set of 10 triplets describing 10 triangles (with shared vertices), find the set of unique line segments composing all the  triangles (★★★)"
   ]
  },
  {
   "cell_type": "code",
   "execution_count": 127,
   "id": "2f975322",
   "metadata": {},
   "outputs": [
    {
     "name": "stdout",
     "output_type": "stream",
     "text": [
      "[(3, 4), (4, 6), (5, 7), (8, 9), (1, 3), (1, 9), (6, 8), (4, 5), (5, 6), (9, 10), (2, 4), (1, 2), (2, 10), (7, 9), (6, 7), (3, 5), (8, 10), (2, 3), (1, 10), (7, 8)]\n"
     ]
    }
   ],
   "source": [
    "triplets = np.array([(1, 2, 3), (2, 3, 4), (3, 4, 5), (4, 5, 6), (5, 6, 7), (6, 7, 8), (7, 8, 9), (8, 9, 10), (9, 10, 1), (10, 1, 2)])\n",
    "edges = set()\n",
    "\n",
    "for t in triplets:\n",
    "    edges.update([(t[i], t[j]) if t[i] < t[j] else (t[j], t[i]) for i in range(3) for j in range(i+1, 3)])\n",
    "\n",
    "edges = list(edges)\n",
    "print(edges)"
   ]
  },
  {
   "cell_type": "markdown",
   "id": "f85da603",
   "metadata": {},
   "source": [
    "#### 74. Given a sorted array C that corresponds to a bincount, how to produce an array A such that np.bincount(A) == C? (★★★)"
   ]
  },
  {
   "cell_type": "code",
   "execution_count": 129,
   "id": "8c476a73",
   "metadata": {},
   "outputs": [
    {
     "name": "stdout",
     "output_type": "stream",
     "text": [
      "[0 0 1 1 1 2 2 2 2 2]\n"
     ]
    }
   ],
   "source": [
    "C = np.array([2, 3, 5])\n",
    "A = np.repeat(np.arange(len(C)), C)\n",
    "print(A)"
   ]
  },
  {
   "cell_type": "markdown",
   "id": "a2330e6c",
   "metadata": {},
   "source": [
    "#### 75. How to compute averages using a sliding window over an array? (★★★)"
   ]
  },
  {
   "cell_type": "code",
   "execution_count": 131,
   "id": "35e5e9f5",
   "metadata": {},
   "outputs": [
    {
     "name": "stdout",
     "output_type": "stream",
     "text": [
      "[0.5004946  0.36964192 0.587049   0.5632698  0.44448566 0.2359394\n",
      " 0.32354114 0.38668861]\n"
     ]
    }
   ],
   "source": [
    "arr = np.random.rand(10)\n",
    "window_size = 3\n",
    "averages = np.convolve(arr, np.ones(window_size)/window_size, mode='valid')\n",
    "print(averages)"
   ]
  },
  {
   "cell_type": "markdown",
   "id": "87698de8",
   "metadata": {},
   "source": [
    "#### 76. Consider a one-dimensional array Z, build a two-dimensional array whose first row is (Z[0],Z[1],Z[2]) and each subsequent row is  shifted by 1 (last row should be (Z[-3],Z[-2],Z[-1]) (★★★)"
   ]
  },
  {
   "cell_type": "code",
   "execution_count": 133,
   "id": "753763ed",
   "metadata": {},
   "outputs": [
    {
     "name": "stdout",
     "output_type": "stream",
     "text": [
      "[[ 1  2  3]\n",
      " [ 2  3  4]\n",
      " [ 3  4  5]\n",
      " [ 4  5  6]\n",
      " [ 5  6  7]\n",
      " [ 6  7  8]\n",
      " [ 7  8  9]\n",
      " [ 8  9 10]]\n"
     ]
    }
   ],
   "source": [
    "Z = np.array([1, 2, 3, 4, 5, 6, 7, 8, 9, 10])\n",
    "result = np.array([Z[i:i+3] for i in range(len(Z)-2)])\n",
    "print(result)"
   ]
  },
  {
   "cell_type": "markdown",
   "id": "b8417b15",
   "metadata": {},
   "source": [
    "#### 77. How to negate a boolean, or to change the sign of a float inplace? (★★★)"
   ]
  },
  {
   "cell_type": "code",
   "execution_count": 135,
   "id": "3cad31b2",
   "metadata": {},
   "outputs": [
    {
     "name": "stdout",
     "output_type": "stream",
     "text": [
      "[False  True False]\n",
      "[-1.5  2.3 -4. ]\n"
     ]
    }
   ],
   "source": [
    "arr = np.array([True, False, True])\n",
    "arr = ~arr  # Negate boolean\n",
    "print(arr)\n",
    "\n",
    "arr_float = np.array([1.5, -2.3, 4.0])\n",
    "arr_float = -arr_float  # Change sign\n",
    "print(arr_float)"
   ]
  },
  {
   "cell_type": "markdown",
   "id": "37a49831",
   "metadata": {},
   "source": [
    "#### 78. Consider 2 sets of points P0,P1 describing lines (2d) and a point p, how to compute distance from p to each line i (P0[i],P1[i])? (★★★)"
   ]
  },
  {
   "cell_type": "code",
   "execution_count": 137,
   "id": "df95dce8",
   "metadata": {},
   "outputs": [
    {
     "name": "stdout",
     "output_type": "stream",
     "text": [
      "[2. 1. 0.]\n"
     ]
    }
   ],
   "source": [
    "P0 = np.array([[0, 0], [1, 1], [2, 2]])\n",
    "P1 = np.array([[1, 0], [2, 1], [3, 2]])\n",
    "p = np.array([1, 2])\n",
    "\n",
    "# Vectorized computation of distance from p to each line\n",
    "dists = np.abs(np.cross(P1 - P0, P0 - p)) / np.linalg.norm(P1 - P0, axis=1)\n",
    "print(dists)"
   ]
  },
  {
   "cell_type": "markdown",
   "id": "f5ae032f",
   "metadata": {},
   "source": [
    "#### 79. Consider 2 sets of points P0,P1 describing lines (2d) and a set of points P, how to compute distance from each point j (P[j]) to each line i (P0[i],P1[i])? (★★★)"
   ]
  },
  {
   "cell_type": "code",
   "execution_count": 139,
   "id": "f5ae2e9b",
   "metadata": {},
   "outputs": [
    {
     "name": "stdout",
     "output_type": "stream",
     "text": [
      "[[2. 1. 0.]\n",
      " [3. 2. 1.]\n",
      " [4. 3. 2.]]\n"
     ]
    }
   ],
   "source": [
    "P0 = np.array([[0, 0], [1, 1], [2, 2]])\n",
    "P1 = np.array([[1, 0], [2, 1], [3, 2]])\n",
    "P = np.array([[1, 2], [2, 3], [3, 4]])\n",
    "\n",
    "# Vectorized computation of distance from each point in P to each line\n",
    "dists = np.abs(np.cross(P1 - P0, P0 - P[:, None])) / np.linalg.norm(P1 - P0, axis=1)\n",
    "print(dists)"
   ]
  },
  {
   "cell_type": "markdown",
   "id": "6bc35ba2",
   "metadata": {},
   "source": [
    "#### 80. Consider an arbitrary array, write a function that extract a subpart with a fixed shape and centered on a given element (pad with a `fill` value when necessary) (★★★)"
   ]
  },
  {
   "cell_type": "code",
   "execution_count": 147,
   "id": "2ad8db75",
   "metadata": {},
   "outputs": [
    {
     "name": "stdout",
     "output_type": "stream",
     "text": [
      "[[ 5  6  7]\n",
      " [ 9 10 11]\n",
      " [13 14 15]]\n"
     ]
    }
   ],
   "source": [
    "def extract_subarray(arr, center, shape, fill_value=0):\n",
    "    slices = tuple(slice(max(center[i] - shape[i]//2, 0), min(center[i] + shape[i]//2 + 1, arr.shape[i])) for i in range(len(center)))\n",
    "    subarray = arr[slices]\n",
    "    if subarray.shape != shape:\n",
    "        result = np.full(shape, fill_value)\n",
    "        result[slices] = subarray\n",
    "        return result\n",
    "    return subarray\n",
    "\n",
    "arr = np.arange(16).reshape(4, 4)\n",
    "subarray = extract_subarray(arr, (2, 2), (3, 3))\n",
    "print(subarray)\n"
   ]
  },
  {
   "cell_type": "markdown",
   "id": "d17818f7",
   "metadata": {},
   "source": [
    "#### 81. Consider an array Z = [1,2,3,4,5,6,7,8,9,10,11,12,13,14], how to generate an array R = [[1,2,3,4], [2,3,4,5], [3,4,5,6], ..., [11,12,13,14]]? (★★★)"
   ]
  },
  {
   "cell_type": "code",
   "execution_count": 149,
   "id": "97deb72f",
   "metadata": {},
   "outputs": [
    {
     "name": "stdout",
     "output_type": "stream",
     "text": [
      "[[ 1  2  3  4]\n",
      " [ 2  3  4  5]\n",
      " [ 3  4  5  6]\n",
      " [ 4  5  6  7]\n",
      " [ 5  6  7  8]\n",
      " [ 6  7  8  9]\n",
      " [ 7  8  9 10]\n",
      " [ 8  9 10 11]\n",
      " [ 9 10 11 12]\n",
      " [10 11 12 13]\n",
      " [11 12 13 14]]\n"
     ]
    }
   ],
   "source": [
    "Z = np.arange(1, 15)\n",
    "R = np.array([Z[i:i+4] for i in range(len(Z)-3)])\n",
    "print(R)\n"
   ]
  },
  {
   "cell_type": "markdown",
   "id": "67f526e6",
   "metadata": {},
   "source": [
    "#### 82. Compute a matrix rank (★★★)"
   ]
  },
  {
   "cell_type": "code",
   "execution_count": 151,
   "id": "d70bed5b",
   "metadata": {},
   "outputs": [
    {
     "name": "stdout",
     "output_type": "stream",
     "text": [
      "4\n"
     ]
    }
   ],
   "source": [
    "matrix = np.random.rand(4, 5)\n",
    "rank = np.linalg.matrix_rank(matrix)\n",
    "print(rank)\n"
   ]
  },
  {
   "cell_type": "markdown",
   "id": "0a3fb55f",
   "metadata": {},
   "source": [
    "#### 83. How to find the most frequent value in an array?"
   ]
  },
  {
   "cell_type": "code",
   "execution_count": 153,
   "id": "b0647d07",
   "metadata": {},
   "outputs": [
    {
     "name": "stdout",
     "output_type": "stream",
     "text": [
      "4\n"
     ]
    }
   ],
   "source": [
    "arr = np.array([1, 2, 3, 3, 4, 4, 4, 5])\n",
    "most_frequent = np.bincount(arr).argmax()\n",
    "print(most_frequent)\n"
   ]
  },
  {
   "cell_type": "markdown",
   "id": "cb0ac341",
   "metadata": {},
   "source": [
    "#### 84. Extract all the contiguous 3x3 blocks from a random 10x10 matrix (★★★)"
   ]
  },
  {
   "cell_type": "code",
   "execution_count": 155,
   "id": "91798923",
   "metadata": {},
   "outputs": [
    {
     "name": "stdout",
     "output_type": "stream",
     "text": [
      "[[[[0.86773367 0.96525334 0.2707705 ]\n",
      "   [0.95839463 0.58371053 0.19164694]\n",
      "   [0.07665941 0.64482016 0.24576053]]\n",
      "\n",
      "  [[0.96525334 0.2707705  0.42789802]\n",
      "   [0.58371053 0.19164694 0.66126484]\n",
      "   [0.64482016 0.24576053 0.40108643]]\n",
      "\n",
      "  [[0.2707705  0.42789802 0.5524665 ]\n",
      "   [0.19164694 0.66126484 0.99166447]\n",
      "   [0.24576053 0.40108643 0.16482292]]\n",
      "\n",
      "  [[0.42789802 0.5524665  0.40339754]\n",
      "   [0.66126484 0.99166447 0.67937599]\n",
      "   [0.40108643 0.16482292 0.55609114]]\n",
      "\n",
      "  [[0.5524665  0.40339754 0.37135802]\n",
      "   [0.99166447 0.67937599 0.13016928]\n",
      "   [0.16482292 0.55609114 0.3059394 ]]\n",
      "\n",
      "  [[0.40339754 0.37135802 0.76961192]\n",
      "   [0.67937599 0.13016928 0.2132174 ]\n",
      "   [0.55609114 0.3059394  0.17538479]]\n",
      "\n",
      "  [[0.37135802 0.76961192 0.90357085]\n",
      "   [0.13016928 0.2132174  0.0370848 ]\n",
      "   [0.3059394  0.17538479 0.87837672]]\n",
      "\n",
      "  [[0.76961192 0.90357085 0.42682896]\n",
      "   [0.2132174  0.0370848  0.0448724 ]\n",
      "   [0.17538479 0.87837672 0.42973696]]]\n",
      "\n",
      "\n",
      " [[[0.95839463 0.58371053 0.19164694]\n",
      "   [0.07665941 0.64482016 0.24576053]\n",
      "   [0.95601611 0.08944715 0.38031227]]\n",
      "\n",
      "  [[0.58371053 0.19164694 0.66126484]\n",
      "   [0.64482016 0.24576053 0.40108643]\n",
      "   [0.08944715 0.38031227 0.01711512]]\n",
      "\n",
      "  [[0.19164694 0.66126484 0.99166447]\n",
      "   [0.24576053 0.40108643 0.16482292]\n",
      "   [0.38031227 0.01711512 0.46711537]]\n",
      "\n",
      "  [[0.66126484 0.99166447 0.67937599]\n",
      "   [0.40108643 0.16482292 0.55609114]\n",
      "   [0.01711512 0.46711537 0.78896907]]\n",
      "\n",
      "  [[0.99166447 0.67937599 0.13016928]\n",
      "   [0.16482292 0.55609114 0.3059394 ]\n",
      "   [0.46711537 0.78896907 0.99787417]]\n",
      "\n",
      "  [[0.67937599 0.13016928 0.2132174 ]\n",
      "   [0.55609114 0.3059394  0.17538479]\n",
      "   [0.78896907 0.99787417 0.76817265]]\n",
      "\n",
      "  [[0.13016928 0.2132174  0.0370848 ]\n",
      "   [0.3059394  0.17538479 0.87837672]\n",
      "   [0.99787417 0.76817265 0.46770053]]\n",
      "\n",
      "  [[0.2132174  0.0370848  0.0448724 ]\n",
      "   [0.17538479 0.87837672 0.42973696]\n",
      "   [0.76817265 0.46770053 0.26544427]]]\n",
      "\n",
      "\n",
      " [[[0.07665941 0.64482016 0.24576053]\n",
      "   [0.95601611 0.08944715 0.38031227]\n",
      "   [0.05836723 0.07827548 0.607179  ]]\n",
      "\n",
      "  [[0.64482016 0.24576053 0.40108643]\n",
      "   [0.08944715 0.38031227 0.01711512]\n",
      "   [0.07827548 0.607179   0.85383027]]\n",
      "\n",
      "  [[0.24576053 0.40108643 0.16482292]\n",
      "   [0.38031227 0.01711512 0.46711537]\n",
      "   [0.607179   0.85383027 0.55680387]]\n",
      "\n",
      "  [[0.40108643 0.16482292 0.55609114]\n",
      "   [0.01711512 0.46711537 0.78896907]\n",
      "   [0.85383027 0.55680387 0.58804533]]\n",
      "\n",
      "  [[0.16482292 0.55609114 0.3059394 ]\n",
      "   [0.46711537 0.78896907 0.99787417]\n",
      "   [0.55680387 0.58804533 0.26696097]]\n",
      "\n",
      "  [[0.55609114 0.3059394  0.17538479]\n",
      "   [0.78896907 0.99787417 0.76817265]\n",
      "   [0.58804533 0.26696097 0.35878803]]\n",
      "\n",
      "  [[0.3059394  0.17538479 0.87837672]\n",
      "   [0.99787417 0.76817265 0.46770053]\n",
      "   [0.26696097 0.35878803 0.77683047]]\n",
      "\n",
      "  [[0.17538479 0.87837672 0.42973696]\n",
      "   [0.76817265 0.46770053 0.26544427]\n",
      "   [0.35878803 0.77683047 0.21395329]]]\n",
      "\n",
      "\n",
      " [[[0.95601611 0.08944715 0.38031227]\n",
      "   [0.05836723 0.07827548 0.607179  ]\n",
      "   [0.96539058 0.67704418 0.58614408]]\n",
      "\n",
      "  [[0.08944715 0.38031227 0.01711512]\n",
      "   [0.07827548 0.607179   0.85383027]\n",
      "   [0.67704418 0.58614408 0.52615579]]\n",
      "\n",
      "  [[0.38031227 0.01711512 0.46711537]\n",
      "   [0.607179   0.85383027 0.55680387]\n",
      "   [0.58614408 0.52615579 0.19726903]]\n",
      "\n",
      "  [[0.01711512 0.46711537 0.78896907]\n",
      "   [0.85383027 0.55680387 0.58804533]\n",
      "   [0.52615579 0.19726903 0.85845666]]\n",
      "\n",
      "  [[0.46711537 0.78896907 0.99787417]\n",
      "   [0.55680387 0.58804533 0.26696097]\n",
      "   [0.19726903 0.85845666 0.13657051]]\n",
      "\n",
      "  [[0.78896907 0.99787417 0.76817265]\n",
      "   [0.58804533 0.26696097 0.35878803]\n",
      "   [0.85845666 0.13657051 0.57880665]]\n",
      "\n",
      "  [[0.99787417 0.76817265 0.46770053]\n",
      "   [0.26696097 0.35878803 0.77683047]\n",
      "   [0.13657051 0.57880665 0.04477255]]\n",
      "\n",
      "  [[0.76817265 0.46770053 0.26544427]\n",
      "   [0.35878803 0.77683047 0.21395329]\n",
      "   [0.57880665 0.04477255 0.17663784]]]\n",
      "\n",
      "\n",
      " [[[0.05836723 0.07827548 0.607179  ]\n",
      "   [0.96539058 0.67704418 0.58614408]\n",
      "   [0.58931323 0.31391708 0.65983134]]\n",
      "\n",
      "  [[0.07827548 0.607179   0.85383027]\n",
      "   [0.67704418 0.58614408 0.52615579]\n",
      "   [0.31391708 0.65983134 0.26438699]]\n",
      "\n",
      "  [[0.607179   0.85383027 0.55680387]\n",
      "   [0.58614408 0.52615579 0.19726903]\n",
      "   [0.65983134 0.26438699 0.97582628]]\n",
      "\n",
      "  [[0.85383027 0.55680387 0.58804533]\n",
      "   [0.52615579 0.19726903 0.85845666]\n",
      "   [0.26438699 0.97582628 0.91337514]]\n",
      "\n",
      "  [[0.55680387 0.58804533 0.26696097]\n",
      "   [0.19726903 0.85845666 0.13657051]\n",
      "   [0.97582628 0.91337514 0.70410063]]\n",
      "\n",
      "  [[0.58804533 0.26696097 0.35878803]\n",
      "   [0.85845666 0.13657051 0.57880665]\n",
      "   [0.91337514 0.70410063 0.52026682]]\n",
      "\n",
      "  [[0.26696097 0.35878803 0.77683047]\n",
      "   [0.13657051 0.57880665 0.04477255]\n",
      "   [0.70410063 0.52026682 0.278235  ]]\n",
      "\n",
      "  [[0.35878803 0.77683047 0.21395329]\n",
      "   [0.57880665 0.04477255 0.17663784]\n",
      "   [0.52026682 0.278235   0.37899185]]]\n",
      "\n",
      "\n",
      " [[[0.96539058 0.67704418 0.58614408]\n",
      "   [0.58931323 0.31391708 0.65983134]\n",
      "   [0.1680014  0.29533099 0.65789139]]\n",
      "\n",
      "  [[0.67704418 0.58614408 0.52615579]\n",
      "   [0.31391708 0.65983134 0.26438699]\n",
      "   [0.29533099 0.65789139 0.18088318]]\n",
      "\n",
      "  [[0.58614408 0.52615579 0.19726903]\n",
      "   [0.65983134 0.26438699 0.97582628]\n",
      "   [0.65789139 0.18088318 0.19193231]]\n",
      "\n",
      "  [[0.52615579 0.19726903 0.85845666]\n",
      "   [0.26438699 0.97582628 0.91337514]\n",
      "   [0.18088318 0.19193231 0.52268084]]\n",
      "\n",
      "  [[0.19726903 0.85845666 0.13657051]\n",
      "   [0.97582628 0.91337514 0.70410063]\n",
      "   [0.19193231 0.52268084 0.45417006]]\n",
      "\n",
      "  [[0.85845666 0.13657051 0.57880665]\n",
      "   [0.91337514 0.70410063 0.52026682]\n",
      "   [0.52268084 0.45417006 0.86639605]]\n",
      "\n",
      "  [[0.13657051 0.57880665 0.04477255]\n",
      "   [0.70410063 0.52026682 0.278235  ]\n",
      "   [0.45417006 0.86639605 0.93107175]]\n",
      "\n",
      "  [[0.57880665 0.04477255 0.17663784]\n",
      "   [0.52026682 0.278235   0.37899185]\n",
      "   [0.86639605 0.93107175 0.89617657]]]\n",
      "\n",
      "\n",
      " [[[0.58931323 0.31391708 0.65983134]\n",
      "   [0.1680014  0.29533099 0.65789139]\n",
      "   [0.1312671  0.21386174 0.45612217]]\n",
      "\n",
      "  [[0.31391708 0.65983134 0.26438699]\n",
      "   [0.29533099 0.65789139 0.18088318]\n",
      "   [0.21386174 0.45612217 0.07605811]]\n",
      "\n",
      "  [[0.65983134 0.26438699 0.97582628]\n",
      "   [0.65789139 0.18088318 0.19193231]\n",
      "   [0.45612217 0.07605811 0.49128349]]\n",
      "\n",
      "  [[0.26438699 0.97582628 0.91337514]\n",
      "   [0.18088318 0.19193231 0.52268084]\n",
      "   [0.07605811 0.49128349 0.88721551]]\n",
      "\n",
      "  [[0.97582628 0.91337514 0.70410063]\n",
      "   [0.19193231 0.52268084 0.45417006]\n",
      "   [0.49128349 0.88721551 0.76344521]]\n",
      "\n",
      "  [[0.91337514 0.70410063 0.52026682]\n",
      "   [0.52268084 0.45417006 0.86639605]\n",
      "   [0.88721551 0.76344521 0.92700426]]\n",
      "\n",
      "  [[0.70410063 0.52026682 0.278235  ]\n",
      "   [0.45417006 0.86639605 0.93107175]\n",
      "   [0.76344521 0.92700426 0.72193104]]\n",
      "\n",
      "  [[0.52026682 0.278235   0.37899185]\n",
      "   [0.86639605 0.93107175 0.89617657]\n",
      "   [0.92700426 0.72193104 0.92548255]]]\n",
      "\n",
      "\n",
      " [[[0.1680014  0.29533099 0.65789139]\n",
      "   [0.1312671  0.21386174 0.45612217]\n",
      "   [0.10486102 0.69965492 0.13044835]]\n",
      "\n",
      "  [[0.29533099 0.65789139 0.18088318]\n",
      "   [0.21386174 0.45612217 0.07605811]\n",
      "   [0.69965492 0.13044835 0.18895829]]\n",
      "\n",
      "  [[0.65789139 0.18088318 0.19193231]\n",
      "   [0.45612217 0.07605811 0.49128349]\n",
      "   [0.13044835 0.18895829 0.39959691]]\n",
      "\n",
      "  [[0.18088318 0.19193231 0.52268084]\n",
      "   [0.07605811 0.49128349 0.88721551]\n",
      "   [0.18895829 0.39959691 0.39976379]]\n",
      "\n",
      "  [[0.19193231 0.52268084 0.45417006]\n",
      "   [0.49128349 0.88721551 0.76344521]\n",
      "   [0.39959691 0.39976379 0.42249526]]\n",
      "\n",
      "  [[0.52268084 0.45417006 0.86639605]\n",
      "   [0.88721551 0.76344521 0.92700426]\n",
      "   [0.39976379 0.42249526 0.50150018]]\n",
      "\n",
      "  [[0.45417006 0.86639605 0.93107175]\n",
      "   [0.76344521 0.92700426 0.72193104]\n",
      "   [0.42249526 0.50150018 0.7710836 ]]\n",
      "\n",
      "  [[0.86639605 0.93107175 0.89617657]\n",
      "   [0.92700426 0.72193104 0.92548255]\n",
      "   [0.50150018 0.7710836  0.38070265]]]]\n"
     ]
    }
   ],
   "source": [
    "matrix = np.random.rand(10, 10)\n",
    "blocks = np.lib.stride_tricks.as_strided(matrix, shape=(8, 8, 3, 3), strides=matrix.strides*2)\n",
    "print(blocks)\n"
   ]
  },
  {
   "cell_type": "markdown",
   "id": "c2a9da0d",
   "metadata": {},
   "source": [
    "#### 85. Create a 2D array subclass such that Z[i,j] == Z[j,i] (★★★)"
   ]
  },
  {
   "cell_type": "code",
   "execution_count": 157,
   "id": "f9b027ff",
   "metadata": {},
   "outputs": [
    {
     "name": "stdout",
     "output_type": "stream",
     "text": [
      "[[[[0.30049819 0.84485468 0.74632129]\n",
      "   [0.61284488 0.30962219 0.64119956]\n",
      "   [0.9454339  0.75912573 0.26961572]]\n",
      "\n",
      "  [[0.84485468 0.74632129 0.8519439 ]\n",
      "   [0.30962219 0.64119956 0.29794467]\n",
      "   [0.75912573 0.26961572 0.79328794]]\n",
      "\n",
      "  [[0.74632129 0.8519439  0.45886429]\n",
      "   [0.64119956 0.29794467 0.57424514]\n",
      "   [0.26961572 0.79328794 0.21761575]]\n",
      "\n",
      "  [[0.8519439  0.45886429 0.0947996 ]\n",
      "   [0.29794467 0.57424514 0.05965824]\n",
      "   [0.79328794 0.21761575 0.87572788]]\n",
      "\n",
      "  [[0.45886429 0.0947996  0.79327864]\n",
      "   [0.57424514 0.05965824 0.94153643]\n",
      "   [0.21761575 0.87572788 0.50435468]]\n",
      "\n",
      "  [[0.0947996  0.79327864 0.92140707]\n",
      "   [0.05965824 0.94153643 0.89745958]\n",
      "   [0.87572788 0.50435468 0.84815742]]\n",
      "\n",
      "  [[0.79327864 0.92140707 0.56751436]\n",
      "   [0.94153643 0.89745958 0.49151671]\n",
      "   [0.50435468 0.84815742 0.78863954]]\n",
      "\n",
      "  [[0.92140707 0.56751436 0.69587211]\n",
      "   [0.89745958 0.49151671 0.27758916]\n",
      "   [0.84815742 0.78863954 0.64363315]]]\n",
      "\n",
      "\n",
      " [[[0.61284488 0.30962219 0.64119956]\n",
      "   [0.9454339  0.75912573 0.26961572]\n",
      "   [0.58444279 0.96757837 0.69783153]]\n",
      "\n",
      "  [[0.30962219 0.64119956 0.29794467]\n",
      "   [0.75912573 0.26961572 0.79328794]\n",
      "   [0.96757837 0.69783153 0.26268207]]\n",
      "\n",
      "  [[0.64119956 0.29794467 0.57424514]\n",
      "   [0.26961572 0.79328794 0.21761575]\n",
      "   [0.69783153 0.26268207 0.51787664]]\n",
      "\n",
      "  [[0.29794467 0.57424514 0.05965824]\n",
      "   [0.79328794 0.21761575 0.87572788]\n",
      "   [0.26268207 0.51787664 0.12840041]]\n",
      "\n",
      "  [[0.57424514 0.05965824 0.94153643]\n",
      "   [0.21761575 0.87572788 0.50435468]\n",
      "   [0.51787664 0.12840041 0.9020958 ]]\n",
      "\n",
      "  [[0.05965824 0.94153643 0.89745958]\n",
      "   [0.87572788 0.50435468 0.84815742]\n",
      "   [0.12840041 0.9020958  0.19887526]]\n",
      "\n",
      "  [[0.94153643 0.89745958 0.49151671]\n",
      "   [0.50435468 0.84815742 0.78863954]\n",
      "   [0.9020958  0.19887526 0.19909637]]\n",
      "\n",
      "  [[0.89745958 0.49151671 0.27758916]\n",
      "   [0.84815742 0.78863954 0.64363315]\n",
      "   [0.19887526 0.19909637 0.14781481]]]\n",
      "\n",
      "\n",
      " [[[0.9454339  0.75912573 0.26961572]\n",
      "   [0.58444279 0.96757837 0.69783153]\n",
      "   [0.15911946 0.36414921 0.57036563]]\n",
      "\n",
      "  [[0.75912573 0.26961572 0.79328794]\n",
      "   [0.96757837 0.69783153 0.26268207]\n",
      "   [0.36414921 0.57036563 0.63321128]]\n",
      "\n",
      "  [[0.26961572 0.79328794 0.21761575]\n",
      "   [0.69783153 0.26268207 0.51787664]\n",
      "   [0.57036563 0.63321128 0.67687376]]\n",
      "\n",
      "  [[0.79328794 0.21761575 0.87572788]\n",
      "   [0.26268207 0.51787664 0.12840041]\n",
      "   [0.63321128 0.67687376 0.27498719]]\n",
      "\n",
      "  [[0.21761575 0.87572788 0.50435468]\n",
      "   [0.51787664 0.12840041 0.9020958 ]\n",
      "   [0.67687376 0.27498719 0.93461871]]\n",
      "\n",
      "  [[0.87572788 0.50435468 0.84815742]\n",
      "   [0.12840041 0.9020958  0.19887526]\n",
      "   [0.27498719 0.93461871 0.37071462]]\n",
      "\n",
      "  [[0.50435468 0.84815742 0.78863954]\n",
      "   [0.9020958  0.19887526 0.19909637]\n",
      "   [0.93461871 0.37071462 0.53793514]]\n",
      "\n",
      "  [[0.84815742 0.78863954 0.64363315]\n",
      "   [0.19887526 0.19909637 0.14781481]\n",
      "   [0.37071462 0.53793514 0.36778182]]]\n",
      "\n",
      "\n",
      " [[[0.58444279 0.96757837 0.69783153]\n",
      "   [0.15911946 0.36414921 0.57036563]\n",
      "   [0.24736814 0.16607483 0.99220205]]\n",
      "\n",
      "  [[0.96757837 0.69783153 0.26268207]\n",
      "   [0.36414921 0.57036563 0.63321128]\n",
      "   [0.16607483 0.99220205 0.8309171 ]]\n",
      "\n",
      "  [[0.69783153 0.26268207 0.51787664]\n",
      "   [0.57036563 0.63321128 0.67687376]\n",
      "   [0.99220205 0.8309171  0.14080344]]\n",
      "\n",
      "  [[0.26268207 0.51787664 0.12840041]\n",
      "   [0.63321128 0.67687376 0.27498719]\n",
      "   [0.8309171  0.14080344 0.17362257]]\n",
      "\n",
      "  [[0.51787664 0.12840041 0.9020958 ]\n",
      "   [0.67687376 0.27498719 0.93461871]\n",
      "   [0.14080344 0.17362257 0.80725687]]\n",
      "\n",
      "  [[0.12840041 0.9020958  0.19887526]\n",
      "   [0.27498719 0.93461871 0.37071462]\n",
      "   [0.17362257 0.80725687 0.74195626]]\n",
      "\n",
      "  [[0.9020958  0.19887526 0.19909637]\n",
      "   [0.93461871 0.37071462 0.53793514]\n",
      "   [0.80725687 0.74195626 0.77984818]]\n",
      "\n",
      "  [[0.19887526 0.19909637 0.14781481]\n",
      "   [0.37071462 0.53793514 0.36778182]\n",
      "   [0.74195626 0.77984818 0.72271166]]]\n",
      "\n",
      "\n",
      " [[[0.15911946 0.36414921 0.57036563]\n",
      "   [0.24736814 0.16607483 0.99220205]\n",
      "   [0.90494158 0.24539079 0.50245012]]\n",
      "\n",
      "  [[0.36414921 0.57036563 0.63321128]\n",
      "   [0.16607483 0.99220205 0.8309171 ]\n",
      "   [0.24539079 0.50245012 0.7445267 ]]\n",
      "\n",
      "  [[0.57036563 0.63321128 0.67687376]\n",
      "   [0.99220205 0.8309171  0.14080344]\n",
      "   [0.50245012 0.7445267  0.63734544]]\n",
      "\n",
      "  [[0.63321128 0.67687376 0.27498719]\n",
      "   [0.8309171  0.14080344 0.17362257]\n",
      "   [0.7445267  0.63734544 0.48782127]]\n",
      "\n",
      "  [[0.67687376 0.27498719 0.93461871]\n",
      "   [0.14080344 0.17362257 0.80725687]\n",
      "   [0.63734544 0.48782127 0.81220073]]\n",
      "\n",
      "  [[0.27498719 0.93461871 0.37071462]\n",
      "   [0.17362257 0.80725687 0.74195626]\n",
      "   [0.48782127 0.81220073 0.28932764]]\n",
      "\n",
      "  [[0.93461871 0.37071462 0.53793514]\n",
      "   [0.80725687 0.74195626 0.77984818]\n",
      "   [0.81220073 0.28932764 0.31012463]]\n",
      "\n",
      "  [[0.37071462 0.53793514 0.36778182]\n",
      "   [0.74195626 0.77984818 0.72271166]\n",
      "   [0.28932764 0.31012463 0.90348519]]]\n",
      "\n",
      "\n",
      " [[[0.24736814 0.16607483 0.99220205]\n",
      "   [0.90494158 0.24539079 0.50245012]\n",
      "   [0.3941867  0.04784191 0.93959803]]\n",
      "\n",
      "  [[0.16607483 0.99220205 0.8309171 ]\n",
      "   [0.24539079 0.50245012 0.7445267 ]\n",
      "   [0.04784191 0.93959803 0.25274216]]\n",
      "\n",
      "  [[0.99220205 0.8309171  0.14080344]\n",
      "   [0.50245012 0.7445267  0.63734544]\n",
      "   [0.93959803 0.25274216 0.15078874]]\n",
      "\n",
      "  [[0.8309171  0.14080344 0.17362257]\n",
      "   [0.7445267  0.63734544 0.48782127]\n",
      "   [0.25274216 0.15078874 0.77808344]]\n",
      "\n",
      "  [[0.14080344 0.17362257 0.80725687]\n",
      "   [0.63734544 0.48782127 0.81220073]\n",
      "   [0.15078874 0.77808344 0.76688522]]\n",
      "\n",
      "  [[0.17362257 0.80725687 0.74195626]\n",
      "   [0.48782127 0.81220073 0.28932764]\n",
      "   [0.77808344 0.76688522 0.87244253]]\n",
      "\n",
      "  [[0.80725687 0.74195626 0.77984818]\n",
      "   [0.81220073 0.28932764 0.31012463]\n",
      "   [0.76688522 0.87244253 0.06061954]]\n",
      "\n",
      "  [[0.74195626 0.77984818 0.72271166]\n",
      "   [0.28932764 0.31012463 0.90348519]\n",
      "   [0.87244253 0.06061954 0.00244616]]]\n",
      "\n",
      "\n",
      " [[[0.90494158 0.24539079 0.50245012]\n",
      "   [0.3941867  0.04784191 0.93959803]\n",
      "   [0.65220473 0.52877251 0.75610384]]\n",
      "\n",
      "  [[0.24539079 0.50245012 0.7445267 ]\n",
      "   [0.04784191 0.93959803 0.25274216]\n",
      "   [0.52877251 0.75610384 0.22326313]]\n",
      "\n",
      "  [[0.50245012 0.7445267  0.63734544]\n",
      "   [0.93959803 0.25274216 0.15078874]\n",
      "   [0.75610384 0.22326313 0.89905034]]\n",
      "\n",
      "  [[0.7445267  0.63734544 0.48782127]\n",
      "   [0.25274216 0.15078874 0.77808344]\n",
      "   [0.22326313 0.89905034 0.81780912]]\n",
      "\n",
      "  [[0.63734544 0.48782127 0.81220073]\n",
      "   [0.15078874 0.77808344 0.76688522]\n",
      "   [0.89905034 0.81780912 0.48566598]]\n",
      "\n",
      "  [[0.48782127 0.81220073 0.28932764]\n",
      "   [0.77808344 0.76688522 0.87244253]\n",
      "   [0.81780912 0.48566598 0.16649539]]\n",
      "\n",
      "  [[0.81220073 0.28932764 0.31012463]\n",
      "   [0.76688522 0.87244253 0.06061954]\n",
      "   [0.48566598 0.16649539 0.91683798]]\n",
      "\n",
      "  [[0.28932764 0.31012463 0.90348519]\n",
      "   [0.87244253 0.06061954 0.00244616]\n",
      "   [0.16649539 0.91683798 0.11444936]]]\n",
      "\n",
      "\n",
      " [[[0.3941867  0.04784191 0.93959803]\n",
      "   [0.65220473 0.52877251 0.75610384]\n",
      "   [0.81383692 0.56261598 0.76413413]]\n",
      "\n",
      "  [[0.04784191 0.93959803 0.25274216]\n",
      "   [0.52877251 0.75610384 0.22326313]\n",
      "   [0.56261598 0.76413413 0.18769938]]\n",
      "\n",
      "  [[0.93959803 0.25274216 0.15078874]\n",
      "   [0.75610384 0.22326313 0.89905034]\n",
      "   [0.76413413 0.18769938 0.41881535]]\n",
      "\n",
      "  [[0.25274216 0.15078874 0.77808344]\n",
      "   [0.22326313 0.89905034 0.81780912]\n",
      "   [0.18769938 0.41881535 0.26371191]]\n",
      "\n",
      "  [[0.15078874 0.77808344 0.76688522]\n",
      "   [0.89905034 0.81780912 0.48566598]\n",
      "   [0.41881535 0.26371191 0.04483125]]\n",
      "\n",
      "  [[0.77808344 0.76688522 0.87244253]\n",
      "   [0.81780912 0.48566598 0.16649539]\n",
      "   [0.26371191 0.04483125 0.57588562]]\n",
      "\n",
      "  [[0.76688522 0.87244253 0.06061954]\n",
      "   [0.48566598 0.16649539 0.91683798]\n",
      "   [0.04483125 0.57588562 0.13422268]]\n",
      "\n",
      "  [[0.87244253 0.06061954 0.00244616]\n",
      "   [0.16649539 0.91683798 0.11444936]\n",
      "   [0.57588562 0.13422268 0.63568774]]]]\n"
     ]
    }
   ],
   "source": [
    "matrix = np.random.rand(10, 10)\n",
    "blocks = np.lib.stride_tricks.as_strided(matrix, shape=(8, 8, 3, 3), strides=matrix.strides*2)\n",
    "print(blocks)\n"
   ]
  },
  {
   "cell_type": "markdown",
   "id": "718ac868",
   "metadata": {},
   "source": [
    "#### 86. Consider a set of p matrices with shape (n,n) and a set of p vectors with shape (n,1). How to compute the sum of of the p matrix products at once? (result has shape (n,1)) (★★★)"
   ]
  },
  {
   "cell_type": "code",
   "execution_count": 159,
   "id": "4de05217",
   "metadata": {},
   "outputs": [
    {
     "name": "stdout",
     "output_type": "stream",
     "text": [
      "[[3.17308761]\n",
      " [4.10714004]\n",
      " [4.06919848]]\n"
     ]
    }
   ],
   "source": [
    "matrices = np.random.rand(5, 3, 3)  # 5 matrices of shape (3,3)\n",
    "vectors = np.random.rand(5, 3, 1)   # 5 vectors of shape (3,1)\n",
    "result = np.sum(matrices @ vectors, axis=0)\n",
    "print(result)\n"
   ]
  },
  {
   "cell_type": "markdown",
   "id": "a6eda6f8",
   "metadata": {},
   "source": [
    "#### 87. Consider a 16x16 array, how to get the block-sum (block size is 4x4)? (★★★)"
   ]
  },
  {
   "cell_type": "code",
   "execution_count": 161,
   "id": "286b8db5",
   "metadata": {},
   "outputs": [
    {
     "name": "stdout",
     "output_type": "stream",
     "text": [
      "[[ 7.42914237  7.26033059  8.30908523  7.42456299]\n",
      " [ 9.18718342 10.46864079  9.41240805  5.96700323]\n",
      " [ 8.71886243  7.31594431 10.02649823  7.78975418]\n",
      " [ 8.87080799  8.67064892  6.27225337  8.46822936]]\n"
     ]
    }
   ],
   "source": [
    "arr = np.random.rand(16, 16)\n",
    "block_size = 4\n",
    "block_sum = arr.reshape(4, 4, 4, 4).sum(axis=(2, 3))\n",
    "print(block_sum)\n"
   ]
  },
  {
   "cell_type": "markdown",
   "id": "625aa611",
   "metadata": {},
   "source": [
    "#### 88. How to implement the Game of Life using numpy arrays? (★★★)"
   ]
  },
  {
   "cell_type": "code",
   "execution_count": 163,
   "id": "a01c1ff2",
   "metadata": {},
   "outputs": [
    {
     "name": "stdout",
     "output_type": "stream",
     "text": [
      "[[0 0 0 0 0]\n",
      " [0 0 0 0 0]\n",
      " [0 0 0 0 0]\n",
      " [0 0 0 0 0]\n",
      " [0 0 0 0 0]]\n"
     ]
    }
   ],
   "source": [
    "def game_of_life(board, iterations):\n",
    "    for _ in range(iterations):\n",
    "        neighbors = sum(np.roll(np.roll(board, i, 0), j, 1) for i in range(-1, 2) for j in range(-1, 2)) - board\n",
    "        board = (neighbors == 3) | (board & (neighbors == 2))\n",
    "    return board\n",
    "\n",
    "board = np.random.randint(0, 2, (5, 5))\n",
    "print(game_of_life(board, 10))\n"
   ]
  },
  {
   "cell_type": "markdown",
   "id": "ca3dde4a",
   "metadata": {},
   "source": [
    "#### 89. How to get the n largest values of an array (★★★)"
   ]
  },
  {
   "cell_type": "code",
   "execution_count": 165,
   "id": "5d14148c",
   "metadata": {},
   "outputs": [
    {
     "name": "stdout",
     "output_type": "stream",
     "text": [
      "[0.81146521 0.90440327 0.91384782]\n"
     ]
    }
   ],
   "source": [
    "arr = np.random.rand(10)\n",
    "n = 3\n",
    "largest = np.partition(arr, -n)[-n:]\n",
    "print(largest)\n"
   ]
  },
  {
   "cell_type": "markdown",
   "id": "e233805e",
   "metadata": {},
   "source": [
    "#### 90. Given an arbitrary number of vectors, build the cartesian product (every combinations of every item) (★★★)"
   ]
  },
  {
   "cell_type": "code",
   "execution_count": 167,
   "id": "17638e13",
   "metadata": {},
   "outputs": [
    {
     "name": "stdout",
     "output_type": "stream",
     "text": [
      "[[1 3 5]\n",
      " [1 3 6]\n",
      " [1 4 5]\n",
      " [1 4 6]\n",
      " [2 3 5]\n",
      " [2 3 6]\n",
      " [2 4 5]\n",
      " [2 4 6]]\n"
     ]
    }
   ],
   "source": [
    "from itertools import product\n",
    "\n",
    "vectors = [np.array([1, 2]), np.array([3, 4]), np.array([5, 6])]\n",
    "cartesian_product = np.array(list(product(*vectors)))\n",
    "print(cartesian_product)\n"
   ]
  },
  {
   "cell_type": "markdown",
   "id": "c163f115",
   "metadata": {},
   "source": [
    "#### 91. How to create a record array from a regular array? (★★★)"
   ]
  },
  {
   "cell_type": "code",
   "execution_count": 170,
   "id": "da402514",
   "metadata": {},
   "outputs": [
    {
     "name": "stdout",
     "output_type": "stream",
     "text": [
      "((1, 'a'), (2, 'b'), (3, 'c'))\n"
     ]
    }
   ],
   "source": [
    "arr = np.array([(1, 'a'), (2, 'b'), (3, 'c')], dtype=[('x', 'i4'), ('y', 'U1')])\n",
    "record_array = np.core.records.fromarrays(arr.T, names='x,y')\n",
    "print(record_array)\n"
   ]
  },
  {
   "cell_type": "markdown",
   "id": "049c006e",
   "metadata": {},
   "source": [
    "#### 92. Consider a large vector Z, compute Z to the power of 3 using 3 different methods (★★★)"
   ]
  },
  {
   "cell_type": "code",
   "execution_count": 172,
   "id": "96ce278a",
   "metadata": {},
   "outputs": [
    {
     "name": "stdout",
     "output_type": "stream",
     "text": [
      "[1.43323442e-02 1.71746782e-02 6.32073513e-04 2.48278852e-02\n",
      " 2.41722852e-05] [1.43323442e-02 1.71746782e-02 6.32073513e-04 2.48278852e-02\n",
      " 2.41722852e-05] [1.43323442e-02 1.71746782e-02 6.32073513e-04 2.48278852e-02\n",
      " 2.41722852e-05]\n"
     ]
    }
   ],
   "source": [
    "Z = np.random.rand(1000000)\n",
    "\n",
    "# Method 1: Using the power operator\n",
    "method1 = Z ** 3\n",
    "\n",
    "# Method 2: Using np.power\n",
    "method2 = np.power(Z, 3)\n",
    "\n",
    "# Method 3: Using np.multiply\n",
    "method3 = np.multiply(np.multiply(Z, Z), Z)\n",
    "\n",
    "print(method1[:5], method2[:5], method3[:5])\n"
   ]
  },
  {
   "cell_type": "markdown",
   "id": "6e652635",
   "metadata": {},
   "source": [
    "#### 93. Consider two arrays A and B of shape (8,3) and (2,2). How to find rows of A that contain elements of each row of B regardless of the order of the elements in B? (★★★)"
   ]
  },
  {
   "cell_type": "code",
   "execution_count": 175,
   "id": "f429d6d4",
   "metadata": {},
   "outputs": [
    {
     "name": "stdout",
     "output_type": "stream",
     "text": [
      "[[ 1  2  3]\n",
      " [ 4  5  6]\n",
      " [ 7  8  9]\n",
      " [ 1  5  7]\n",
      " [ 2  3  4]\n",
      " [ 8  9 10]\n",
      " [ 1  3  5]\n",
      " [ 4  6  7]]\n"
     ]
    }
   ],
   "source": [
    "A = np.array([[1, 2, 3], [4, 5, 6], [7, 8, 9], [1, 5, 7], [2, 3, 4], [8, 9, 10], [1, 3, 5], [4, 6, 7]])\n",
    "B = np.array([[2, 3], [5, 6]])\n",
    "\n",
    "result = [row for row in A if any(set(b).issubset(set(row)) for b in B)]\n",
    "print(np.array(result))\n"
   ]
  },
  {
   "cell_type": "markdown",
   "id": "33c4755d",
   "metadata": {},
   "source": [
    "#### 94. Considering a 10x3 matrix, extract rows with unequal values (e.g. [2,2,3]) (★★★)"
   ]
  },
  {
   "cell_type": "code",
   "execution_count": 177,
   "id": "29507586",
   "metadata": {},
   "outputs": [
    {
     "name": "stdout",
     "output_type": "stream",
     "text": [
      "[[1 2 4]\n",
      " [2 3 1]\n",
      " [3 4 2]\n",
      " [4 4 1]\n",
      " [3 3 1]\n",
      " [3 4 1]\n",
      " [3 3 1]\n",
      " [3 1 4]\n",
      " [2 3 4]\n",
      " [2 3 2]]\n"
     ]
    }
   ],
   "source": [
    "matrix = np.random.randint(1, 5, (10, 3))\n",
    "unequal_rows = matrix[np.any(matrix != matrix[:, [0]], axis=1)]\n",
    "print(unequal_rows)\n"
   ]
  },
  {
   "cell_type": "markdown",
   "id": "c9fe158d",
   "metadata": {},
   "source": [
    "#### 95. Convert a vector of ints into a matrix binary representation (★★★)"
   ]
  },
  {
   "cell_type": "code",
   "execution_count": 179,
   "id": "58209fb7",
   "metadata": {},
   "outputs": [
    {
     "name": "stdout",
     "output_type": "stream",
     "text": [
      "[[0 0 0 0 0 0 0 1]\n",
      " [0 0 0 0 0 0 1 0]\n",
      " [0 0 0 0 0 0 1 1]\n",
      " [0 0 0 0 0 1 0 0]]\n"
     ]
    }
   ],
   "source": [
    "arr = np.array([1, 2, 3, 4])\n",
    "binary_matrix = np.array([list(format(i, '08b')) for i in arr], dtype=int)\n",
    "print(binary_matrix)\n"
   ]
  },
  {
   "cell_type": "markdown",
   "id": "f60086c9",
   "metadata": {},
   "source": [
    "#### 96. Given a two dimensional array, how to extract unique rows? (★★★)"
   ]
  },
  {
   "cell_type": "code",
   "execution_count": 181,
   "id": "787b6e4c",
   "metadata": {},
   "outputs": [
    {
     "name": "stdout",
     "output_type": "stream",
     "text": [
      "[[3 1 3]\n",
      " [3 2 3]\n",
      " [3 4 4]\n",
      " [4 2 4]\n",
      " [4 4 2]]\n"
     ]
    }
   ],
   "source": [
    "matrix = np.random.randint(1, 5, (5, 3))\n",
    "unique_rows = np.unique(matrix, axis=0)\n",
    "print(unique_rows)\n"
   ]
  },
  {
   "cell_type": "markdown",
   "id": "0f5e1299",
   "metadata": {},
   "source": [
    "#### 97. Considering 2 vectors A & B, write the einsum equivalent of inner, outer, sum, and mul function (★★★)"
   ]
  },
  {
   "cell_type": "code",
   "execution_count": 183,
   "id": "cd2a8214",
   "metadata": {},
   "outputs": [
    {
     "name": "stdout",
     "output_type": "stream",
     "text": [
      "32 [[ 4  5  6]\n",
      " [ 8 10 12]\n",
      " [12 15 18]] 6 [ 4 10 18]\n"
     ]
    }
   ],
   "source": [
    "A = np.array([1, 2, 3])\n",
    "B = np.array([4, 5, 6])\n",
    "\n",
    "# Inner product\n",
    "inner = np.einsum('i,i->', A, B)\n",
    "\n",
    "# Outer product\n",
    "outer = np.einsum('i,j->ij', A, B)\n",
    "\n",
    "# Sum\n",
    "sum_result = np.einsum('i->', A)\n",
    "\n",
    "# Element-wise multiplication\n",
    "mul = np.einsum('i,i->i', A, B)\n",
    "\n",
    "print(inner, outer, sum_result, mul)\n"
   ]
  },
  {
   "cell_type": "markdown",
   "id": "a04dd898",
   "metadata": {},
   "source": [
    "#### 98. Considering a path described by two vectors (X,Y), how to sample it using equidistant samples (★★★)?"
   ]
  },
  {
   "cell_type": "code",
   "execution_count": 185,
   "id": "12d9c30f",
   "metadata": {},
   "outputs": [
    {
     "name": "stdout",
     "output_type": "stream",
     "text": [
      "[0.         1.31770269 2.05123811 2.52561906 3.        ] [0.         1.95310807 4.25619057 6.62809529 9.        ]\n"
     ]
    }
   ],
   "source": [
    "X = np.array([0, 1, 2, 3])\n",
    "Y = np.array([0, 1, 4, 9])\n",
    "\n",
    "# Parametrize the path\n",
    "distances = np.cumsum(np.sqrt(np.diff(X)**2 + np.diff(Y)**2))\n",
    "distances = np.insert(distances, 0, 0)\n",
    "\n",
    "# Sample equidistant points\n",
    "n_samples = 5\n",
    "target_distances = np.linspace(0, distances[-1], n_samples)\n",
    "sampled_X = np.interp(target_distances, distances, X)\n",
    "sampled_Y = np.interp(target_distances, distances, Y)\n",
    "\n",
    "print(sampled_X, sampled_Y)\n"
   ]
  },
  {
   "cell_type": "markdown",
   "id": "b45bf2ae",
   "metadata": {},
   "source": [
    "#### 99. Given an integer n and a 2D array X, select from X the rows which can be interpreted as draws from a multinomial distribution with n degrees, i.e., the rows which only contain integers and which sum to n. (★★★)"
   ]
  },
  {
   "cell_type": "code",
   "execution_count": null,
   "id": "f4179f4a",
   "metadata": {},
   "outputs": [],
   "source": [
    "n = 5\n",
    "X = np.random.randint(0, 10, (10, 3))\n",
    "\n",
    "valid_rows = X[np.all(np.mod(X, 1) == 0, axis=1) & (X.sum(axis=1) == n)]\n",
    "print(valid_rows)\n"
   ]
  },
  {
   "cell_type": "markdown",
   "id": "d92b6592",
   "metadata": {},
   "source": [
    "#### 100. Compute bootstrapped 95% confidence intervals for the mean of a 1D array X (i.e., resample the elements of an array with replacement N times, compute the mean of each sample, and then compute percentiles over the means). (★★★)"
   ]
  },
  {
   "cell_type": "code",
   "execution_count": null,
   "id": "256ebe30",
   "metadata": {},
   "outputs": [],
   "source": []
  }
 ],
 "metadata": {
  "kernelspec": {
   "display_name": "Python 3 (ipykernel)",
   "language": "python",
   "name": "python3"
  },
  "language_info": {
   "codemirror_mode": {
    "name": "ipython",
    "version": 3
   },
   "file_extension": ".py",
   "mimetype": "text/x-python",
   "name": "python",
   "nbconvert_exporter": "python",
   "pygments_lexer": "ipython3",
   "version": "3.12.3"
  }
 },
 "nbformat": 4,
 "nbformat_minor": 5
}
